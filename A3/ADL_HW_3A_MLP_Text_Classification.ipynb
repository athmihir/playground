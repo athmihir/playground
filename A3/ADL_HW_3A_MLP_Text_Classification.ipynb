{
  "cells": [
    {
      "cell_type": "code",
      "execution_count": 1,
      "id": "5db00378",
      "metadata": {
        "colab": {
          "base_uri": "https://localhost:8080/"
        },
        "id": "5db00378",
        "outputId": "77a0d8cb-3e26-4a30-b6bd-4bfad3880803"
      },
      "outputs": [
        {
          "name": "stdout",
          "output_type": "stream",
          "text": [
            "Requirement already satisfied: portalocker in ./.venv/lib/python3.10/site-packages (3.1.1)\n",
            "Requirement already satisfied: torchmetrics in ./.venv/lib/python3.10/site-packages (1.6.2)\n",
            "Requirement already satisfied: numpy>1.20.0 in ./.venv/lib/python3.10/site-packages (from torchmetrics) (1.26.0)\n",
            "Requirement already satisfied: packaging>17.1 in ./.venv/lib/python3.10/site-packages (from torchmetrics) (24.2)\n",
            "Requirement already satisfied: torch>=2.0.0 in ./.venv/lib/python3.10/site-packages (from torchmetrics) (2.2.0+cu121)\n",
            "Requirement already satisfied: lightning-utilities>=0.8.0 in ./.venv/lib/python3.10/site-packages (from torchmetrics) (0.14.0)\n",
            "Requirement already satisfied: setuptools in ./.venv/lib/python3.10/site-packages (from lightning-utilities>=0.8.0->torchmetrics) (75.8.2)\n",
            "Requirement already satisfied: typing_extensions in ./.venv/lib/python3.10/site-packages (from lightning-utilities>=0.8.0->torchmetrics) (4.12.2)\n",
            "Requirement already satisfied: filelock in ./.venv/lib/python3.10/site-packages (from torch>=2.0.0->torchmetrics) (3.17.0)\n",
            "Requirement already satisfied: sympy in ./.venv/lib/python3.10/site-packages (from torch>=2.0.0->torchmetrics) (1.13.1)\n",
            "Requirement already satisfied: networkx in ./.venv/lib/python3.10/site-packages (from torch>=2.0.0->torchmetrics) (3.4.2)\n",
            "Requirement already satisfied: jinja2 in ./.venv/lib/python3.10/site-packages (from torch>=2.0.0->torchmetrics) (3.1.6)\n",
            "Requirement already satisfied: fsspec in ./.venv/lib/python3.10/site-packages (from torch>=2.0.0->torchmetrics) (2025.3.0)\n",
            "Requirement already satisfied: nvidia-cuda-nvrtc-cu12==12.1.105 in ./.venv/lib/python3.10/site-packages (from torch>=2.0.0->torchmetrics) (12.1.105)\n",
            "Requirement already satisfied: nvidia-cuda-runtime-cu12==12.1.105 in ./.venv/lib/python3.10/site-packages (from torch>=2.0.0->torchmetrics) (12.1.105)\n",
            "Requirement already satisfied: nvidia-cuda-cupti-cu12==12.1.105 in ./.venv/lib/python3.10/site-packages (from torch>=2.0.0->torchmetrics) (12.1.105)\n",
            "Requirement already satisfied: nvidia-cudnn-cu12==8.9.2.26 in ./.venv/lib/python3.10/site-packages (from torch>=2.0.0->torchmetrics) (8.9.2.26)\n",
            "Requirement already satisfied: nvidia-cublas-cu12==12.1.3.1 in ./.venv/lib/python3.10/site-packages (from torch>=2.0.0->torchmetrics) (12.1.3.1)\n",
            "Requirement already satisfied: nvidia-cufft-cu12==11.0.2.54 in ./.venv/lib/python3.10/site-packages (from torch>=2.0.0->torchmetrics) (11.0.2.54)\n",
            "Requirement already satisfied: nvidia-curand-cu12==10.3.2.106 in ./.venv/lib/python3.10/site-packages (from torch>=2.0.0->torchmetrics) (10.3.2.106)\n",
            "Requirement already satisfied: nvidia-cusolver-cu12==11.4.5.107 in ./.venv/lib/python3.10/site-packages (from torch>=2.0.0->torchmetrics) (11.4.5.107)\n",
            "Requirement already satisfied: nvidia-cusparse-cu12==12.1.0.106 in ./.venv/lib/python3.10/site-packages (from torch>=2.0.0->torchmetrics) (12.1.0.106)\n",
            "Requirement already satisfied: nvidia-nccl-cu12==2.19.3 in ./.venv/lib/python3.10/site-packages (from torch>=2.0.0->torchmetrics) (2.19.3)\n",
            "Requirement already satisfied: nvidia-nvtx-cu12==12.1.105 in ./.venv/lib/python3.10/site-packages (from torch>=2.0.0->torchmetrics) (12.1.105)\n",
            "Requirement already satisfied: triton==2.2.0 in ./.venv/lib/python3.10/site-packages (from torch>=2.0.0->torchmetrics) (2.2.0)\n",
            "Requirement already satisfied: nvidia-nvjitlink-cu12 in ./.venv/lib/python3.10/site-packages (from nvidia-cusolver-cu12==11.4.5.107->torch>=2.0.0->torchmetrics) (12.4.127)\n",
            "Requirement already satisfied: MarkupSafe>=2.0 in ./.venv/lib/python3.10/site-packages (from jinja2->torch>=2.0.0->torchmetrics) (3.0.2)\n",
            "Requirement already satisfied: mpmath<1.4,>=1.1.0 in ./.venv/lib/python3.10/site-packages (from sympy->torch>=2.0.0->torchmetrics) (1.3.0)\n",
            "Looking in indexes: https://download.pytorch.org/whl/cu121\n",
            "Requirement already satisfied: torch==2.2.0 in ./.venv/lib/python3.10/site-packages (2.2.0+cu121)\n",
            "Requirement already satisfied: torchvision==0.17.0 in ./.venv/lib/python3.10/site-packages (0.17.0+cu121)\n",
            "Requirement already satisfied: torchaudio==2.2.0 in ./.venv/lib/python3.10/site-packages (2.2.0+cu121)\n",
            "Requirement already satisfied: torchtext==0.17.0 in ./.venv/lib/python3.10/site-packages (0.17.0+cpu)\n",
            "Requirement already satisfied: filelock in ./.venv/lib/python3.10/site-packages (from torch==2.2.0) (3.17.0)\n",
            "Requirement already satisfied: typing-extensions>=4.8.0 in ./.venv/lib/python3.10/site-packages (from torch==2.2.0) (4.12.2)\n",
            "Requirement already satisfied: sympy in ./.venv/lib/python3.10/site-packages (from torch==2.2.0) (1.13.1)\n",
            "Requirement already satisfied: networkx in ./.venv/lib/python3.10/site-packages (from torch==2.2.0) (3.4.2)\n",
            "Requirement already satisfied: jinja2 in ./.venv/lib/python3.10/site-packages (from torch==2.2.0) (3.1.6)\n",
            "Requirement already satisfied: fsspec in ./.venv/lib/python3.10/site-packages (from torch==2.2.0) (2025.3.0)\n",
            "Requirement already satisfied: nvidia-cuda-nvrtc-cu12==12.1.105 in ./.venv/lib/python3.10/site-packages (from torch==2.2.0) (12.1.105)\n",
            "Requirement already satisfied: nvidia-cuda-runtime-cu12==12.1.105 in ./.venv/lib/python3.10/site-packages (from torch==2.2.0) (12.1.105)\n",
            "Requirement already satisfied: nvidia-cuda-cupti-cu12==12.1.105 in ./.venv/lib/python3.10/site-packages (from torch==2.2.0) (12.1.105)\n",
            "Requirement already satisfied: nvidia-cudnn-cu12==8.9.2.26 in ./.venv/lib/python3.10/site-packages (from torch==2.2.0) (8.9.2.26)\n",
            "Requirement already satisfied: nvidia-cublas-cu12==12.1.3.1 in ./.venv/lib/python3.10/site-packages (from torch==2.2.0) (12.1.3.1)\n",
            "Requirement already satisfied: nvidia-cufft-cu12==11.0.2.54 in ./.venv/lib/python3.10/site-packages (from torch==2.2.0) (11.0.2.54)\n",
            "Requirement already satisfied: nvidia-curand-cu12==10.3.2.106 in ./.venv/lib/python3.10/site-packages (from torch==2.2.0) (10.3.2.106)\n",
            "Requirement already satisfied: nvidia-cusolver-cu12==11.4.5.107 in ./.venv/lib/python3.10/site-packages (from torch==2.2.0) (11.4.5.107)\n",
            "Requirement already satisfied: nvidia-cusparse-cu12==12.1.0.106 in ./.venv/lib/python3.10/site-packages (from torch==2.2.0) (12.1.0.106)\n",
            "Requirement already satisfied: nvidia-nccl-cu12==2.19.3 in ./.venv/lib/python3.10/site-packages (from torch==2.2.0) (2.19.3)\n",
            "Requirement already satisfied: nvidia-nvtx-cu12==12.1.105 in ./.venv/lib/python3.10/site-packages (from torch==2.2.0) (12.1.105)\n",
            "Requirement already satisfied: triton==2.2.0 in ./.venv/lib/python3.10/site-packages (from torch==2.2.0) (2.2.0)\n",
            "Requirement already satisfied: numpy in ./.venv/lib/python3.10/site-packages (from torchvision==0.17.0) (1.26.0)\n",
            "Requirement already satisfied: requests in ./.venv/lib/python3.10/site-packages (from torchvision==0.17.0) (2.28.1)\n",
            "Requirement already satisfied: pillow!=8.3.*,>=5.3.0 in ./.venv/lib/python3.10/site-packages (from torchvision==0.17.0) (11.0.0)\n",
            "Requirement already satisfied: tqdm in ./.venv/lib/python3.10/site-packages (from torchtext==0.17.0) (4.66.5)\n",
            "Requirement already satisfied: torchdata==0.7.1 in ./.venv/lib/python3.10/site-packages (from torchtext==0.17.0) (0.7.1)\n",
            "Requirement already satisfied: nvidia-nvjitlink-cu12 in ./.venv/lib/python3.10/site-packages (from nvidia-cusolver-cu12==11.4.5.107->torch==2.2.0) (12.4.127)\n",
            "Requirement already satisfied: urllib3>=1.25 in ./.venv/lib/python3.10/site-packages (from torchdata==0.7.1->torchtext==0.17.0) (1.26.13)\n",
            "Requirement already satisfied: MarkupSafe>=2.0 in ./.venv/lib/python3.10/site-packages (from jinja2->torch==2.2.0) (3.0.2)\n",
            "Requirement already satisfied: charset-normalizer<3,>=2 in ./.venv/lib/python3.10/site-packages (from requests->torchvision==0.17.0) (2.1.1)\n",
            "Requirement already satisfied: idna<4,>=2.5 in ./.venv/lib/python3.10/site-packages (from requests->torchvision==0.17.0) (3.4)\n",
            "Requirement already satisfied: certifi>=2017.4.17 in ./.venv/lib/python3.10/site-packages (from requests->torchvision==0.17.0) (2022.12.7)\n",
            "Requirement already satisfied: mpmath<1.4,>=1.1.0 in ./.venv/lib/python3.10/site-packages (from sympy->torch==2.2.0) (1.3.0)\n",
            "Requirement already satisfied: torchdata in ./.venv/lib/python3.10/site-packages (0.7.1)\n",
            "Requirement already satisfied: urllib3>=1.25 in ./.venv/lib/python3.10/site-packages (from torchdata) (1.26.13)\n",
            "Requirement already satisfied: requests in ./.venv/lib/python3.10/site-packages (from torchdata) (2.28.1)\n",
            "Requirement already satisfied: torch>=2 in ./.venv/lib/python3.10/site-packages (from torchdata) (2.2.0+cu121)\n",
            "Requirement already satisfied: filelock in ./.venv/lib/python3.10/site-packages (from torch>=2->torchdata) (3.17.0)\n",
            "Requirement already satisfied: typing-extensions>=4.8.0 in ./.venv/lib/python3.10/site-packages (from torch>=2->torchdata) (4.12.2)\n",
            "Requirement already satisfied: sympy in ./.venv/lib/python3.10/site-packages (from torch>=2->torchdata) (1.13.1)\n",
            "Requirement already satisfied: networkx in ./.venv/lib/python3.10/site-packages (from torch>=2->torchdata) (3.4.2)\n",
            "Requirement already satisfied: jinja2 in ./.venv/lib/python3.10/site-packages (from torch>=2->torchdata) (3.1.6)\n",
            "Requirement already satisfied: fsspec in ./.venv/lib/python3.10/site-packages (from torch>=2->torchdata) (2025.3.0)\n",
            "Requirement already satisfied: nvidia-cuda-nvrtc-cu12==12.1.105 in ./.venv/lib/python3.10/site-packages (from torch>=2->torchdata) (12.1.105)\n",
            "Requirement already satisfied: nvidia-cuda-runtime-cu12==12.1.105 in ./.venv/lib/python3.10/site-packages (from torch>=2->torchdata) (12.1.105)\n",
            "Requirement already satisfied: nvidia-cuda-cupti-cu12==12.1.105 in ./.venv/lib/python3.10/site-packages (from torch>=2->torchdata) (12.1.105)\n",
            "Requirement already satisfied: nvidia-cudnn-cu12==8.9.2.26 in ./.venv/lib/python3.10/site-packages (from torch>=2->torchdata) (8.9.2.26)\n",
            "Requirement already satisfied: nvidia-cublas-cu12==12.1.3.1 in ./.venv/lib/python3.10/site-packages (from torch>=2->torchdata) (12.1.3.1)\n",
            "Requirement already satisfied: nvidia-cufft-cu12==11.0.2.54 in ./.venv/lib/python3.10/site-packages (from torch>=2->torchdata) (11.0.2.54)\n",
            "Requirement already satisfied: nvidia-curand-cu12==10.3.2.106 in ./.venv/lib/python3.10/site-packages (from torch>=2->torchdata) (10.3.2.106)\n",
            "Requirement already satisfied: nvidia-cusolver-cu12==11.4.5.107 in ./.venv/lib/python3.10/site-packages (from torch>=2->torchdata) (11.4.5.107)\n",
            "Requirement already satisfied: nvidia-cusparse-cu12==12.1.0.106 in ./.venv/lib/python3.10/site-packages (from torch>=2->torchdata) (12.1.0.106)\n",
            "Requirement already satisfied: nvidia-nccl-cu12==2.19.3 in ./.venv/lib/python3.10/site-packages (from torch>=2->torchdata) (2.19.3)\n",
            "Requirement already satisfied: nvidia-nvtx-cu12==12.1.105 in ./.venv/lib/python3.10/site-packages (from torch>=2->torchdata) (12.1.105)\n",
            "Requirement already satisfied: triton==2.2.0 in ./.venv/lib/python3.10/site-packages (from torch>=2->torchdata) (2.2.0)\n",
            "Requirement already satisfied: nvidia-nvjitlink-cu12 in ./.venv/lib/python3.10/site-packages (from nvidia-cusolver-cu12==11.4.5.107->torch>=2->torchdata) (12.4.127)\n",
            "Requirement already satisfied: charset-normalizer<3,>=2 in ./.venv/lib/python3.10/site-packages (from requests->torchdata) (2.1.1)\n",
            "Requirement already satisfied: idna<4,>=2.5 in ./.venv/lib/python3.10/site-packages (from requests->torchdata) (3.4)\n",
            "Requirement already satisfied: certifi>=2017.4.17 in ./.venv/lib/python3.10/site-packages (from requests->torchdata) (2022.12.7)\n",
            "Requirement already satisfied: MarkupSafe>=2.0 in ./.venv/lib/python3.10/site-packages (from jinja2->torch>=2->torchdata) (3.0.2)\n",
            "Requirement already satisfied: mpmath<1.4,>=1.1.0 in ./.venv/lib/python3.10/site-packages (from sympy->torch>=2->torchdata) (1.3.0)\n"
          ]
        }
      ],
      "source": [
        "!pip install portalocker\n",
        "!pip install torchmetrics\n",
        "!pip install torch==2.2.0 torchvision==0.17.0 torchaudio==2.2.0 torchtext==0.17.0 --index-url https://download.pytorch.org/whl/cu121\n",
        "!pip install torchdata"
      ]
    },
    {
      "cell_type": "code",
      "execution_count": 2,
      "id": "OzgMJwpmc0iC",
      "metadata": {
        "id": "OzgMJwpmc0iC"
      },
      "outputs": [],
      "source": [
        "import argparse\n",
        "import logging\n",
        "import time\n",
        "import torch\n",
        "from torch.utils.data import DataLoader\n",
        "from torch.utils.data.dataset import random_split\n",
        "import torchtext\n",
        "from torchtext.data.functional import to_map_style_dataset\n",
        "from torchtext.data.utils import get_tokenizer, ngrams_iterator\n",
        "from torchtext.datasets import DATASETS\n",
        "from torchtext.utils import download_from_url\n",
        "from torchtext.vocab import build_vocab_from_iterator\n",
        "import torch.nn as nn\n",
        "from torch.nn.utils.rnn import pad_sequence\n",
        "import torch.nn.functional as F\n",
        "import torchmetrics\n",
        "\n",
        "_FILL_ = '_FILL_'\n",
        "SEED = 1"
      ]
    },
    {
      "cell_type": "markdown",
      "id": "kh4pAKXgy0tH",
      "metadata": {
        "id": "kh4pAKXgy0tH"
      },
      "source": [
        "For any of these questions, insert code where there is `_FILL_` so that this notebooks runs correctly."
      ]
    },
    {
      "cell_type": "markdown",
      "id": "fHdrXN4d1M_2",
      "metadata": {
        "id": "fHdrXN4d1M_2"
      },
      "source": [
        "Short Question\n",
        "\n",
        "Set up the optimization problem below where we take a random y of data and want theta to converge to this y."
      ]
    },
    {
      "cell_type": "code",
      "execution_count": 3,
      "id": "8OsAbUVezIwD",
      "metadata": {
        "colab": {
          "base_uri": "https://localhost:8080/"
        },
        "id": "8OsAbUVezIwD",
        "outputId": "930627bc-2b53-4bc7-f8d5-cda783b6f14f"
      },
      "outputs": [
        {
          "name": "stdout",
          "output_type": "stream",
          "text": [
            "Epoch:0 Loss: 0.07349434494972229\n",
            "Epoch:1 Loss: 0.07251769304275513\n",
            "Epoch:2 Loss: 0.07155401259660721\n",
            "Epoch:3 Loss: 0.070603147149086\n",
            "Epoch:4 Loss: 0.06966491788625717\n",
            "Epoch:5 Loss: 0.068739153444767\n",
            "Epoch:6 Loss: 0.06782569736242294\n",
            "Epoch:7 Loss: 0.06692437082529068\n",
            "Epoch:8 Loss: 0.06603501737117767\n",
            "Epoch:9 Loss: 0.06515748053789139\n",
            "Epoch:10 Loss: 0.06429161876440048\n",
            "Epoch:11 Loss: 0.06343724578619003\n",
            "Epoch:12 Loss: 0.06259423494338989\n",
            "Epoch:13 Loss: 0.06176242604851723\n",
            "Epoch:14 Loss: 0.060941677540540695\n",
            "Epoch:15 Loss: 0.060131821781396866\n",
            "Epoch:16 Loss: 0.059332747012376785\n",
            "Epoch:17 Loss: 0.058544278144836426\n",
            "Epoch:18 Loss: 0.05776628479361534\n",
            "Epoch:19 Loss: 0.05699862912297249\n",
            "Epoch:20 Loss: 0.05624118074774742\n",
            "Epoch:21 Loss: 0.0554937981069088\n",
            "Epoch:22 Loss: 0.054756347090005875\n",
            "Epoch:23 Loss: 0.0540287010371685\n",
            "Epoch:24 Loss: 0.053310710936784744\n",
            "Epoch:25 Loss: 0.05260227248072624\n",
            "Epoch:26 Loss: 0.05190324783325195\n",
            "Epoch:27 Loss: 0.05121350660920143\n",
            "Epoch:28 Loss: 0.05053293704986572\n",
            "Epoch:29 Loss: 0.04986141249537468\n",
            "Epoch:30 Loss: 0.049198806285858154\n",
            "Epoch:31 Loss: 0.04854500666260719\n",
            "Epoch:32 Loss: 0.04789990186691284\n",
            "Epoch:33 Loss: 0.04726335406303406\n",
            "Epoch:34 Loss: 0.046635281294584274\n",
            "Epoch:35 Loss: 0.04601554945111275\n",
            "Epoch:36 Loss: 0.04540405049920082\n",
            "Epoch:37 Loss: 0.04480068013072014\n",
            "Epoch:38 Loss: 0.044205326586961746\n",
            "Epoch:39 Loss: 0.043617889285087585\n",
            "Epoch:40 Loss: 0.043038252741098404\n",
            "Epoch:41 Loss: 0.04246631637215614\n",
            "Epoch:42 Loss: 0.04190199077129364\n",
            "Epoch:43 Loss: 0.04134516045451164\n",
            "Epoch:44 Loss: 0.04079573228955269\n",
            "Epoch:45 Loss: 0.04025360196828842\n",
            "Epoch:46 Loss: 0.03971867263317108\n",
            "Epoch:47 Loss: 0.03919085115194321\n",
            "Epoch:48 Loss: 0.03867005184292793\n",
            "Epoch:49 Loss: 0.038156166672706604\n",
            "Epoch:50 Loss: 0.03764912113547325\n",
            "Epoch:51 Loss: 0.03714881092309952\n",
            "Epoch:52 Loss: 0.03665513917803764\n",
            "Epoch:53 Loss: 0.03616803511977196\n",
            "Epoch:54 Loss: 0.035687405616045\n",
            "Epoch:55 Loss: 0.035213153809309006\n",
            "Epoch:56 Loss: 0.034745216369628906\n",
            "Epoch:57 Loss: 0.034283485263586044\n",
            "Epoch:58 Loss: 0.033827900886535645\n",
            "Epoch:59 Loss: 0.03337836638092995\n",
            "Epoch:60 Loss: 0.03293481096625328\n",
            "Epoch:61 Loss: 0.03249714523553848\n",
            "Epoch:62 Loss: 0.032065290957689285\n",
            "Epoch:63 Loss: 0.031639184802770615\n",
            "Epoch:64 Loss: 0.03121873550117016\n",
            "Epoch:65 Loss: 0.030803866684436798\n",
            "Epoch:66 Loss: 0.03039451688528061\n",
            "Epoch:67 Loss: 0.029990611597895622\n",
            "Epoch:68 Loss: 0.02959207259118557\n",
            "Epoch:69 Loss: 0.029198825359344482\n",
            "Epoch:70 Loss: 0.028810808435082436\n",
            "Epoch:71 Loss: 0.02842794358730316\n",
            "Epoch:72 Loss: 0.028050163760781288\n",
            "Epoch:73 Loss: 0.027677403762936592\n",
            "Epoch:74 Loss: 0.02730960212647915\n",
            "Epoch:75 Loss: 0.026946688070893288\n",
            "Epoch:76 Loss: 0.026588596403598785\n",
            "Epoch:77 Loss: 0.02623526193201542\n",
            "Epoch:78 Loss: 0.025886623188853264\n",
            "Epoch:79 Loss: 0.025542616844177246\n",
            "Epoch:80 Loss: 0.025203188881278038\n",
            "Epoch:81 Loss: 0.02486826479434967\n",
            "Epoch:82 Loss: 0.024537792429327965\n",
            "Epoch:83 Loss: 0.024211710318922997\n",
            "Epoch:84 Loss: 0.02388995885848999\n",
            "Epoch:85 Loss: 0.023572487756609917\n",
            "Epoch:86 Loss: 0.023259237408638\n",
            "Epoch:87 Loss: 0.022950144484639168\n",
            "Epoch:88 Loss: 0.022645166143774986\n",
            "Epoch:89 Loss: 0.022344231605529785\n",
            "Epoch:90 Loss: 0.02204730175435543\n",
            "Epoch:91 Loss: 0.021754318848252296\n",
            "Epoch:92 Loss: 0.021465232595801353\n",
            "Epoch:93 Loss: 0.021179987117648125\n",
            "Epoch:94 Loss: 0.020898526534438133\n",
            "Epoch:95 Loss: 0.02062080428004265\n",
            "Epoch:96 Loss: 0.020346777513623238\n",
            "Epoch:97 Loss: 0.020076392218470573\n",
            "Epoch:98 Loss: 0.019809596240520477\n",
            "Epoch:99 Loss: 0.019546348601579666\n",
            "tensor([[0.7576, 0.2793, 0.4031]])\n",
            "tensor([[0.7459, 0.1512, 0.6063]], requires_grad=True)\n"
          ]
        }
      ],
      "source": [
        "from torch._functorch.vmap import lazy_load_decompositions\n",
        "# Short Question\n",
        "\n",
        "torch.manual_seed(SEED)\n",
        "# Define y to be a target of dimension (1, 3) without a gradient\n",
        "y = torch.rand((1,3), requires_grad=False)\n",
        "\n",
        "# Define theta to be a random tensor of dimension (1, 3) which requires a gradient; we want theta to converge to y\n",
        "theta = torch.rand((1,3), requires_grad=True)\n",
        "\n",
        "\n",
        "# Define an SGD optimizer with learning rate 0.01 which acts on theta\n",
        "optimizer = torch.optim.SGD([theta], lr=0.01)\n",
        "\n",
        "# Fil in the code below using the optimizer above to get theta to converge to y\n",
        "for epoch in range(100):\n",
        "  # Zero out the gradients of l with respect to theta\n",
        "  optimizer.zero_grad()\n",
        "\n",
        "  # Define a loss manually which is ||theta-x||_{2}^{2}, the L2 loss across all components\n",
        "  loss = torch.mean((theta - y) ** 2)\n",
        "\n",
        "  print('Epoch:{} Loss: {}'.format(epoch, loss))\n",
        "\n",
        "  # Get teh gradients of l with respect to theta\n",
        "  loss.backward()\n",
        "\n",
        "  # Update theta\n",
        "  optimizer.step()\n",
        "\n",
        "# These should look very similar\n",
        "print(y)\n",
        "print(theta)\n",
        "with torch.no_grad():\n",
        "  # Check the y and theta have converged to almost the same thing\n",
        "  loss = torch.mean((theta - y) ** 2)\n",
        "  assert (loss.item() - 0.0)**2 <= 0.001"
      ]
    },
    {
      "cell_type": "code",
      "execution_count": 28,
      "id": "MgA6DK8R3BUU",
      "metadata": {
        "id": "MgA6DK8R3BUU"
      },
      "outputs": [],
      "source": [
        "# Suppose we forget optimizer.zero_grad()\n",
        "# Given an example of what this does and why we WOULD want to do this\n",
        "# Hint: if you are doing batch gradient descent and call optimizer.zero_grad() every 3 batches, what is the gradient represent?\n",
        "\n",
        "ANSWER = '''\n",
        "If we do not set the optimizer gradients to zero, they would accumulate on every iteration of the DataLoader.\n",
        "When we perform loss.backward, these gradients would just accumulate in the model's .grad attribute until we apply them.\n",
        "If we cleared them every 3 batches then, it would be akin to multiplying the original BATCH_SIZE by 3 since we accumulate the gradients first.\n",
        "This can be done when you want to have a larger batch size but have limited space on your GPU.\n",
        "'''"
      ]
    },
    {
      "cell_type": "markdown",
      "id": "f5tQSyJ9cIOU",
      "metadata": {
        "id": "f5tQSyJ9cIOU"
      },
      "source": [
        "# Neural Text Classifier - Information\n",
        "\n",
        "For this problem, you will build a basic Neural Text Classifier. The problem will take you through some of the steps needed to be done, including the preprocessing.\n",
        "\n",
        "There is alot of helper code here, but your task is to add in code that has `_FILL_` specified. All assertions should pass.\n",
        "\n",
        "The at a high level, the idea of this model goes as follows.\n",
        "- We are given a training set $\\{(x^{(i)}, y^{(i)})\\}_{i=1}^{N}$ where each $x^{(i)}$ is a sentence and $y^{(i)}$ is a class label.\n",
        "- First, we need to loop over $\\{x^{(i)}\\}_{i=1}^{N}$ and get the Vocabulary, the number of unique words we see.\n",
        "- Once we do this, we will express each word as a one-hot representation. To do this, we will use a mapping from a unique word to an integer. For example, \"the\" might get index 3 and if there are 10 words (in the entire Vocabulary) then \"the\" would have a vector representation $x_{the} = (0,0,1,0,0,0,0,0,0,0)$. There will be many words in this Vocabulary, over 13,000. For this example, each word is mapped to a unique integer.\n",
        "- We will feed batches of data to the model and each batch will be transformed into a tensor with words each word transformed to its integer index in VOCAB below.\n",
        "- For example, we might get [[\"the man walks\"], [\"this is a sentence\"]] -> [[\"the\", \"man\", \"walks\"], [\"this\", \"is\", \"a\", \"sentence\"]] -> [[1, 4, 5], [6, 7, 8, 15]]. It depends on what unique integer each word gets.\n",
        "- Different sentences have different numbers of tokens but all batches need to be the same dimension (this is how PyTorch works), so we need a padding token. So, for example, if the batch size is B = 2 and we given two sentences like [\"a b c\", \"a b c d e\"] then as a tensor this will become [[1, 2, 3, 0, 0], [1, 2, 3, 4, 5]] and notice that we padded the first example so that the tensor is of dimension (2, 5) with M = 5. In some sense, in each batch we need to figure out the maximum number of tokens for an instance and pad each instance to have the same length as this longest instance. To do the above, use the [collate function](https://stackoverflow.com/questions/65279115/how-to-use-collate-fn-with-dataloaders). The idea here is that the Dataloader takes in raw data and the collate function is applied to this data, returning formatting tensors we can use later on in the optimization. You'll fill this in, using the hints.  \n",
        "- After padding, we feed batches of data to the classifier, these are of dimension (B, M). For example, we have a batch size of 2 above and M = 5. This will depend on the batch but here the batch size is B.\n",
        "- Once we feed in (B, M) data to the network, we rewrite this as (B, M, vocab_size) by using a one-hot representation for each word.\n",
        "- Then, we do as it hints in the model's forward method. We first take an average agross all the M elements of each element of the batch to get a (B, vocab_size) tensor that represents each instance. We pass this tensor through linear layer and nonlinear layers as unusual. The model returns logits, without the Softmax applied. This is a multiclass classfication task.\n",
        "\n",
        "Finally, we optimize the network and check it's train and validation set accuracies. We'll use both direct methods and torchmetrics to do this. See the Comments for hints on what you need to fill in."
      ]
    },
    {
      "cell_type": "markdown",
      "id": "dcb35e9c",
      "metadata": {
        "id": "dcb35e9c"
      },
      "source": [
        "### Information (if interested in more)\n",
        "- torchtext repo: https://github.com/pytorch/text/tree/main/torchtext\n",
        "- torchtext documentation: https://pytorch.org/text/stable/index.html\n",
        "- collate function: https://stackoverflow.com/questions/65279115/how-to-use-collate-fn-with-dataloaders\n",
        "- embedding layer: https://pytorch.org/docs/stable/generated/torch.nn.Embedding.html"
      ]
    },
    {
      "cell_type": "markdown",
      "id": "b9140e3c",
      "metadata": {
        "id": "b9140e3c"
      },
      "source": [
        "### Constants"
      ]
    },
    {
      "cell_type": "code",
      "execution_count": null,
      "id": "judjCThvgmmq",
      "metadata": {
        "id": "judjCThvgmmq"
      },
      "outputs": [],
      "source": []
    },
    {
      "cell_type": "code",
      "execution_count": 5,
      "id": "c9ace94f",
      "metadata": {
        "id": "c9ace94f"
      },
      "outputs": [],
      "source": [
        "# This is the dataset we will use\n",
        "DATASET = \"AG_NEWS\"\n",
        "DATA_DIR = \".data\"\n",
        "# We will just use CPU here, but if you have time try \"cuda\"\n",
        "DEVICE = \"cpu\"\n",
        "LR = 8.0\n",
        "BATCH_SIZE = 16\n",
        "NUM_EPOCHS = 5\n",
        "MIN_FREQUENCY = 20\n",
        "# Padding valued used; if we have a tensor data x = [[1,2,3], [4, 5], [1,2,3,4,5]] this needs padding\n",
        "# As a tensor, this is t = [[1, 2, 3, 0, 0], [4, 5, 0, 0, 0], [1, 2, 3, 4, 5]]\n",
        "PADDING_VALUE = 0\n",
        "PADDING_IDX = PADDING_VALUE\n",
        "\n",
        "SEED = 1"
      ]
    },
    {
      "cell_type": "markdown",
      "id": "K3zuWGeqcDsI",
      "metadata": {
        "id": "K3zuWGeqcDsI"
      },
      "source": [
        "# Get the tokenizer"
      ]
    },
    {
      "cell_type": "code",
      "execution_count": 6,
      "id": "16f471ac",
      "metadata": {
        "id": "16f471ac"
      },
      "outputs": [],
      "source": [
        "# A basic tokenizer by using get_tokenizer; pass \"basic_english\"\n",
        "basic_english_tokenizer = get_tokenizer(\"basic_english\")"
      ]
    },
    {
      "cell_type": "code",
      "execution_count": 7,
      "id": "d1b61bba",
      "metadata": {
        "colab": {
          "base_uri": "https://localhost:8080/"
        },
        "id": "d1b61bba",
        "outputId": "6829b142-85e0-471b-e21b-e338d332fc05"
      },
      "outputs": [
        {
          "data": {
            "text/plain": [
              "['this', 'is', 'some', 'text', '.', '.', '.']"
            ]
          },
          "execution_count": 7,
          "metadata": {},
          "output_type": "execute_result"
        }
      ],
      "source": [
        "basic_english_tokenizer(\"This is some text ...\")"
      ]
    },
    {
      "cell_type": "code",
      "execution_count": 8,
      "id": "68a50055",
      "metadata": {
        "id": "68a50055"
      },
      "outputs": [],
      "source": [
        "# Save the tokenizer as a contant; this is needed later\n",
        "TOKENIZER = basic_english_tokenizer"
      ]
    },
    {
      "cell_type": "markdown",
      "id": "8620a436",
      "metadata": {
        "id": "8620a436"
      },
      "source": [
        "### Get the data and get the vocabulary."
      ]
    },
    {
      "cell_type": "code",
      "execution_count": 9,
      "id": "1c84225a",
      "metadata": {
        "id": "1c84225a"
      },
      "outputs": [],
      "source": [
        "# Loop through all the (label, text) data and yield a tokenized version of text\n",
        "def yield_tokens(data_iter):\n",
        "    for _, text in data_iter:\n",
        "        yield TOKENIZER(text)"
      ]
    },
    {
      "cell_type": "code",
      "execution_count": 10,
      "id": "rEChT6jDeLXF",
      "metadata": {
        "id": "rEChT6jDeLXF"
      },
      "outputs": [],
      "source": [
        "train_iter = DATASETS[DATASET](root=DATA_DIR, split=\"train\")"
      ]
    },
    {
      "cell_type": "code",
      "execution_count": 11,
      "id": "J4q-FQ75eM1R",
      "metadata": {
        "colab": {
          "base_uri": "https://localhost:8080/"
        },
        "id": "J4q-FQ75eM1R",
        "outputId": "9e265e7d-bad8-4266-a7fe-d12aed863378"
      },
      "outputs": [
        {
          "name": "stdout",
          "output_type": "stream",
          "text": [
            "3 Wall St. Bears Claw Back Into the Black (Reuters) Reuters - Short-sellers, Wall Street's dwindling\\band of ultra-cynics, are seeing green again.\n"
          ]
        }
      ],
      "source": [
        "# An example of what this data looks like\n",
        "for y, x in train_iter:\n",
        "  print(y, x)\n",
        "  break"
      ]
    },
    {
      "cell_type": "code",
      "execution_count": 12,
      "id": "affa3375",
      "metadata": {
        "colab": {
          "base_uri": "https://localhost:8080/"
        },
        "id": "affa3375",
        "outputId": "b1c62e8c-d960-4a83-ece3-d3e88431d246"
      },
      "outputs": [
        {
          "name": "stderr",
          "output_type": "stream",
          "text": [
            "/home/asardesai/Projects/ADL/playground/A3/.venv/lib/python3.10/site-packages/torch/utils/data/datapipes/iter/combining.py:337: UserWarning: Some child DataPipes are not exhausted when __iter__ is called. We are resetting the buffer and each child DataPipe will read from the start again.\n",
            "  warnings.warn(\"Some child DataPipes are not exhausted when __iter__ is called. We are resetting \"\n"
          ]
        }
      ],
      "source": [
        "# Use build_vocab_from_iterator to get the the vocabulary\n",
        "# This is essentially a dictionary going from a word to a unique integer\n",
        "# Make sure to specify the specials\n",
        "VOCAB = build_vocab_from_iterator(\n",
        "    yield_tokens(train_iter),\n",
        "    min_freq = MIN_FREQUENCY,\n",
        "    specials=('<pad>', '<unk>')\n",
        ")\n",
        "\n",
        "# Set the default index to 1\n",
        "# Otherwise, VOCAB['unknownbigword'] will raise an Exception\n",
        "# I.e. we want '<unk>' to be the unknown word\n",
        "VOCAB.set_default_index(VOCAB['<unk>'])"
      ]
    },
    {
      "cell_type": "code",
      "execution_count": 13,
      "id": "62336be9",
      "metadata": {
        "id": "62336be9"
      },
      "outputs": [],
      "source": [
        "assert VOCAB['<unk>'] == 1"
      ]
    },
    {
      "cell_type": "markdown",
      "id": "518918c0",
      "metadata": {
        "id": "518918c0"
      },
      "source": [
        "Examples"
      ]
    },
    {
      "cell_type": "code",
      "execution_count": 14,
      "id": "de48bde8",
      "metadata": {
        "colab": {
          "base_uri": "https://localhost:8080/"
        },
        "id": "de48bde8",
        "outputId": "ce8223e5-1d62-46b6-94b2-96cd85d6b94f"
      },
      "outputs": [
        {
          "data": {
            "text/plain": [
              "(1, 437, 0, 1)"
            ]
          },
          "execution_count": 14,
          "metadata": {},
          "output_type": "execute_result"
        }
      ],
      "source": [
        "VOCAB['yoyooyoyoy'], VOCAB['house'], VOCAB['<pad>'], VOCAB['<unk>']"
      ]
    },
    {
      "cell_type": "code",
      "execution_count": 15,
      "id": "24247d56",
      "metadata": {
        "colab": {
          "base_uri": "https://localhost:8080/"
        },
        "id": "24247d56",
        "outputId": "04737454-f5a0-4f32-ea33-0015e7f27437"
      },
      "outputs": [
        {
          "name": "stdout",
          "output_type": "stream",
          "text": [
            "13798\n"
          ]
        }
      ],
      "source": [
        "print(len(VOCAB))"
      ]
    },
    {
      "cell_type": "code",
      "execution_count": 16,
      "id": "574cce1b",
      "metadata": {
        "colab": {
          "base_uri": "https://localhost:8080/"
        },
        "id": "574cce1b",
        "outputId": "59da6b76-3744-43eb-f84d-8a81211d5d48"
      },
      "outputs": [
        {
          "data": {
            "text/plain": [
              "[437, 437, 4548, 1]"
            ]
          },
          "execution_count": 16,
          "metadata": {},
          "output_type": "execute_result"
        }
      ],
      "source": [
        "VOCAB(TOKENIZER(\"House house houses ThisisnotaKNownWord\"))"
      ]
    },
    {
      "cell_type": "code",
      "execution_count": null,
      "id": "1be1e272",
      "metadata": {
        "id": "1be1e272"
      },
      "outputs": [],
      "source": []
    },
    {
      "cell_type": "markdown",
      "id": "df651a44",
      "metadata": {
        "id": "df651a44"
      },
      "source": [
        "### Helper functions"
      ]
    },
    {
      "cell_type": "code",
      "execution_count": 17,
      "id": "94741f76",
      "metadata": {
        "id": "94741f76"
      },
      "outputs": [],
      "source": [
        "from torchtext.vocab.vocab_factory import Vocab\n",
        "# Utility to transform text into a list of ints\n",
        "# This shoould go \"a b c\" -> [\"a\", \"b\", \"c\"] -> [1, 2, 3], for example\n",
        "def text_pipeline(x):\n",
        "    # Apply tokenizer to x\n",
        "    x = TOKENIZER(x)\n",
        "\n",
        "    # Return the Vocab at those tokens\n",
        "    return VOCAB(x)\n",
        "\n",
        "# Return a 0 starting version of x\n",
        "# If x = \"1\" this should return 0\n",
        "# If x = \"3\" this should return 2, Etc.\n",
        "def label_pipeline(x):\n",
        "    return int(x) - 1"
      ]
    },
    {
      "cell_type": "markdown",
      "id": "1e903610",
      "metadata": {
        "id": "1e903610"
      },
      "source": [
        "Nice link on collate_fn and DataLoader in PyTorch: https://python.plainenglish.io/understanding-collate-fn-in-pytorch-f9d1742647d3"
      ]
    },
    {
      "cell_type": "code",
      "execution_count": 18,
      "id": "95311731",
      "metadata": {
        "id": "95311731"
      },
      "outputs": [],
      "source": [
        "# For a batch of data that might not be a tensor, return the batch in ternsor version\n",
        "# batch is a length B lsit of tuples where each element is (label, text)\n",
        "# label is a raw string like \"1\" here; text is a sentence like \"this is about soccer\"\n",
        "def collate_batch(batch):\n",
        "    label_list, text_list = [], []\n",
        "    for (label, text) in batch:\n",
        "        # Get the label from {1, 2, 3, 4} to {0, 1, 2, 3} and append it to label list\n",
        "        label_list.append(label_pipeline(label))\n",
        "\n",
        "        # Return a list of ints\n",
        "        processed_text = torch.tensor(text_pipeline(text), dtype=torch.int64)\n",
        "        text_list.append(processed_text)\n",
        "\n",
        "    # Make label_list into a tensor of dtype=torch.int64\n",
        "    label_list = torch.tensor(label_list, dtype=torch.int64)\n",
        "\n",
        "    # Pad the sequence\n",
        "    # For Exmaple: if we had 2 elements and [[1, 2], [1,2,3,4]] in the text_list then we want\n",
        "    # to have [[1, 2, 0, 0], [1, 2, 3, 4]] in text_list and text_list is a tensor\n",
        "    # Look up pad_sequence and make sure you specify batch_first=True and specify the padding_value=0\n",
        "    text_list = pad_sequence(text_list, batch_first=True, padding_value=PADDING_VALUE)\n",
        "\n",
        "    # Return the data and put it on a GPU or CPU, as needed\n",
        "    return label_list.to(DEVICE), text_list.to(DEVICE)"
      ]
    },
    {
      "cell_type": "code",
      "execution_count": null,
      "id": "b1292c44",
      "metadata": {
        "id": "b1292c44"
      },
      "outputs": [],
      "source": []
    },
    {
      "cell_type": "markdown",
      "id": "b5da047d",
      "metadata": {
        "id": "b5da047d"
      },
      "source": [
        "### Get the data"
      ]
    },
    {
      "cell_type": "code",
      "execution_count": 19,
      "id": "5d2ae25e",
      "metadata": {
        "colab": {
          "base_uri": "https://localhost:8080/"
        },
        "id": "5d2ae25e",
        "outputId": "5412aa2b-a9d2-43e5-e5fe-90ba70040ac6"
      },
      "outputs": [
        {
          "name": "stdout",
          "output_type": "stream",
          "text": [
            "The number of classes is 4 ...\n"
          ]
        }
      ],
      "source": [
        "# Get an iterator for the AG_NEWS dataset and get the train version\n",
        "train_iter = DATASETS[DATASET](root=DATA_DIR, split=\"train\")\n",
        "\n",
        "# Use the above to get the number of class elements\n",
        "num_class = len(set([label for label, text in train_iter]))\n",
        "# What are the classes?\n",
        "print(f\"The number of classes is {num_class} ...\")"
      ]
    },
    {
      "cell_type": "code",
      "execution_count": null,
      "id": "fc52d408",
      "metadata": {
        "id": "fc52d408"
      },
      "outputs": [],
      "source": []
    },
    {
      "cell_type": "markdown",
      "id": "eca51b36",
      "metadata": {
        "id": "eca51b36"
      },
      "source": [
        "### Set up the model"
      ]
    },
    {
      "cell_type": "code",
      "execution_count": 20,
      "id": "8ab8cb7c",
      "metadata": {
        "id": "8ab8cb7c"
      },
      "outputs": [],
      "source": [
        "# A very naive model used to classify text\n",
        "class OneHotTextClassificationModel(nn.Module):\n",
        "    def __init__(self, vocab_size, num_class):\n",
        "        super(OneHotTextClassificationModel, self).__init__()\n",
        "        self.vocab_size = vocab_size\n",
        "        self.num_class = num_class\n",
        "\n",
        "        # Have this layer take in data of dimension vocab_size and return data of dimension 100\n",
        "        # Don't use a bias\n",
        "        self.fc1 = nn.Linear(self.vocab_size, 100, bias=False)\n",
        "\n",
        "        # We will not use this, but see below as we want to mimic this layer using one_hot and fc1\n",
        "        self.e = nn.Embedding(vocab_size, 100)\n",
        "\n",
        "        # Have this layer take in 100 and return data of dimension num_class\n",
        "        # Don't use a bias\n",
        "        self.fc2 = nn.Linear(100, self.num_class, bias=False)\n",
        "        self.init_weights()\n",
        "\n",
        "        # See forward below; we do not use this but you can use this if you want to to check\n",
        "        self.use_embedding_layer = False\n",
        "\n",
        "    def init_weights(self):\n",
        "        # Initialize the weights of fc1 to the same exact data as what self.e has\n",
        "        # You need to access the data within these layers\n",
        "        # Initialize the bias to zero\n",
        "        # Hint: look at self.e.weight.data and similarly for fc\n",
        "        # Make sure you have the dimensions line up right\n",
        "        self.fc1.weight.data = self.e.weight.data.clone().T\n",
        "\n",
        "        # Unitialize fc2 to uniform between -0.5 and 0.5\n",
        "        # Hint: \"uniform_\"\n",
        "        initrange = 0.5\n",
        "        self.fc2.weight.data.uniform_(-initrange, initrange)\n",
        "\n",
        "    def forward(self, x):\n",
        "        B, K = x.shape\n",
        "        # x is of dimension (B, K), where K is the maximum number of tokens in an element of the batch\n",
        "        # Note: We will make this faster later on by using the nn.Embedding layer\n",
        "        # We will not use nn.Embedding, but the code below, a combination of F.one_hot and fc1, should be the SAME effect as the else clause\n",
        "        if not self.use_embedding_layer:\n",
        "          # Transform x to a tensor where each element is one-hot encoded\n",
        "          x = F.one_hot(x, self.vocab_size).float()\n",
        "          assert(x.shape == (B, K, self.vocab_size))\n",
        "\n",
        "          # Pass x through fc1 to get the row in fc1 correspondng to the row x is\n",
        "          x = self.fc1(x)\n",
        "          assert(x.shape == (B, K, 100))\n",
        "        else:\n",
        "          # Note: the above two steps should be the same as doing the command below\n",
        "          x = self.e(x)\n",
        "          assert(x.shape == (B, K, 100))\n",
        "\n",
        "        # Take the mean of the embedings for all words in each sentence\n",
        "        x = torch.mean(x, dim=1, keepdim=False)\n",
        "        assert(x.shape == (B, 100))\n",
        "\n",
        "        # Apply ReLU to x\n",
        "        x = F.relu(x)\n",
        "        assert(x.shape == (B, 100))\n",
        "\n",
        "        # Pass through fc2\n",
        "        x = self.fc2(x)\n",
        "        assert(x.shape == (B, self.num_class))\n",
        "\n",
        "        # Return the Logits\n",
        "        return x"
      ]
    },
    {
      "cell_type": "code",
      "execution_count": 21,
      "id": "a43d569e",
      "metadata": {
        "colab": {
          "base_uri": "https://localhost:8080/"
        },
        "id": "a43d569e",
        "outputId": "2d854bd1-65bc-4c32-af21-bc607ea91020"
      },
      "outputs": [
        {
          "data": {
            "text/plain": [
              "<torch._C.Generator at 0x7fce0c3fb9b0>"
            ]
          },
          "execution_count": 21,
          "metadata": {},
          "output_type": "execute_result"
        }
      ],
      "source": [
        "torch.manual_seed(SEED)"
      ]
    },
    {
      "cell_type": "markdown",
      "id": "8994ae19",
      "metadata": {
        "id": "8994ae19"
      },
      "source": [
        "### Set up the data"
      ]
    },
    {
      "cell_type": "code",
      "execution_count": 22,
      "id": "eaaa82a2",
      "metadata": {
        "id": "eaaa82a2"
      },
      "outputs": [],
      "source": [
        "# Map the data to the right format\n",
        "train_iter, test_iter = DATASETS[DATASET]()\n",
        "train_dataset = to_map_style_dataset(train_iter)\n",
        "test_dataset = to_map_style_dataset(test_iter)\n",
        "\n",
        "# Split data into train and validation\n",
        "num_train = int(len(train_dataset) * 0.95)\n",
        "split_train_, split_valid_ = random_split(train_dataset, [num_train, len(train_dataset) - num_train])\n",
        "\n",
        "# Set up different DataLoaders\n",
        "# Make sure you pass collate_fn as the function you wrote above\n",
        "train_dataloader = DataLoader(split_train_, batch_size=BATCH_SIZE, shuffle=False, collate_fn=collate_batch)\n",
        "valid_dataloader = DataLoader(split_valid_, batch_size=BATCH_SIZE, shuffle=False, collate_fn=collate_batch)\n",
        "test_dataloader = DataLoader(test_dataset, batch_size=BATCH_SIZE, shuffle=False, collate_fn=collate_batch)"
      ]
    },
    {
      "cell_type": "code",
      "execution_count": null,
      "id": "7a5af374",
      "metadata": {
        "id": "7a5af374"
      },
      "outputs": [],
      "source": []
    },
    {
      "cell_type": "markdown",
      "id": "72b5bb91",
      "metadata": {
        "id": "72b5bb91"
      },
      "source": [
        "### Train the model"
      ]
    },
    {
      "cell_type": "code",
      "execution_count": 23,
      "id": "d58cc1a9",
      "metadata": {
        "id": "d58cc1a9"
      },
      "outputs": [],
      "source": [
        "def train(dataloader, model, optimizer, criterion, epoch):\n",
        "    # Put the model in train mode; this does not matter right now\n",
        "    model.train()\n",
        "    total_acc, total_count = 0, 0\n",
        "    total_loss = 0.0\n",
        "    log_interval = 200\n",
        "\n",
        "    for idx, (label, text) in enumerate(dataloader):\n",
        "        # Zero out the gradients\n",
        "        optimizer.zero_grad()\n",
        "\n",
        "        # Get the predictions\n",
        "        predicted_label = model(text)\n",
        "\n",
        "        # Get the loss.\n",
        "        loss = criterion(input=predicted_label, target=label)\n",
        "\n",
        "        # The loss is computed by taking a mean, get the sum of the terms on the numerator\n",
        "        with torch.no_grad():\n",
        "          total_loss += loss.item() * label.size(0)\n",
        "\n",
        "        # Do back propagation\n",
        "        loss.backward()\n",
        "\n",
        "        # Clip the gradients to have max norm 0.1\n",
        "        # Look up torch.nn.utils.clip_grad_norm\n",
        "        torch.nn.utils.clip_grad_norm_(model.parameters(), max_norm=0.1)\n",
        "\n",
        "        # Do an optimization step.\n",
        "        optimizer.step()\n",
        "\n",
        "        # Get the accuracy\n",
        "        # predicted_label is (B, num_class) so take the argmax over the right dimension to get the actual label\n",
        "        # Make sure you do .item() on whaht you get so that you update the accuracy\n",
        "        total_acc += torch.eq(torch.argmax(predicted_label, dim=1), label).sum().item()\n",
        "\n",
        "        # Update the total number of items\n",
        "        total_count += text.shape[0]\n",
        "        if idx % log_interval == 0 and idx > 0:\n",
        "            print(\n",
        "                \"| epoch {:3d} | {:5d}/{:5d} batches \"\n",
        "                \"| accuracy {:8.3f} \"\n",
        "                \"| loss {:8.3f}\".format(\n",
        "                    epoch, idx,\n",
        "                    len(dataloader),\n",
        "                    total_acc / total_count,\n",
        "                    total_loss / total_count\n",
        "                    )\n",
        "            )\n",
        "            total_acc, total_count, total_loss = 0, 0, 0.0"
      ]
    },
    {
      "cell_type": "code",
      "execution_count": 24,
      "id": "85722617",
      "metadata": {
        "id": "85722617"
      },
      "outputs": [],
      "source": [
        "def evaluate(dataloader, model):\n",
        "    # Put the model in eval model; this does not matter right now\n",
        "    model.eval()\n",
        "\n",
        "    # Set this to Accuracy from torchmetrics; use multiclass and specify the number of labels\n",
        "    accuracy_fn = torchmetrics.Accuracy(task='multiclass', num_classes=model.num_class)\n",
        "    total_acc = 0.0\n",
        "    total_count = 0.0\n",
        "\n",
        "    with torch.no_grad():\n",
        "        for idx, (label, text) in enumerate(dataloader):\n",
        "            # Get the predictions\n",
        "            predicted_label = model(text)\n",
        "            # Get the number of samples we have, the denominator of accuracy\n",
        "            total_count += text.shape[0]\n",
        "\n",
        "            # Get the total number of times we have the correct predictions, use accuracy_fn\n",
        "            total_acc += (accuracy_fn(torch.argmax(predicted_label, dim=1), label).item() * text.shape[0])\n",
        "\n",
        "            # Use accuracy_fn from torchmetrics to check that the total number of correct predictions is the same as if you use argmax on predicted_label\n",
        "            # I.e. I want you to use torchmetrics to compute this AND use the same metod as in train above\n",
        "            # Remember to use .item() on the tensor you get and also rememeber number_or_samples * accuracy = total_times_we_have_equality (the numerator of accuracy)\n",
        "            \n",
        "            assert (\n",
        "                text.shape[0] * accuracy_fn(torch.argmax(predicted_label, dim=1), label).item() == (torch.eq(torch.argmax(predicted_label, dim=1), label).sum().item())\n",
        "            )\n",
        "            \n",
        "    accuracy = (total_acc / total_count)\n",
        "    return accuracy"
      ]
    },
    {
      "cell_type": "markdown",
      "id": "W3LjZHTdrWW6",
      "metadata": {
        "id": "W3LjZHTdrWW6"
      },
      "source": [
        "# Train the model\n",
        "\n",
        "You should get an accuracy > 80% for the training set. This might take quite a bit of time to run since we use one-hot. Use nn.Embedding if you want to check this quickly. You should get the SAME answer using either method."
      ]
    },
    {
      "cell_type": "code",
      "execution_count": 25,
      "id": "eTEl16pIBkTe",
      "metadata": {
        "id": "eTEl16pIBkTe"
      },
      "outputs": [],
      "source": [
        "# Set up the loss function\n",
        "# Note that this should be a multiclass classification problem and you take in logits\n",
        "loss_fn = nn.CrossEntropyLoss().to(DEVICE)\n",
        "\n",
        "# Instantiate the model\n",
        "# Pass in the number of elements in VOCAB and num_class\n",
        "model = OneHotTextClassificationModel(len(VOCAB), num_class).to(DEVICE)\n",
        "\n",
        "# Instantiate the SGD optimizer with parameters LR\n",
        "optimizer = torch.optim.SGD(model.parameters(), lr=LR)"
      ]
    },
    {
      "cell_type": "code",
      "execution_count": 26,
      "id": "21ba24f3",
      "metadata": {
        "colab": {
          "base_uri": "https://localhost:8080/"
        },
        "id": "21ba24f3",
        "outputId": "12ecab9f-684b-4c39-dd66-6d4275c744d7"
      },
      "outputs": [
        {
          "name": "stdout",
          "output_type": "stream",
          "text": [
            "| epoch   1 |   200/ 7125 batches | accuracy    0.317 | loss    1.439\n",
            "| epoch   1 |   400/ 7125 batches | accuracy    0.413 | loss    1.277\n",
            "| epoch   1 |   600/ 7125 batches | accuracy    0.438 | loss    1.237\n",
            "| epoch   1 |   800/ 7125 batches | accuracy    0.486 | loss    1.185\n",
            "| epoch   1 |  1000/ 7125 batches | accuracy    0.524 | loss    1.115\n",
            "| epoch   1 |  1200/ 7125 batches | accuracy    0.537 | loss    1.119\n",
            "| epoch   1 |  1400/ 7125 batches | accuracy    0.544 | loss    1.083\n",
            "| epoch   1 |  1600/ 7125 batches | accuracy    0.578 | loss    1.045\n",
            "| epoch   1 |  1800/ 7125 batches | accuracy    0.559 | loss    1.048\n",
            "| epoch   1 |  2000/ 7125 batches | accuracy    0.589 | loss    0.992\n",
            "| epoch   1 |  2200/ 7125 batches | accuracy    0.600 | loss    0.987\n",
            "| epoch   1 |  2400/ 7125 batches | accuracy    0.618 | loss    0.961\n",
            "| epoch   1 |  2600/ 7125 batches | accuracy    0.620 | loss    0.955\n",
            "| epoch   1 |  2800/ 7125 batches | accuracy    0.630 | loss    0.915\n",
            "| epoch   1 |  3000/ 7125 batches | accuracy    0.636 | loss    0.920\n",
            "| epoch   1 |  3200/ 7125 batches | accuracy    0.642 | loss    0.882\n",
            "| epoch   1 |  3400/ 7125 batches | accuracy    0.656 | loss    0.903\n",
            "| epoch   1 |  3600/ 7125 batches | accuracy    0.639 | loss    0.907\n",
            "| epoch   1 |  3800/ 7125 batches | accuracy    0.661 | loss    0.876\n",
            "| epoch   1 |  4000/ 7125 batches | accuracy    0.652 | loss    0.851\n",
            "| epoch   1 |  4200/ 7125 batches | accuracy    0.671 | loss    0.857\n",
            "| epoch   1 |  4400/ 7125 batches | accuracy    0.676 | loss    0.837\n",
            "| epoch   1 |  4600/ 7125 batches | accuracy    0.696 | loss    0.828\n",
            "| epoch   1 |  4800/ 7125 batches | accuracy    0.693 | loss    0.800\n",
            "| epoch   1 |  5000/ 7125 batches | accuracy    0.702 | loss    0.803\n",
            "| epoch   1 |  5200/ 7125 batches | accuracy    0.699 | loss    0.777\n",
            "| epoch   1 |  5400/ 7125 batches | accuracy    0.709 | loss    0.799\n",
            "| epoch   1 |  5600/ 7125 batches | accuracy    0.702 | loss    0.772\n",
            "| epoch   1 |  5800/ 7125 batches | accuracy    0.694 | loss    0.777\n",
            "| epoch   1 |  6000/ 7125 batches | accuracy    0.697 | loss    0.774\n",
            "| epoch   1 |  6200/ 7125 batches | accuracy    0.716 | loss    0.736\n",
            "| epoch   1 |  6400/ 7125 batches | accuracy    0.712 | loss    0.748\n",
            "| epoch   1 |  6600/ 7125 batches | accuracy    0.726 | loss    0.708\n",
            "| epoch   1 |  6800/ 7125 batches | accuracy    0.713 | loss    0.746\n",
            "| epoch   1 |  7000/ 7125 batches | accuracy    0.723 | loss    0.716\n",
            "-----------------------------------------------------------\n",
            "| end of epoch   1 | time: 421.27s | valid accuracy    0.716 \n",
            "-----------------------------------------------------------\n",
            "| epoch   2 |   200/ 7125 batches | accuracy    0.735 | loss    0.701\n",
            "| epoch   2 |   400/ 7125 batches | accuracy    0.734 | loss    0.708\n",
            "| epoch   2 |   600/ 7125 batches | accuracy    0.718 | loss    0.719\n",
            "| epoch   2 |   800/ 7125 batches | accuracy    0.734 | loss    0.705\n",
            "| epoch   2 |  1000/ 7125 batches | accuracy    0.747 | loss    0.691\n",
            "| epoch   2 |  1200/ 7125 batches | accuracy    0.740 | loss    0.701\n",
            "| epoch   2 |  1400/ 7125 batches | accuracy    0.729 | loss    0.706\n",
            "| epoch   2 |  1600/ 7125 batches | accuracy    0.760 | loss    0.669\n",
            "| epoch   2 |  1800/ 7125 batches | accuracy    0.721 | loss    0.708\n",
            "| epoch   2 |  2000/ 7125 batches | accuracy    0.743 | loss    0.680\n",
            "| epoch   2 |  2200/ 7125 batches | accuracy    0.746 | loss    0.677\n",
            "| epoch   2 |  2400/ 7125 batches | accuracy    0.756 | loss    0.655\n",
            "| epoch   2 |  2600/ 7125 batches | accuracy    0.746 | loss    0.670\n",
            "| epoch   2 |  2800/ 7125 batches | accuracy    0.753 | loss    0.653\n",
            "| epoch   2 |  3000/ 7125 batches | accuracy    0.757 | loss    0.683\n",
            "| epoch   2 |  3200/ 7125 batches | accuracy    0.758 | loss    0.647\n",
            "| epoch   2 |  3400/ 7125 batches | accuracy    0.764 | loss    0.646\n",
            "| epoch   2 |  3600/ 7125 batches | accuracy    0.743 | loss    0.688\n",
            "| epoch   2 |  3800/ 7125 batches | accuracy    0.756 | loss    0.689\n",
            "| epoch   2 |  4000/ 7125 batches | accuracy    0.759 | loss    0.647\n",
            "| epoch   2 |  4200/ 7125 batches | accuracy    0.752 | loss    0.685\n",
            "| epoch   2 |  4400/ 7125 batches | accuracy    0.772 | loss    0.629\n",
            "| epoch   2 |  4600/ 7125 batches | accuracy    0.767 | loss    0.649\n",
            "| epoch   2 |  4800/ 7125 batches | accuracy    0.765 | loss    0.622\n",
            "| epoch   2 |  5000/ 7125 batches | accuracy    0.775 | loss    0.633\n",
            "| epoch   2 |  5200/ 7125 batches | accuracy    0.766 | loss    0.625\n",
            "| epoch   2 |  5400/ 7125 batches | accuracy    0.779 | loss    0.646\n",
            "| epoch   2 |  5600/ 7125 batches | accuracy    0.767 | loss    0.622\n",
            "| epoch   2 |  5800/ 7125 batches | accuracy    0.768 | loss    0.623\n",
            "| epoch   2 |  6000/ 7125 batches | accuracy    0.764 | loss    0.638\n",
            "| epoch   2 |  6200/ 7125 batches | accuracy    0.781 | loss    0.588\n",
            "| epoch   2 |  6400/ 7125 batches | accuracy    0.764 | loss    0.612\n",
            "| epoch   2 |  6600/ 7125 batches | accuracy    0.793 | loss    0.575\n",
            "| epoch   2 |  6800/ 7125 batches | accuracy    0.776 | loss    0.620\n",
            "| epoch   2 |  7000/ 7125 batches | accuracy    0.779 | loss    0.593\n",
            "-----------------------------------------------------------\n",
            "| end of epoch   2 | time: 430.09s | valid accuracy    0.773 \n",
            "-----------------------------------------------------------\n",
            "| epoch   3 |   200/ 7125 batches | accuracy    0.782 | loss    0.597\n",
            "| epoch   3 |   400/ 7125 batches | accuracy    0.782 | loss    0.590\n",
            "| epoch   3 |   600/ 7125 batches | accuracy    0.771 | loss    0.595\n",
            "| epoch   3 |   800/ 7125 batches | accuracy    0.778 | loss    0.604\n",
            "| epoch   3 |  1000/ 7125 batches | accuracy    0.788 | loss    0.583\n",
            "| epoch   3 |  1200/ 7125 batches | accuracy    0.787 | loss    0.578\n",
            "| epoch   3 |  1400/ 7125 batches | accuracy    0.788 | loss    0.605\n",
            "| epoch   3 |  1600/ 7125 batches | accuracy    0.801 | loss    0.574\n",
            "| epoch   3 |  1800/ 7125 batches | accuracy    0.772 | loss    0.613\n",
            "| epoch   3 |  2000/ 7125 batches | accuracy    0.788 | loss    0.577\n",
            "| epoch   3 |  2200/ 7125 batches | accuracy    0.794 | loss    0.570\n",
            "| epoch   3 |  2400/ 7125 batches | accuracy    0.795 | loss    0.565\n",
            "| epoch   3 |  2600/ 7125 batches | accuracy    0.785 | loss    0.582\n",
            "| epoch   3 |  2800/ 7125 batches | accuracy    0.796 | loss    0.557\n",
            "| epoch   3 |  3000/ 7125 batches | accuracy    0.793 | loss    0.586\n",
            "| epoch   3 |  3200/ 7125 batches | accuracy    0.798 | loss    0.560\n",
            "| epoch   3 |  3400/ 7125 batches | accuracy    0.792 | loss    0.553\n",
            "| epoch   3 |  3600/ 7125 batches | accuracy    0.775 | loss    0.609\n",
            "| epoch   3 |  3800/ 7125 batches | accuracy    0.791 | loss    0.606\n",
            "| epoch   3 |  4000/ 7125 batches | accuracy    0.787 | loss    0.569\n",
            "| epoch   3 |  4200/ 7125 batches | accuracy    0.790 | loss    0.605\n",
            "| epoch   3 |  4400/ 7125 batches | accuracy    0.801 | loss    0.557\n",
            "| epoch   3 |  4600/ 7125 batches | accuracy    0.801 | loss    0.571\n",
            "| epoch   3 |  4800/ 7125 batches | accuracy    0.797 | loss    0.553\n",
            "| epoch   3 |  5000/ 7125 batches | accuracy    0.804 | loss    0.571\n",
            "| epoch   3 |  5200/ 7125 batches | accuracy    0.796 | loss    0.562\n",
            "| epoch   3 |  5400/ 7125 batches | accuracy    0.807 | loss    0.559\n",
            "| epoch   3 |  5600/ 7125 batches | accuracy    0.801 | loss    0.553\n",
            "| epoch   3 |  5800/ 7125 batches | accuracy    0.800 | loss    0.549\n",
            "| epoch   3 |  6000/ 7125 batches | accuracy    0.801 | loss    0.563\n",
            "| epoch   3 |  6200/ 7125 batches | accuracy    0.814 | loss    0.521\n",
            "| epoch   3 |  6400/ 7125 batches | accuracy    0.796 | loss    0.546\n",
            "| epoch   3 |  6600/ 7125 batches | accuracy    0.815 | loss    0.524\n",
            "| epoch   3 |  6800/ 7125 batches | accuracy    0.801 | loss    0.562\n",
            "| epoch   3 |  7000/ 7125 batches | accuracy    0.803 | loss    0.530\n",
            "-----------------------------------------------------------\n",
            "| end of epoch   3 | time: 426.50s | valid accuracy    0.797 \n",
            "-----------------------------------------------------------\n",
            "| epoch   4 |   200/ 7125 batches | accuracy    0.807 | loss    0.538\n",
            "| epoch   4 |   400/ 7125 batches | accuracy    0.802 | loss    0.531\n",
            "| epoch   4 |   600/ 7125 batches | accuracy    0.803 | loss    0.523\n",
            "| epoch   4 |   800/ 7125 batches | accuracy    0.809 | loss    0.540\n",
            "| epoch   4 |  1000/ 7125 batches | accuracy    0.812 | loss    0.532\n",
            "| epoch   4 |  1200/ 7125 batches | accuracy    0.806 | loss    0.529\n",
            "| epoch   4 |  1400/ 7125 batches | accuracy    0.806 | loss    0.549\n",
            "| epoch   4 |  1600/ 7125 batches | accuracy    0.813 | loss    0.530\n",
            "| epoch   4 |  1800/ 7125 batches | accuracy    0.796 | loss    0.557\n",
            "| epoch   4 |  2000/ 7125 batches | accuracy    0.813 | loss    0.527\n",
            "| epoch   4 |  2200/ 7125 batches | accuracy    0.816 | loss    0.518\n",
            "| epoch   4 |  2400/ 7125 batches | accuracy    0.815 | loss    0.514\n",
            "| epoch   4 |  2600/ 7125 batches | accuracy    0.816 | loss    0.553\n",
            "| epoch   4 |  2800/ 7125 batches | accuracy    0.818 | loss    0.499\n",
            "| epoch   4 |  3000/ 7125 batches | accuracy    0.818 | loss    0.543\n",
            "| epoch   4 |  3200/ 7125 batches | accuracy    0.815 | loss    0.516\n",
            "| epoch   4 |  3400/ 7125 batches | accuracy    0.823 | loss    0.499\n",
            "| epoch   4 |  3600/ 7125 batches | accuracy    0.797 | loss    0.553\n",
            "| epoch   4 |  3800/ 7125 batches | accuracy    0.811 | loss    0.562\n",
            "| epoch   4 |  4000/ 7125 batches | accuracy    0.806 | loss    0.523\n",
            "| epoch   4 |  4200/ 7125 batches | accuracy    0.813 | loss    0.555\n",
            "| epoch   4 |  4400/ 7125 batches | accuracy    0.824 | loss    0.507\n",
            "| epoch   4 |  4600/ 7125 batches | accuracy    0.821 | loss    0.524\n",
            "| epoch   4 |  4800/ 7125 batches | accuracy    0.802 | loss    0.516\n",
            "| epoch   4 |  5000/ 7125 batches | accuracy    0.821 | loss    0.527\n",
            "| epoch   4 |  5200/ 7125 batches | accuracy    0.810 | loss    0.517\n",
            "| epoch   4 |  5400/ 7125 batches | accuracy    0.823 | loss    0.512\n",
            "| epoch   4 |  5600/ 7125 batches | accuracy    0.814 | loss    0.517\n",
            "| epoch   4 |  5800/ 7125 batches | accuracy    0.816 | loss    0.513\n",
            "| epoch   4 |  6000/ 7125 batches | accuracy    0.816 | loss    0.520\n",
            "| epoch   4 |  6200/ 7125 batches | accuracy    0.830 | loss    0.493\n",
            "| epoch   4 |  6400/ 7125 batches | accuracy    0.812 | loss    0.503\n",
            "| epoch   4 |  6600/ 7125 batches | accuracy    0.831 | loss    0.489\n",
            "| epoch   4 |  6800/ 7125 batches | accuracy    0.817 | loss    0.517\n",
            "| epoch   4 |  7000/ 7125 batches | accuracy    0.819 | loss    0.497\n",
            "-----------------------------------------------------------\n",
            "| end of epoch   4 | time: 429.91s | valid accuracy    0.823 \n",
            "-----------------------------------------------------------\n",
            "| epoch   5 |   200/ 7125 batches | accuracy    0.822 | loss    0.496\n",
            "| epoch   5 |   400/ 7125 batches | accuracy    0.822 | loss    0.487\n",
            "| epoch   5 |   600/ 7125 batches | accuracy    0.815 | loss    0.488\n",
            "| epoch   5 |   800/ 7125 batches | accuracy    0.829 | loss    0.501\n",
            "| epoch   5 |  1000/ 7125 batches | accuracy    0.823 | loss    0.497\n",
            "| epoch   5 |  1200/ 7125 batches | accuracy    0.827 | loss    0.483\n",
            "| epoch   5 |  1400/ 7125 batches | accuracy    0.820 | loss    0.504\n",
            "| epoch   5 |  1600/ 7125 batches | accuracy    0.826 | loss    0.487\n",
            "| epoch   5 |  1800/ 7125 batches | accuracy    0.809 | loss    0.520\n",
            "| epoch   5 |  2000/ 7125 batches | accuracy    0.824 | loss    0.486\n",
            "| epoch   5 |  2200/ 7125 batches | accuracy    0.824 | loss    0.492\n",
            "| epoch   5 |  2400/ 7125 batches | accuracy    0.828 | loss    0.474\n",
            "| epoch   5 |  2600/ 7125 batches | accuracy    0.827 | loss    0.508\n",
            "| epoch   5 |  2800/ 7125 batches | accuracy    0.837 | loss    0.464\n",
            "| epoch   5 |  3000/ 7125 batches | accuracy    0.826 | loss    0.507\n",
            "| epoch   5 |  3200/ 7125 batches | accuracy    0.834 | loss    0.474\n",
            "| epoch   5 |  3400/ 7125 batches | accuracy    0.840 | loss    0.476\n",
            "| epoch   5 |  3600/ 7125 batches | accuracy    0.812 | loss    0.517\n",
            "| epoch   5 |  3800/ 7125 batches | accuracy    0.822 | loss    0.517\n",
            "| epoch   5 |  4000/ 7125 batches | accuracy    0.821 | loss    0.491\n",
            "| epoch   5 |  4200/ 7125 batches | accuracy    0.820 | loss    0.529\n",
            "| epoch   5 |  4400/ 7125 batches | accuracy    0.838 | loss    0.467\n",
            "| epoch   5 |  4600/ 7125 batches | accuracy    0.837 | loss    0.489\n",
            "| epoch   5 |  4800/ 7125 batches | accuracy    0.821 | loss    0.485\n",
            "| epoch   5 |  5000/ 7125 batches | accuracy    0.833 | loss    0.494\n",
            "| epoch   5 |  5200/ 7125 batches | accuracy    0.829 | loss    0.489\n",
            "| epoch   5 |  5400/ 7125 batches | accuracy    0.844 | loss    0.464\n",
            "| epoch   5 |  5600/ 7125 batches | accuracy    0.833 | loss    0.493\n",
            "| epoch   5 |  5800/ 7125 batches | accuracy    0.829 | loss    0.483\n",
            "| epoch   5 |  6000/ 7125 batches | accuracy    0.835 | loss    0.482\n",
            "| epoch   5 |  6200/ 7125 batches | accuracy    0.838 | loss    0.466\n",
            "| epoch   5 |  6400/ 7125 batches | accuracy    0.830 | loss    0.465\n",
            "| epoch   5 |  6600/ 7125 batches | accuracy    0.842 | loss    0.455\n",
            "| epoch   5 |  6800/ 7125 batches | accuracy    0.832 | loss    0.482\n",
            "| epoch   5 |  7000/ 7125 batches | accuracy    0.832 | loss    0.461\n",
            "-----------------------------------------------------------\n",
            "| end of epoch   5 | time: 423.44s | valid accuracy    0.850 \n",
            "-----------------------------------------------------------\n",
            "Checking the results of test dataset.\n",
            "test accuracy    0.846\n"
          ]
        }
      ],
      "source": [
        "for epoch in range(1, NUM_EPOCHS + 1):\n",
        "    epoch_start_time = time.time()\n",
        "    train(train_dataloader, model, optimizer, loss_fn, epoch)\n",
        "    accu_val = evaluate(valid_dataloader, model)\n",
        "    print(\"-\" * 59)\n",
        "    print(\n",
        "        \"| end of epoch {:3d} | time: {:5.2f}s | \"\n",
        "        \"valid accuracy {:8.3f} \".format(\n",
        "            epoch,\n",
        "            time.time() - epoch_start_time,\n",
        "            accu_val\n",
        "            )\n",
        "    )\n",
        "    print(\"-\" * 59)\n",
        "\n",
        "print(\"Checking the results of test dataset.\")\n",
        "accu_test = evaluate(test_dataloader, model)\n",
        "print(\"test accuracy {:8.3f}\".format(accu_test))"
      ]
    },
    {
      "cell_type": "code",
      "execution_count": null,
      "id": "71904d5f",
      "metadata": {
        "id": "71904d5f"
      },
      "outputs": [],
      "source": []
    }
  ],
  "metadata": {
    "colab": {
      "provenance": []
    },
    "kernelspec": {
      "display_name": ".venv",
      "language": "python",
      "name": "python3"
    },
    "language_info": {
      "codemirror_mode": {
        "name": "ipython",
        "version": 3
      },
      "file_extension": ".py",
      "mimetype": "text/x-python",
      "name": "python",
      "nbconvert_exporter": "python",
      "pygments_lexer": "ipython3",
      "version": "3.10.12"
    }
  },
  "nbformat": 4,
  "nbformat_minor": 5
}
