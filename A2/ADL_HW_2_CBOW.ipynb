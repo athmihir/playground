{
 "cells": [
  {
   "cell_type": "code",
   "execution_count": 1,
   "id": "1c21bfda",
   "metadata": {},
   "outputs": [
    {
     "name": "stdout",
     "output_type": "stream",
     "text": [
      "Looking in indexes: https://download.pytorch.org/whl/cu121\n",
      "Collecting torch==2.2.0\n",
      "  Downloading https://download.pytorch.org/whl/cu121/torch-2.2.0%2Bcu121-cp310-cp310-linux_x86_64.whl (757.3 MB)\n",
      "\u001b[2K     \u001b[90m━━━━━━━━━━━━━━━━━━━━━━━━━━━━━━━━━━━━━━━\u001b[0m \u001b[32m757.3/757.3 MB\u001b[0m \u001b[31m9.1 MB/s\u001b[0m eta \u001b[36m0:00:00\u001b[0m00:01\u001b[0m00:03\u001b[0m\n",
      "\u001b[?25hCollecting torchvision==0.17.0\n",
      "  Downloading https://download.pytorch.org/whl/cu121/torchvision-0.17.0%2Bcu121-cp310-cp310-linux_x86_64.whl (7.0 MB)\n",
      "\u001b[2K     \u001b[90m━━━━━━━━━━━━━━━━━━━━━━━━━━━━━━━━━━━━━━━━\u001b[0m \u001b[32m7.0/7.0 MB\u001b[0m \u001b[31m9.1 MB/s\u001b[0m eta \u001b[36m0:00:00\u001b[0ma \u001b[36m0:00:01\u001b[0mm\n",
      "\u001b[?25hCollecting torchaudio==2.2.0\n",
      "  Downloading https://download.pytorch.org/whl/cu121/torchaudio-2.2.0%2Bcu121-cp310-cp310-linux_x86_64.whl (3.4 MB)\n",
      "\u001b[2K     \u001b[90m━━━━━━━━━━━━━━━━━━━━━━━━━━━━━━━━━━━━━━━━\u001b[0m \u001b[32m3.4/3.4 MB\u001b[0m \u001b[31m5.7 MB/s\u001b[0m eta \u001b[36m0:00:00\u001b[0ma \u001b[36m0:00:01\u001b[0mm\n",
      "\u001b[?25hCollecting torchtext==0.17.0\n",
      "  Downloading https://download.pytorch.org/whl/torchtext-0.17.0%2Bcpu-cp310-cp310-linux_x86_64.whl (2.0 MB)\n",
      "\u001b[2K     \u001b[90m━━━━━━━━━━━━━━━━━━━━━━━━━━━━━━━━━━━━━━━━\u001b[0m \u001b[32m2.0/2.0 MB\u001b[0m \u001b[31m7.8 MB/s\u001b[0m eta \u001b[36m0:00:00\u001b[0ma \u001b[36m0:00:01\u001b[0m\n",
      "\u001b[?25hCollecting filelock (from torch==2.2.0)\n",
      "  Downloading https://download.pytorch.org/whl/filelock-3.13.1-py3-none-any.whl.metadata (2.8 kB)\n",
      "Requirement already satisfied: typing-extensions>=4.8.0 in ./.venv/lib/python3.10/site-packages (from torch==2.2.0) (4.12.2)\n",
      "Collecting sympy (from torch==2.2.0)\n",
      "  Downloading https://download.pytorch.org/whl/sympy-1.13.1-py3-none-any.whl (6.2 MB)\n",
      "\u001b[2K     \u001b[90m━━━━━━━━━━━━━━━━━━━━━━━━━━━━━━━━━━━━━━━━\u001b[0m \u001b[32m6.2/6.2 MB\u001b[0m \u001b[31m10.6 MB/s\u001b[0m eta \u001b[36m0:00:00\u001b[0ma \u001b[36m0:00:01\u001b[0m\n",
      "\u001b[?25hCollecting networkx (from torch==2.2.0)\n",
      "  Downloading https://download.pytorch.org/whl/networkx-3.3-py3-none-any.whl.metadata (5.1 kB)\n",
      "Collecting jinja2 (from torch==2.2.0)\n",
      "  Downloading https://download.pytorch.org/whl/Jinja2-3.1.4-py3-none-any.whl.metadata (2.6 kB)\n",
      "Collecting fsspec (from torch==2.2.0)\n",
      "  Downloading https://download.pytorch.org/whl/fsspec-2024.6.1-py3-none-any.whl.metadata (11 kB)\n",
      "Collecting nvidia-cuda-nvrtc-cu12==12.1.105 (from torch==2.2.0)\n",
      "  Downloading https://download.pytorch.org/whl/cu121/nvidia_cuda_nvrtc_cu12-12.1.105-py3-none-manylinux1_x86_64.whl (23.7 MB)\n",
      "\u001b[2K     \u001b[90m━━━━━━━━━━━━━━━━━━━━━━━━━━━━━━━━━━━━━━━━\u001b[0m \u001b[32m23.7/23.7 MB\u001b[0m \u001b[31m11.1 MB/s\u001b[0m eta \u001b[36m0:00:00\u001b[0ma \u001b[36m0:00:01\u001b[0m\n",
      "\u001b[?25hCollecting nvidia-cuda-runtime-cu12==12.1.105 (from torch==2.2.0)\n",
      "  Downloading https://download.pytorch.org/whl/cu121/nvidia_cuda_runtime_cu12-12.1.105-py3-none-manylinux1_x86_64.whl (823 kB)\n",
      "\u001b[2K     \u001b[90m━━━━━━━━━━━━━━━━━━━━━━━━━━━━━━━━━━━━━━━\u001b[0m \u001b[32m823.6/823.6 kB\u001b[0m \u001b[31m7.2 MB/s\u001b[0m eta \u001b[36m0:00:00\u001b[0m\n",
      "\u001b[?25hCollecting nvidia-cuda-cupti-cu12==12.1.105 (from torch==2.2.0)\n",
      "  Downloading https://download.pytorch.org/whl/cu121/nvidia_cuda_cupti_cu12-12.1.105-py3-none-manylinux1_x86_64.whl (14.1 MB)\n",
      "\u001b[2K     \u001b[90m━━━━━━━━━━━━━━━━━━━━━━━━━━━━━━━━━━━━━━━━\u001b[0m \u001b[32m14.1/14.1 MB\u001b[0m \u001b[31m12.5 MB/s\u001b[0m eta \u001b[36m0:00:00\u001b[0ma \u001b[36m0:00:01\u001b[0m\n",
      "\u001b[?25hCollecting nvidia-cudnn-cu12==8.9.2.26 (from torch==2.2.0)\n",
      "  Downloading https://download.pytorch.org/whl/cu121/nvidia_cudnn_cu12-8.9.2.26-py3-none-manylinux1_x86_64.whl (731.7 MB)\n",
      "\u001b[2K     \u001b[90m━━━━━━━━━━━━━━━━━━━━━━━━━━━━━━━━━━━━━━\u001b[0m \u001b[32m731.7/731.7 MB\u001b[0m \u001b[31m11.1 MB/s\u001b[0m eta \u001b[36m0:00:00\u001b[0m00:01\u001b[0m00:02\u001b[0m\n",
      "\u001b[?25hCollecting nvidia-cublas-cu12==12.1.3.1 (from torch==2.2.0)\n",
      "  Downloading https://download.pytorch.org/whl/cu121/nvidia_cublas_cu12-12.1.3.1-py3-none-manylinux1_x86_64.whl (410.6 MB)\n",
      "\u001b[2K     \u001b[90m━━━━━━━━━━━━━━━━━━━━━━━━━━━━━━━━━━━━━━\u001b[0m \u001b[32m410.6/410.6 MB\u001b[0m \u001b[31m10.7 MB/s\u001b[0m eta \u001b[36m0:00:00\u001b[0m00:01\u001b[0m00:02\u001b[0m\n",
      "\u001b[?25hCollecting nvidia-cufft-cu12==11.0.2.54 (from torch==2.2.0)\n",
      "  Downloading https://download.pytorch.org/whl/cu121/nvidia_cufft_cu12-11.0.2.54-py3-none-manylinux1_x86_64.whl (121.6 MB)\n",
      "\u001b[2K     \u001b[90m━━━━━━━━━━━━━━━━━━━━━━━━━━━━━━━━━━━━━━\u001b[0m \u001b[32m121.6/121.6 MB\u001b[0m \u001b[31m13.5 MB/s\u001b[0m eta \u001b[36m0:00:00\u001b[0m00:01\u001b[0m00:01\u001b[0m\n",
      "\u001b[?25hCollecting nvidia-curand-cu12==10.3.2.106 (from torch==2.2.0)\n",
      "  Downloading https://download.pytorch.org/whl/cu121/nvidia_curand_cu12-10.3.2.106-py3-none-manylinux1_x86_64.whl (56.5 MB)\n",
      "\u001b[2K     \u001b[90m━━━━━━━━━━━━━━━━━━━━━━━━━━━━━━━━━━━━━━━━\u001b[0m \u001b[32m56.5/56.5 MB\u001b[0m \u001b[31m13.9 MB/s\u001b[0m eta \u001b[36m0:00:00\u001b[0m00:01\u001b[0m00:01\u001b[0m\n",
      "\u001b[?25hCollecting nvidia-cusolver-cu12==11.4.5.107 (from torch==2.2.0)\n",
      "  Downloading https://download.pytorch.org/whl/cu121/nvidia_cusolver_cu12-11.4.5.107-py3-none-manylinux1_x86_64.whl (124.2 MB)\n",
      "\u001b[2K     \u001b[90m━━━━━━━━━━━━━━━━━━━━━━━━━━━━━━━━━━━━━━━\u001b[0m \u001b[32m124.2/124.2 MB\u001b[0m \u001b[31m9.8 MB/s\u001b[0m eta \u001b[36m0:00:00\u001b[0m00:01\u001b[0m00:01\u001b[0m\n",
      "\u001b[?25hCollecting nvidia-cusparse-cu12==12.1.0.106 (from torch==2.2.0)\n",
      "  Downloading https://download.pytorch.org/whl/cu121/nvidia_cusparse_cu12-12.1.0.106-py3-none-manylinux1_x86_64.whl (196.0 MB)\n",
      "\u001b[2K     \u001b[90m━━━━━━━━━━━━━━━━━━━━━━━━━━━━━━━━━━━━━━\u001b[0m \u001b[32m196.0/196.0 MB\u001b[0m \u001b[31m12.7 MB/s\u001b[0m eta \u001b[36m0:00:00\u001b[0m00:01\u001b[0m00:01\u001b[0m\n",
      "\u001b[?25hCollecting nvidia-nccl-cu12==2.19.3 (from torch==2.2.0)\n",
      "  Downloading https://download.pytorch.org/whl/cu121/nvidia_nccl_cu12-2.19.3-py3-none-manylinux1_x86_64.whl (166.0 MB)\n",
      "\u001b[2K     \u001b[90m━━━━━━━━━━━━━━━━━━━━━━━━━━━━━━━━━━━━━━\u001b[0m \u001b[32m166.0/166.0 MB\u001b[0m \u001b[31m12.5 MB/s\u001b[0m eta \u001b[36m0:00:00\u001b[0m00:01\u001b[0m00:01\u001b[0m\n",
      "\u001b[?25hCollecting nvidia-nvtx-cu12==12.1.105 (from torch==2.2.0)\n",
      "  Downloading https://download.pytorch.org/whl/cu121/nvidia_nvtx_cu12-12.1.105-py3-none-manylinux1_x86_64.whl (99 kB)\n",
      "Collecting triton==2.2.0 (from torch==2.2.0)\n",
      "  Downloading https://download.pytorch.org/whl/triton-2.2.0-cp310-cp310-manylinux_2_17_x86_64.manylinux2014_x86_64.whl (167.9 MB)\n",
      "\u001b[2K     \u001b[90m━━━━━━━━━━━━━━━━━━━━━━━━━━━━━━━━━━━━━━━\u001b[0m \u001b[32m167.9/167.9 MB\u001b[0m \u001b[31m5.3 MB/s\u001b[0m eta \u001b[36m0:00:00\u001b[0m00:01\u001b[0m00:01\u001b[0m\n",
      "\u001b[?25hCollecting numpy (from torchvision==0.17.0)\n",
      "  Downloading https://download.pytorch.org/whl/numpy-2.1.2-cp310-cp310-manylinux_2_17_x86_64.manylinux2014_x86_64.whl.metadata (60 kB)\n",
      "Collecting requests (from torchvision==0.17.0)\n",
      "  Downloading https://download.pytorch.org/whl/requests-2.28.1-py3-none-any.whl (62 kB)\n",
      "Collecting pillow!=8.3.*,>=5.3.0 (from torchvision==0.17.0)\n",
      "  Downloading https://download.pytorch.org/whl/pillow-11.0.0-cp310-cp310-manylinux_2_28_x86_64.whl.metadata (9.1 kB)\n",
      "Collecting tqdm (from torchtext==0.17.0)\n",
      "  Downloading https://download.pytorch.org/whl/tqdm-4.66.5-py3-none-any.whl (78 kB)\n",
      "Collecting torchdata==0.7.1 (from torchtext==0.17.0)\n",
      "  Downloading https://download.pytorch.org/whl/torchdata-0.7.1-cp310-cp310-manylinux_2_17_x86_64.manylinux2014_x86_64.whl (4.7 MB)\n",
      "\u001b[2K     \u001b[90m━━━━━━━━━━━━━━━━━━━━━━━━━━━━━━━━━━━━━━━━\u001b[0m \u001b[32m4.7/4.7 MB\u001b[0m \u001b[31m4.8 MB/s\u001b[0m eta \u001b[36m0:00:00\u001b[0ma \u001b[36m0:00:01\u001b[0m\n",
      "\u001b[?25hCollecting nvidia-nvjitlink-cu12 (from nvidia-cusolver-cu12==11.4.5.107->torch==2.2.0)\n",
      "  Downloading https://download.pytorch.org/whl/cu121/nvidia_nvjitlink_cu12-12.1.105-py3-none-manylinux1_x86_64.whl (19.8 MB)\n",
      "\u001b[2K     \u001b[90m━━━━━━━━━━━━━━━━━━━━━━━━━━━━━━━━━━━━━━━━\u001b[0m \u001b[32m19.8/19.8 MB\u001b[0m \u001b[31m6.1 MB/s\u001b[0m eta \u001b[36m0:00:00\u001b[0ma \u001b[36m0:00:01\u001b[0m\n",
      "\u001b[?25hCollecting urllib3>=1.25 (from torchdata==0.7.1->torchtext==0.17.0)\n",
      "  Downloading https://download.pytorch.org/whl/urllib3-1.26.13-py2.py3-none-any.whl (140 kB)\n",
      "Collecting MarkupSafe>=2.0 (from jinja2->torch==2.2.0)\n",
      "  Downloading https://download.pytorch.org/whl/MarkupSafe-2.1.5-cp310-cp310-manylinux_2_17_x86_64.manylinux2014_x86_64.whl (25 kB)\n",
      "Collecting charset-normalizer<3,>=2 (from requests->torchvision==0.17.0)\n",
      "  Downloading https://download.pytorch.org/whl/charset_normalizer-2.1.1-py3-none-any.whl (39 kB)\n",
      "Collecting idna<4,>=2.5 (from requests->torchvision==0.17.0)\n",
      "  Downloading https://download.pytorch.org/whl/idna-3.4-py3-none-any.whl (61 kB)\n",
      "Collecting certifi>=2017.4.17 (from requests->torchvision==0.17.0)\n",
      "  Downloading https://download.pytorch.org/whl/certifi-2022.12.7-py3-none-any.whl (155 kB)\n",
      "Collecting mpmath<1.4,>=1.1.0 (from sympy->torch==2.2.0)\n",
      "  Downloading https://download.pytorch.org/whl/mpmath-1.3.0-py3-none-any.whl (536 kB)\n",
      "\u001b[2K     \u001b[90m━━━━━━━━━━━━━━━━━━━━━━━━━━━━━━━━━━━━━━━\u001b[0m \u001b[32m536.2/536.2 kB\u001b[0m \u001b[31m2.8 MB/s\u001b[0m eta \u001b[36m0:00:00\u001b[0mm-:--:--\u001b[0m\n",
      "\u001b[?25hDownloading https://download.pytorch.org/whl/pillow-11.0.0-cp310-cp310-manylinux_2_28_x86_64.whl (4.4 MB)\n",
      "\u001b[2K   \u001b[90m━━━━━━━━━━━━━━━━━━━━━━━━━━━━━━━━━━━━━━━━\u001b[0m \u001b[32m4.4/4.4 MB\u001b[0m \u001b[31m5.2 MB/s\u001b[0m eta \u001b[36m0:00:00\u001b[0ma \u001b[36m0:00:01\u001b[0m\n",
      "\u001b[?25hDownloading https://download.pytorch.org/whl/filelock-3.13.1-py3-none-any.whl (11 kB)\n",
      "Downloading https://download.pytorch.org/whl/fsspec-2024.6.1-py3-none-any.whl (177 kB)\n",
      "Downloading https://download.pytorch.org/whl/Jinja2-3.1.4-py3-none-any.whl (133 kB)\n",
      "Downloading https://download.pytorch.org/whl/networkx-3.3-py3-none-any.whl (1.7 MB)\n",
      "\u001b[2K   \u001b[90m━━━━━━━━━━━━━━━━━━━━━━━━━━━━━━━━━━━━━━━━\u001b[0m \u001b[32m1.7/1.7 MB\u001b[0m \u001b[31m3.9 MB/s\u001b[0m eta \u001b[36m0:00:00\u001b[0ma \u001b[36m0:00:01\u001b[0m\n",
      "\u001b[?25hDownloading https://download.pytorch.org/whl/numpy-2.1.2-cp310-cp310-manylinux_2_17_x86_64.manylinux2014_x86_64.whl (16.3 MB)\n",
      "\u001b[2K   \u001b[90m━━━━━━━━━━━━━━━━━━━━━━━━━━━━━━━━━━━━━━━━\u001b[0m \u001b[32m16.3/16.3 MB\u001b[0m \u001b[31m3.3 MB/s\u001b[0m eta \u001b[36m0:00:00\u001b[0ma \u001b[36m0:00:01\u001b[0m\n",
      "\u001b[?25hInstalling collected packages: mpmath, urllib3, tqdm, sympy, pillow, nvidia-nvtx-cu12, nvidia-nvjitlink-cu12, nvidia-nccl-cu12, nvidia-curand-cu12, nvidia-cufft-cu12, nvidia-cuda-runtime-cu12, nvidia-cuda-nvrtc-cu12, nvidia-cuda-cupti-cu12, nvidia-cublas-cu12, numpy, networkx, MarkupSafe, idna, fsspec, filelock, charset-normalizer, certifi, triton, requests, nvidia-cusparse-cu12, nvidia-cudnn-cu12, jinja2, nvidia-cusolver-cu12, torch, torchvision, torchdata, torchaudio, torchtext\n",
      "Successfully installed MarkupSafe-2.1.5 certifi-2022.12.7 charset-normalizer-2.1.1 filelock-3.13.1 fsspec-2024.6.1 idna-3.4 jinja2-3.1.4 mpmath-1.3.0 networkx-3.3 numpy-2.1.2 nvidia-cublas-cu12-12.1.3.1 nvidia-cuda-cupti-cu12-12.1.105 nvidia-cuda-nvrtc-cu12-12.1.105 nvidia-cuda-runtime-cu12-12.1.105 nvidia-cudnn-cu12-8.9.2.26 nvidia-cufft-cu12-11.0.2.54 nvidia-curand-cu12-10.3.2.106 nvidia-cusolver-cu12-11.4.5.107 nvidia-cusparse-cu12-12.1.0.106 nvidia-nccl-cu12-2.19.3 nvidia-nvjitlink-cu12-12.1.105 nvidia-nvtx-cu12-12.1.105 pillow-11.0.0 requests-2.28.1 sympy-1.13.1 torch-2.2.0+cu121 torchaudio-2.2.0+cu121 torchdata-0.7.1 torchtext-0.17.0+cpu torchvision-0.17.0+cu121 tqdm-4.66.5 triton-2.2.0 urllib3-1.26.13\n",
      "\n",
      "\u001b[1m[\u001b[0m\u001b[34;49mnotice\u001b[0m\u001b[1;39;49m]\u001b[0m\u001b[39;49m A new release of pip is available: \u001b[0m\u001b[31;49m25.0\u001b[0m\u001b[39;49m -> \u001b[0m\u001b[32;49m25.0.1\u001b[0m\n",
      "\u001b[1m[\u001b[0m\u001b[34;49mnotice\u001b[0m\u001b[1;39;49m]\u001b[0m\u001b[39;49m To update, run: \u001b[0m\u001b[32;49mpip install --upgrade pip\u001b[0m\n",
      "Requirement already satisfied: torchdata in ./.venv/lib/python3.10/site-packages (0.7.1)\n",
      "Requirement already satisfied: urllib3>=1.25 in ./.venv/lib/python3.10/site-packages (from torchdata) (1.26.13)\n",
      "Requirement already satisfied: requests in ./.venv/lib/python3.10/site-packages (from torchdata) (2.28.1)\n",
      "Requirement already satisfied: torch>=2 in ./.venv/lib/python3.10/site-packages (from torchdata) (2.2.0+cu121)\n",
      "Requirement already satisfied: filelock in ./.venv/lib/python3.10/site-packages (from torch>=2->torchdata) (3.13.1)\n",
      "Requirement already satisfied: typing-extensions>=4.8.0 in ./.venv/lib/python3.10/site-packages (from torch>=2->torchdata) (4.12.2)\n",
      "Requirement already satisfied: sympy in ./.venv/lib/python3.10/site-packages (from torch>=2->torchdata) (1.13.1)\n",
      "Requirement already satisfied: networkx in ./.venv/lib/python3.10/site-packages (from torch>=2->torchdata) (3.3)\n",
      "Requirement already satisfied: jinja2 in ./.venv/lib/python3.10/site-packages (from torch>=2->torchdata) (3.1.4)\n",
      "Requirement already satisfied: fsspec in ./.venv/lib/python3.10/site-packages (from torch>=2->torchdata) (2024.6.1)\n",
      "Requirement already satisfied: nvidia-cuda-nvrtc-cu12==12.1.105 in ./.venv/lib/python3.10/site-packages (from torch>=2->torchdata) (12.1.105)\n",
      "Requirement already satisfied: nvidia-cuda-runtime-cu12==12.1.105 in ./.venv/lib/python3.10/site-packages (from torch>=2->torchdata) (12.1.105)\n",
      "Requirement already satisfied: nvidia-cuda-cupti-cu12==12.1.105 in ./.venv/lib/python3.10/site-packages (from torch>=2->torchdata) (12.1.105)\n",
      "Requirement already satisfied: nvidia-cudnn-cu12==8.9.2.26 in ./.venv/lib/python3.10/site-packages (from torch>=2->torchdata) (8.9.2.26)\n",
      "Requirement already satisfied: nvidia-cublas-cu12==12.1.3.1 in ./.venv/lib/python3.10/site-packages (from torch>=2->torchdata) (12.1.3.1)\n",
      "Requirement already satisfied: nvidia-cufft-cu12==11.0.2.54 in ./.venv/lib/python3.10/site-packages (from torch>=2->torchdata) (11.0.2.54)\n",
      "Requirement already satisfied: nvidia-curand-cu12==10.3.2.106 in ./.venv/lib/python3.10/site-packages (from torch>=2->torchdata) (10.3.2.106)\n",
      "Requirement already satisfied: nvidia-cusolver-cu12==11.4.5.107 in ./.venv/lib/python3.10/site-packages (from torch>=2->torchdata) (11.4.5.107)\n",
      "Requirement already satisfied: nvidia-cusparse-cu12==12.1.0.106 in ./.venv/lib/python3.10/site-packages (from torch>=2->torchdata) (12.1.0.106)\n",
      "Requirement already satisfied: nvidia-nccl-cu12==2.19.3 in ./.venv/lib/python3.10/site-packages (from torch>=2->torchdata) (2.19.3)\n",
      "Requirement already satisfied: nvidia-nvtx-cu12==12.1.105 in ./.venv/lib/python3.10/site-packages (from torch>=2->torchdata) (12.1.105)\n",
      "Requirement already satisfied: triton==2.2.0 in ./.venv/lib/python3.10/site-packages (from torch>=2->torchdata) (2.2.0)\n",
      "Requirement already satisfied: nvidia-nvjitlink-cu12 in ./.venv/lib/python3.10/site-packages (from nvidia-cusolver-cu12==11.4.5.107->torch>=2->torchdata) (12.1.105)\n",
      "Requirement already satisfied: charset-normalizer<3,>=2 in ./.venv/lib/python3.10/site-packages (from requests->torchdata) (2.1.1)\n",
      "Requirement already satisfied: idna<4,>=2.5 in ./.venv/lib/python3.10/site-packages (from requests->torchdata) (3.4)\n",
      "Requirement already satisfied: certifi>=2017.4.17 in ./.venv/lib/python3.10/site-packages (from requests->torchdata) (2022.12.7)\n",
      "Requirement already satisfied: MarkupSafe>=2.0 in ./.venv/lib/python3.10/site-packages (from jinja2->torch>=2->torchdata) (2.1.5)\n",
      "Requirement already satisfied: mpmath<1.4,>=1.1.0 in ./.venv/lib/python3.10/site-packages (from sympy->torch>=2->torchdata) (1.3.0)\n",
      "\n",
      "\u001b[1m[\u001b[0m\u001b[34;49mnotice\u001b[0m\u001b[1;39;49m]\u001b[0m\u001b[39;49m A new release of pip is available: \u001b[0m\u001b[31;49m25.0\u001b[0m\u001b[39;49m -> \u001b[0m\u001b[32;49m25.0.1\u001b[0m\n",
      "\u001b[1m[\u001b[0m\u001b[34;49mnotice\u001b[0m\u001b[1;39;49m]\u001b[0m\u001b[39;49m To update, run: \u001b[0m\u001b[32;49mpip install --upgrade pip\u001b[0m\n"
     ]
    }
   ],
   "source": [
    "# You need to downgrade the colab torch version to make this work\n",
    "!pip install torch==2.2.0 torchvision==0.17.0 torchaudio==2.2.0 torchtext==0.17.0 --index-url https://download.pytorch.org/whl/cu121\n",
    "!pip install torchdata"
   ]
  },
  {
   "cell_type": "code",
   "execution_count": 1,
   "id": "080d50fc",
   "metadata": {
    "id": "080d50fc"
   },
   "outputs": [],
   "source": [
    "import time\n",
    "import torch\n",
    "from torch.utils.data import DataLoader, TensorDataset\n",
    "from torchtext.data.utils import get_tokenizer\n",
    "from torchtext.datasets import DATASETS\n",
    "from torchtext.vocab import build_vocab_from_iterator\n",
    "import torch.nn as nn\n",
    "from tqdm import tqdm\n",
    "import pickle\n",
    "import random\n",
    "import numpy as np\n",
    "from collections import Counter, defaultdict\n",
    "import numpy as np\n",
    "import matplotlib.pyplot as plt\n",
    "from sklearn.decomposition import PCA\n",
    "from gensim.test.utils import datapath, get_tmpfile\n",
    "from gensim.models import KeyedVectors\n",
    "import gensim.downloader\n",
    "from torch import FloatTensor as FT\n",
    "\n",
    "# Get the interactive Tools for Matplotlib\n",
    "%matplotlib notebook\n",
    "%matplotlib inline\n",
    "\n",
    "plt.style.use('ggplot')"
   ]
  },
  {
   "cell_type": "markdown",
   "id": "66eb271d",
   "metadata": {
    "id": "66eb271d"
   },
   "source": [
    "### Instructions\n",
    "For this part, fill in the required code and make the notebook work. This wll be very similar to the Skip-Gram model, but a little more difficult. Look for the \"\"\" FILL IN \"\"\" string to guide you."
   ]
  },
  {
   "cell_type": "code",
   "execution_count": 2,
   "id": "31b412ca",
   "metadata": {
    "id": "31b412ca"
   },
   "outputs": [],
   "source": [
    "# Where do I want to run my job. You can do \"cuda\" on linux machines\n",
    "# DEVICE = \"mps\" if torch.backends.mps.is_available() else  \"cpu\"\n",
    "DEVICE = \"cuda\" if torch.cuda.is_available() else  \"cpu\"\n",
    "\n",
    "# The batch size in Adam or SGD\n",
    "BATCH_SIZE = 512\n",
    "\n",
    "# Number of epochs\n",
    "NUM_EPOCHS = 10\n",
    "\n",
    "# Predict from 2 words the inner word for CBOW\n",
    "# I.e. I'll have a window like [\"a\", \"b\", \"c\"] of continuous text (each is a word)\n",
    "# We'll predict each of wc = [\"a\", \"c\"] from \"b\" = wc for Skip-Gram\n",
    "# For CBOW, we'll use [\"a\", \"c\"] to predict \"b\" = wo\n",
    "WINDOW = 1\n",
    "\n",
    "# Negative samples.\n",
    "K = 4"
   ]
  },
  {
   "cell_type": "code",
   "execution_count": null,
   "id": "e3311ae5",
   "metadata": {
    "id": "e3311ae5"
   },
   "outputs": [],
   "source": []
  },
  {
   "cell_type": "markdown",
   "id": "3ec9f90a",
   "metadata": {
    "id": "3ec9f90a"
   },
   "source": [
    "The text8 Wikipedia corpus. 100M characters."
   ]
  },
  {
   "cell_type": "code",
   "execution_count": 3,
   "id": "3217b67b",
   "metadata": {
    "id": "3217b67b",
    "outputId": "f9b59c10-cfa3-4340-e241-0591a258aa17"
   },
   "outputs": [
    {
     "name": "stdout",
     "output_type": "stream",
     "text": [
      "100000000\n"
     ]
    }
   ],
   "source": [
    "f = open('text8-1', 'r')\n",
    "text = f.read()\n",
    "# One big string of size 100M\n",
    "print(len(text))"
   ]
  },
  {
   "cell_type": "code",
   "execution_count": 4,
   "id": "6c1bf892",
   "metadata": {
    "id": "6c1bf892"
   },
   "outputs": [],
   "source": [
    "punc = '!\"#$%&()*+,-./:;<=>?@[\\\\]^_\\'{|}~\\t\\n'\n",
    "\n",
    "# Can do regular expressions here too\n",
    "for c in punc:\n",
    "    if c in text:\n",
    "        text.replace(c, ' ')"
   ]
  },
  {
   "cell_type": "code",
   "execution_count": 5,
   "id": "0bc19b0c",
   "metadata": {
    "id": "0bc19b0c"
   },
   "outputs": [],
   "source": [
    "# A very crude tokenizer you get for free: lower case and also split on spaces\n",
    "TOKENIZER = get_tokenizer(\"basic_english\")"
   ]
  },
  {
   "cell_type": "code",
   "execution_count": 6,
   "id": "ff8fd598",
   "metadata": {
    "id": "ff8fd598"
   },
   "outputs": [],
   "source": [
    "words = TOKENIZER(text)\n",
    "f = Counter(words)"
   ]
  },
  {
   "cell_type": "code",
   "execution_count": 7,
   "id": "ba7f72f8",
   "metadata": {
    "id": "ba7f72f8",
    "outputId": "cc86ab03-1f62-4bec-f360-915390768296"
   },
   "outputs": [
    {
     "data": {
      "text/plain": [
       "17005207"
      ]
     },
     "execution_count": 7,
     "metadata": {},
     "output_type": "execute_result"
    }
   ],
   "source": [
    "len(words)"
   ]
  },
  {
   "cell_type": "code",
   "execution_count": 8,
   "id": "16b736a4",
   "metadata": {
    "id": "16b736a4"
   },
   "outputs": [],
   "source": [
    "# Do a very crude filter on the text which removes all very popular words\n",
    "text = [word for word in words if f[word] > 5]"
   ]
  },
  {
   "cell_type": "code",
   "execution_count": 9,
   "id": "6916a763",
   "metadata": {
    "id": "6916a763",
    "outputId": "7e679f77-14b2-48d8-c5bb-12c65fde4ab4"
   },
   "outputs": [
    {
     "data": {
      "text/plain": [
       "['anarchism', 'originated', 'as', 'a', 'term']"
      ]
     },
     "execution_count": 9,
     "metadata": {},
     "output_type": "execute_result"
    }
   ],
   "source": [
    "text[0:5]"
   ]
  },
  {
   "cell_type": "code",
   "execution_count": 10,
   "id": "10ad817a",
   "metadata": {
    "id": "10ad817a"
   },
   "outputs": [],
   "source": [
    "VOCAB = build_vocab_from_iterator([text])"
   ]
  },
  {
   "cell_type": "code",
   "execution_count": 11,
   "id": "a7f69fc9",
   "metadata": {
    "id": "a7f69fc9"
   },
   "outputs": [],
   "source": [
    "# word -> int hash map\n",
    "stoi = VOCAB.get_stoi()\n",
    "# int -> word hash map\n",
    "itos = VOCAB.get_itos()"
   ]
  },
  {
   "cell_type": "code",
   "execution_count": 12,
   "id": "9991f9ab",
   "metadata": {
    "id": "9991f9ab",
    "outputId": "f1085681-7a27-4a42-e2a6-169d0d9e0cd0"
   },
   "outputs": [
    {
     "data": {
      "text/plain": [
       "11"
      ]
     },
     "execution_count": 12,
     "metadata": {},
     "output_type": "execute_result"
    }
   ],
   "source": [
    "stoi['as']"
   ]
  },
  {
   "cell_type": "code",
   "execution_count": 13,
   "id": "0f49f5fa",
   "metadata": {
    "id": "0f49f5fa",
    "outputId": "7e5b203c-2853-4b2c-cc89-dbe1001206ab"
   },
   "outputs": [
    {
     "data": {
      "text/plain": [
       "63641"
      ]
     },
     "execution_count": 13,
     "metadata": {},
     "output_type": "execute_result"
    }
   ],
   "source": [
    "# Total number of words\n",
    "len(stoi)"
   ]
  },
  {
   "cell_type": "code",
   "execution_count": 14,
   "id": "6c5c415a",
   "metadata": {
    "id": "6c5c415a"
   },
   "outputs": [],
   "source": [
    "f = Counter(text)\n",
    "# This is the probability that we pick a word in the corpus\n",
    "z = {word: f[word] / len(text) for word in f}"
   ]
  },
  {
   "cell_type": "code",
   "execution_count": 15,
   "id": "1e543e1e",
   "metadata": {
    "id": "1e543e1e"
   },
   "outputs": [],
   "source": [
    "threshold = 1e-5\n",
    "# Probability that word is kept while subsampling\n",
    "# This is explained here and sightly differet from the paper: http://mccormickml.com/2017/01/11/word2vec-tutorial-part-2-negative-sampling/\n",
    "p_keep = {word: (np.sqrt(z[word] / 0.001) + 1)*(0.0001 / z[word]) for word in f}"
   ]
  },
  {
   "cell_type": "code",
   "execution_count": 16,
   "id": "dd22119d",
   "metadata": {
    "id": "dd22119d"
   },
   "outputs": [],
   "source": [
    "# This is in the integer space\n",
    "train_dataset = [word for word in text if random.random() < p_keep[word]]\n",
    "\n",
    "# Rebuild the vocabulary\n",
    "VOCAB = build_vocab_from_iterator([train_dataset])"
   ]
  },
  {
   "cell_type": "code",
   "execution_count": 17,
   "id": "a2d695da",
   "metadata": {
    "id": "a2d695da",
    "outputId": "9bb0b54c-a8e1-4cbc-bdcb-c4b4b02cc651"
   },
   "outputs": [
    {
     "data": {
      "text/plain": [
       "7847351"
      ]
     },
     "execution_count": 17,
     "metadata": {},
     "output_type": "execute_result"
    }
   ],
   "source": [
    "len(train_dataset)"
   ]
  },
  {
   "cell_type": "code",
   "execution_count": 18,
   "id": "30d67549",
   "metadata": {
    "id": "30d67549"
   },
   "outputs": [],
   "source": [
    "# word -> int mapping\n",
    "stoi = VOCAB.get_stoi()\n",
    "# int -> word mapping\n",
    "itos = VOCAB.get_itos()"
   ]
  },
  {
   "cell_type": "code",
   "execution_count": 19,
   "id": "b46337b8",
   "metadata": {
    "id": "b46337b8",
    "outputId": "e6099736-5401-4dbc-8908-64fb8babd6a1"
   },
   "outputs": [
    {
     "data": {
      "text/plain": [
       "63641"
      ]
     },
     "execution_count": 19,
     "metadata": {},
     "output_type": "execute_result"
    }
   ],
   "source": [
    "# The vocabulary size after we do all the filters\n",
    "len(VOCAB)"
   ]
  },
  {
   "cell_type": "code",
   "execution_count": 20,
   "id": "c9346f36",
   "metadata": {
    "id": "c9346f36"
   },
   "outputs": [],
   "source": [
    "# The probability we draw something for negative sampling\n",
    "f = Counter(train_dataset)\n",
    "p = torch.zeros(len(VOCAB))\n",
    "\n",
    "# Downsample frequent words and upsample less frequent\n",
    "s = sum([np.power(freq, 0.75) for word, freq in f.items()])\n",
    "\n",
    "for word in f:\n",
    "    p[stoi[word]] = np.power(f[word], 0.75) / s"
   ]
  },
  {
   "cell_type": "code",
   "execution_count": 21,
   "id": "dd713c15",
   "metadata": {
    "id": "dd713c15"
   },
   "outputs": [],
   "source": [
    "# Map everything to integers\n",
    "train_dataset = [stoi[word] for word in text]"
   ]
  },
  {
   "cell_type": "code",
   "execution_count": null,
   "id": "8e96c0c4",
   "metadata": {
    "id": "8e96c0c4"
   },
   "outputs": [],
   "source": [
    "# This just gets the (wc, wo) pairs that are positive - they are seen together!\n",
    "def get_tokenized_dataset(dataset, verbose=False):\n",
    "    x_list = []\n",
    "\n",
    "    for i, token in enumerate(dataset):\n",
    "        m = 1\n",
    "\n",
    "        # Get the left and right tokens\n",
    "        start = i-m\n",
    "        left_tokens = dataset[start:i]\n",
    "\n",
    "        end = i+m+1\n",
    "        right_tokens = dataset[i+1:end]\n",
    "\n",
    "        # Check these are the same length, and if so use them to add a row of data. This should be a list like\n",
    "        # [a, c, b] where b is the center word\n",
    "        if len(left_tokens) == len(right_tokens):\n",
    "            w_context = left_tokens + right_tokens\n",
    "\n",
    "            wc = [token]\n",
    "\n",
    "            x_list.extend(\n",
    "                [w_context + wc]\n",
    "            )\n",
    "\n",
    "    return x_list"
   ]
  },
  {
   "cell_type": "code",
   "execution_count": 23,
   "id": "3eb82aad",
   "metadata": {
    "id": "3eb82aad"
   },
   "outputs": [],
   "source": [
    "train_x_list = get_tokenized_dataset(train_dataset, verbose=False)"
   ]
  },
  {
   "cell_type": "code",
   "execution_count": 24,
   "id": "8412ee4d",
   "metadata": {
    "id": "8412ee4d"
   },
   "outputs": [],
   "source": [
    "pickle.dump(train_x_list, open('train_x_list.pkl', 'wb'))"
   ]
  },
  {
   "cell_type": "code",
   "execution_count": 25,
   "id": "3fd54caf",
   "metadata": {
    "id": "3fd54caf"
   },
   "outputs": [],
   "source": [
    "train_x_list = pickle.load(open('train_x_list.pkl', 'rb'))"
   ]
  },
  {
   "cell_type": "code",
   "execution_count": 26,
   "id": "576765f3",
   "metadata": {
    "id": "576765f3",
    "outputId": "920cd25e-b9f6-413d-b517-0aeaecac95e0"
   },
   "outputs": [
    {
     "data": {
      "text/plain": [
       "[[5233, 11, 3083],\n",
       " [3083, 5, 11],\n",
       " [11, 199, 5],\n",
       " [5, 1, 199],\n",
       " [199, 3133, 1],\n",
       " [1, 44, 3133],\n",
       " [3133, 59, 44],\n",
       " [44, 173, 59],\n",
       " [59, 121, 173],\n",
       " [173, 741, 121]]"
      ]
     },
     "execution_count": 26,
     "metadata": {},
     "output_type": "execute_result"
    }
   ],
   "source": [
    "# These are (wc, wo) pairs. All are y = +1 by design\n",
    "train_x_list[:10]"
   ]
  },
  {
   "cell_type": "code",
   "execution_count": 27,
   "id": "316df1dc",
   "metadata": {
    "id": "316df1dc",
    "outputId": "b24f68fd-c8b3-4f4f-f187-6d93fbdb85fd"
   },
   "outputs": [],
   "source": [
    "# The number of things of BATCH_SIZE = 512\n",
    "assert(len(train_x_list) // BATCH_SIZE == 32579)"
   ]
  },
  {
   "cell_type": "markdown",
   "id": "488c3519",
   "metadata": {
    "id": "488c3519"
   },
   "source": [
    "### Set up the dataloader."
   ]
  },
  {
   "cell_type": "code",
   "execution_count": 28,
   "id": "2e31ae4b",
   "metadata": {
    "id": "2e31ae4b"
   },
   "outputs": [],
   "source": [
    "train_dl = DataLoader(\n",
    "    TensorDataset(\n",
    "        torch.tensor(train_x_list).to(DEVICE),\n",
    "    ),\n",
    "    batch_size=BATCH_SIZE,\n",
    "    shuffle=True\n",
    ")"
   ]
  },
  {
   "cell_type": "code",
   "execution_count": 29,
   "id": "e9c42f50",
   "metadata": {
    "id": "e9c42f50"
   },
   "outputs": [],
   "source": [
    "for xb in train_dl:\n",
    "    assert(xb[0].shape == (BATCH_SIZE, 3))\n",
    "    break"
   ]
  },
  {
   "cell_type": "markdown",
   "id": "12d93d22",
   "metadata": {
    "id": "12d93d22"
   },
   "source": [
    "### Words we'll use to asses the quality of the model ..."
   ]
  },
  {
   "cell_type": "code",
   "execution_count": 30,
   "id": "ffada8d0",
   "metadata": {
    "id": "ffada8d0"
   },
   "outputs": [],
   "source": [
    "valid_ids = torch.tensor([\n",
    "    stoi['money'],\n",
    "    stoi['lion'],\n",
    "    stoi['africa'],\n",
    "    stoi['musician'],\n",
    "    stoi['dance'],\n",
    "])"
   ]
  },
  {
   "cell_type": "markdown",
   "id": "64096cd8",
   "metadata": {
    "id": "64096cd8"
   },
   "source": [
    "### Get the model."
   ]
  },
  {
   "cell_type": "code",
   "execution_count": 81,
   "id": "dc51c359",
   "metadata": {
    "id": "dc51c359"
   },
   "outputs": [],
   "source": [
    "class CBOWNegativeSampling(nn.Module):\n",
    "    def __init__(self, vocab_size, embed_dim):\n",
    "        super(CBOWNegativeSampling, self).__init__()\n",
    "        self.A = nn.Embedding(vocab_size, embed_dim) # Context vectors - center word\n",
    "        self.B = nn.Embedding(vocab_size, embed_dim) # Output vectors - words around the center word\n",
    "        self.init_weights()\n",
    "\n",
    "    def init_weights(self):\n",
    "        # Is this the best way? Not sure\n",
    "        initrange = 0.5\n",
    "        self.A.weight.data.uniform_(-initrange, initrange)\n",
    "        self.B.weight.data.uniform_(-initrange, initrange)\n",
    "\n",
    "    def forward(self, x):\n",
    "        # N is the batch size\n",
    "        # x is (N, 3)\n",
    "\n",
    "        # Context words are 2m things, m = 1 so w_context is (N, 2) while wc is (N, 1)\n",
    "        w_context, wc = x[:,:-1], x[:, -1:]\n",
    "\n",
    "        # Each of these is (N, 2, D) since each context has 2 word\n",
    "        # We want this to be (N, D) and this is what we get\n",
    "\n",
    "        # (N, 2, D)\n",
    "        a = self.A(w_context)\n",
    "        \n",
    "        # (N, D)\n",
    "        a_avg = torch.mean(a, dim=1, keepdim=True)\n",
    "        \n",
    "        # Each of these is (N, D) since each target has 1 word\n",
    "        b = self.B(wc)\n",
    "        \n",
    "        # The product between each context and target vector. Look at the Skip-Gram code.\n",
    "        # The logits is now (N, 1) since we sum across the final dimension.\n",
    "        logits = (a_avg * b).sum(axis=-1)\n",
    "        \n",
    "        return logits"
   ]
  },
  {
   "cell_type": "code",
   "execution_count": 82,
   "id": "ed9c509d",
   "metadata": {
    "id": "ed9c509d"
   },
   "outputs": [],
   "source": [
    "@torch.no_grad()\n",
    "def validate_embeddings(\n",
    "    model,\n",
    "    valid_ids,\n",
    "    itos\n",
    "):\n",
    "    \"\"\" Validation logic \"\"\"\n",
    "\n",
    "    # We will use context embeddings to get the most similar words\n",
    "    # Other strategies include: using target embeddings, mean embeddings after avaraging context/target\n",
    "    embedding_weights = model.A.weight\n",
    "\n",
    "    normalized_embeddings = embedding_weights.cpu() / np.sqrt(\n",
    "        np.sum(embedding_weights.cpu().numpy()**2, axis=1, keepdims=True)\n",
    "    )\n",
    "\n",
    "    # Get the embeddings corresponding to valid_term_ids\n",
    "    valid_embeddings = normalized_embeddings[valid_ids, :]\n",
    "\n",
    "    # Compute the similarity between valid_term_ids (S) and all the embeddings (V)\n",
    "    # We do S x d (d x V) => S x D and sort by negative similarity\n",
    "    top_k = 10 # Top k items will be displayed\n",
    "    similarity = np.dot(valid_embeddings.cpu().numpy(), normalized_embeddings.cpu().numpy().T)\n",
    "\n",
    "    # Invert similarity matrix to negative\n",
    "    # Ignore the first one because that would be the same word as the probe word\n",
    "    similarity_top_k = np.argsort(-similarity, axis=1)[:, 1: top_k+1]\n",
    "\n",
    "    # Print the output.\n",
    "    for i, word_id in enumerate(valid_ids):\n",
    "        # j >= 1 here since we don't want to include the word itself.\n",
    "        similar_word_str = ', '.join([itos[j] for j in similarity_top_k[i, :] if j >= 1])\n",
    "        print(f\"{itos[word_id]}: {similar_word_str}\")\n",
    "\n",
    "    print('\\n')"
   ]
  },
  {
   "cell_type": "markdown",
   "id": "3b3c6ed5",
   "metadata": {
    "id": "3b3c6ed5"
   },
   "source": [
    "### Set up the model"
   ]
  },
  {
   "cell_type": "code",
   "execution_count": 83,
   "id": "16da95d1",
   "metadata": {
    "id": "16da95d1"
   },
   "outputs": [],
   "source": [
    "LR = 10.0\n",
    "NUM_EPOCHS = 10\n",
    "EMBED_DIM = 300"
   ]
  },
  {
   "cell_type": "code",
   "execution_count": 84,
   "id": "cef585f4",
   "metadata": {
    "id": "cef585f4"
   },
   "outputs": [],
   "source": [
    "model = CBOWNegativeSampling(len(VOCAB), EMBED_DIM).to(DEVICE)\n",
    "optimizer = torch.optim.SGD(model.parameters(), lr=LR)\n",
    "\n",
    "# The learning rate is lowered every epoch by 1/10\n",
    "# Is this a good idea?\n",
    "scheduler = torch.optim.lr_scheduler.StepLR(optimizer, 1, gamma=0.1)"
   ]
  },
  {
   "cell_type": "code",
   "execution_count": 85,
   "id": "f8a642bf",
   "metadata": {
    "id": "f8a642bf"
   },
   "outputs": [
    {
     "data": {
      "text/plain": [
       "CBOWNegativeSampling(\n",
       "  (A): Embedding(63641, 300)\n",
       "  (B): Embedding(63641, 300)\n",
       ")"
      ]
     },
     "execution_count": 85,
     "metadata": {},
     "output_type": "execute_result"
    }
   ],
   "source": [
    "model"
   ]
  },
  {
   "cell_type": "code",
   "execution_count": 86,
   "id": "85773616",
   "metadata": {
    "id": "85773616"
   },
   "outputs": [
    {
     "name": "stdout",
     "output_type": "stream",
     "text": [
      "money: gauleiter, localities, requesting, hosius, strains, piraeus, frustration, freedesktop, uninitiated, kristina\n",
      "lion: polly, distilled, debaters, tokai, petals, strangest, turbocharged, diger, undercroft, broadly\n",
      "africa: schichau, height, mafioso, amine, vernor, contractually, autographs, flies, recalled, gauthier\n",
      "musician: zh, nonalignment, actor, judgement, monochromatic, intercalary, adequate, antinori, iommi, dandruff\n",
      "dance: solomons, jurisdictions, strau, hemispheres, commensurate, tabla, goryeo, boeotian, cree, physiologically\n",
      "\n",
      "\n"
     ]
    }
   ],
   "source": [
    "validate_embeddings(model, valid_ids, itos)"
   ]
  },
  {
   "cell_type": "markdown",
   "id": "86476e2a",
   "metadata": {
    "id": "86476e2a"
   },
   "source": [
    "### Train the model"
   ]
  },
  {
   "cell_type": "code",
   "execution_count": 87,
   "id": "24950481",
   "metadata": {
    "id": "24950481"
   },
   "outputs": [],
   "source": [
    "ratios = []\n",
    "\n",
    "def train(dataloader, model, optimizer, epoch):\n",
    "    model.train()\n",
    "    total_acc, total_count, total_loss, total_batches = 0, 0, 0.0, 0.0\n",
    "    log_interval = 500\n",
    "\n",
    "    for idx, x_batch in tqdm(enumerate(dataloader)):\n",
    "\n",
    "        x_batch = x_batch[0]\n",
    "\n",
    "        batch_size = x_batch.shape[0]\n",
    "\n",
    "        # Zero the gradient so they don't accumulate\n",
    "        optimizer.zero_grad()\n",
    "\n",
    "        logits = model(x_batch)\n",
    "\n",
    "        # Get the positive samples loss. Notice we use weights here\n",
    "        positive_loss = torch.nn.BCEWithLogitsLoss()(input=logits, target=torch.ones(batch_size).to(DEVICE).float().unsqueeze(1))\n",
    "\n",
    "        # For each batch, get some negative samples\n",
    "        # We need a total of len(y_batch) * K samples across a batch\n",
    "        # We then reshape this batch\n",
    "        # These are effectively the output words\n",
    "        negative_samples = torch.multinomial(p, batch_size * K, replacement=True)\n",
    "\n",
    "        # Context words are 2m things, m = 1 so w_context is (N, 2) while wc is (N, 1)\n",
    "        w_context, wc = x_batch[:,:-1], x_batch[:, -1:]\n",
    "\n",
    "        \"\"\"\n",
    "        if w_context looks like below (batch_size = 3)\n",
    "        [\n",
    "        (a, b),\n",
    "        (c, d),\n",
    "        (e, f)\n",
    "        ] and K = 2 we'd like to get:\n",
    "\n",
    "        [\n",
    "        (a, b),\n",
    "        (a, b),\n",
    "        (c, d),\n",
    "        (c, d),\n",
    "        (e, f),\n",
    "        (e, f)\n",
    "        ]\n",
    "\n",
    "        This will be batch_size * K rows.\n",
    "        \"\"\"\n",
    "\n",
    "        # This should be (N * K, 2)\n",
    "        w_context = torch.concat([\n",
    "            w.repeat(K, 1) for w in torch.tensor(w_context).split(1)\n",
    "        ])\n",
    "        # Remove the last dimension 1\n",
    "        wc = negative_samples.unsqueeze(1).to(DEVICE)\n",
    "\n",
    "        # Get the negative samples. This should be (N * K, 3)\n",
    "        # Concatenate the w_context and wc along the column. Make sure everything is on CUDA / MPS or CPU\n",
    "        x_batch_negative = torch.cat([w_context, wc], axis=1).to(DEVICE)\n",
    "\n",
    "        \"\"\"\n",
    "        Note the way we formulated the targets: they are all 0 since these are negative samples.\n",
    "        We do the BCEWithLogitsLoss by hand basically here.\n",
    "        Notice we sum across the negative samples, per positive word.\n",
    "\n",
    "        This is literally the equation in the lecture notes.\n",
    "        \"\"\"\n",
    "\n",
    "        # (N, K, D) -> (N, D) -> (N)\n",
    "        # Look at the Skip-Gram notebook\n",
    "        negative_loss = model(x_batch_negative).neg().sigmoid().log().reshape(\n",
    "            batch_size, K\n",
    "        ).sum(1).mean().neg().to(DEVICE)\n",
    "\n",
    "        loss = (positive_loss + negative_loss).mean()\n",
    "\n",
    "        # Get the gradients via back propagation\n",
    "        loss.backward()\n",
    "\n",
    "        # Clip the gradients? Generally a good idea\n",
    "        torch.nn.utils.clip_grad_norm_(model.parameters(), 0.1)\n",
    "\n",
    "        # Do an optimization step. Update the parameters A and B\n",
    "        optimizer.step()\n",
    "        \n",
    "        # Get the new loss\n",
    "        total_loss += loss.item()\n",
    "        \n",
    "        # Update the batch count\n",
    "        total_batches += 1\n",
    "\n",
    "        if idx % log_interval == 0:\n",
    "            print(\n",
    "                \"| epoch {:3d} | {:5d}/{:5d} batches \"\n",
    "                \"| loss {:8.3f} \".format(\n",
    "                    epoch,\n",
    "                    idx,\n",
    "                    len(dataloader),\n",
    "                    total_loss / total_batches\n",
    "                )\n",
    "            )\n",
    "            validate_embeddings(model, valid_ids, itos)\n",
    "            total_loss, total_batches = 0.0, 0.0"
   ]
  },
  {
   "cell_type": "markdown",
   "id": "0764d675",
   "metadata": {
    "id": "0764d675"
   },
   "source": [
    "### Some results from the run look like below:\n",
    "\n",
    "Somewhere inside of 2 iterations you should get sensible associattions.\n",
    "Paste here a screenshot of the closest vectors."
   ]
  },
  {
   "cell_type": "code",
   "execution_count": 88,
   "id": "a9e02c09",
   "metadata": {
    "id": "a9e02c09",
    "outputId": "42656713-6543-42c8-a988-2579c132e973"
   },
   "outputs": [
    {
     "name": "stderr",
     "output_type": "stream",
     "text": [
      "0it [00:00, ?it/s]/tmp/ipykernel_24335/3496840721.py:53: UserWarning: To copy construct from a tensor, it is recommended to use sourceTensor.clone().detach() or sourceTensor.clone().detach().requires_grad_(True), rather than torch.tensor(sourceTensor).\n",
      "  w.repeat(K, 1) for w in torch.tensor(w_context).split(1)\n",
      "1it [00:01,  1.37s/it]"
     ]
    },
    {
     "name": "stdout",
     "output_type": "stream",
     "text": [
      "| epoch   1 |     0/32580 batches | loss    4.098 \n",
      "money: gauleiter, localities, requesting, hosius, strains, piraeus, frustration, freedesktop, uninitiated, kristina\n",
      "lion: polly, distilled, debaters, tokai, petals, strangest, turbocharged, diger, undercroft, broadly\n",
      "africa: schichau, height, mafioso, amine, vernor, contractually, autographs, flies, recalled, gauthier\n",
      "musician: zh, nonalignment, actor, judgement, monochromatic, intercalary, adequate, antinori, iommi, dandruff\n",
      "dance: solomons, jurisdictions, strau, hemispheres, commensurate, tabla, goryeo, boeotian, cree, physiologically\n",
      "\n",
      "\n"
     ]
    },
    {
     "name": "stderr",
     "output_type": "stream",
     "text": [
      "496it [00:09, 51.94it/s] "
     ]
    },
    {
     "name": "stdout",
     "output_type": "stream",
     "text": [
      "| epoch   1 |   500/32580 batches | loss    3.709 \n",
      "money: gauleiter, localities, requesting, hosius, strains, piraeus, frustration, freedesktop, kristina, uninitiated\n",
      "lion: polly, distilled, debaters, turbocharged, strangest, petals, tokai, diger, broadly, undercroft\n",
      "africa: schichau, height, mafioso, vernor, amine, contractually, autographs, flies, gauthier, recalled\n",
      "musician: zh, nonalignment, judgement, actor, monochromatic, intercalary, adequate, iommi, antinori, dandruff\n",
      "dance: solomons, jurisdictions, strau, commensurate, hemispheres, tabla, goryeo, boeotian, cree, physiologically\n",
      "\n",
      "\n"
     ]
    },
    {
     "name": "stderr",
     "output_type": "stream",
     "text": [
      "997it [00:19, 49.26it/s]"
     ]
    },
    {
     "name": "stdout",
     "output_type": "stream",
     "text": [
      "| epoch   1 |  1000/32580 batches | loss    3.346 \n",
      "money: gauleiter, localities, requesting, hosius, strains, piraeus, uninitiated, frustration, kristina, stupendous\n",
      "lion: polly, distilled, debaters, turbocharged, strangest, tokai, petals, diger, undercroft, broadly\n",
      "africa: schichau, height, mafioso, vernor, amine, contractually, autographs, gauthier, flies, restored\n",
      "musician: zh, judgement, actor, nonalignment, monochromatic, intercalary, adequate, iommi, antinori, teutoburg\n",
      "dance: solomons, jurisdictions, hemispheres, strau, commensurate, tabla, goryeo, boeotian, cree, lenr\n",
      "\n",
      "\n"
     ]
    },
    {
     "name": "stderr",
     "output_type": "stream",
     "text": [
      "1501it [00:30, 35.40it/s]"
     ]
    },
    {
     "name": "stdout",
     "output_type": "stream",
     "text": [
      "| epoch   1 |  1500/32580 batches | loss    3.015 \n",
      "money: gauleiter, localities, requesting, strains, hosius, piraeus, spoleto, stupendous, kristina, uninitiated\n",
      "lion: polly, distilled, debaters, turbocharged, strangest, tokai, petals, diger, undercroft, broadly\n",
      "africa: height, schichau, vernor, mafioso, amine, contractually, autographs, gauthier, flies, atheistic\n",
      "musician: actor, zh, judgement, monochromatic, nonalignment, intercalary, adequate, iommi, teutoburg, dandruff\n",
      "dance: solomons, jurisdictions, commensurate, strau, hemispheres, tabla, goryeo, vma, prisoner, boeotian\n",
      "\n",
      "\n"
     ]
    },
    {
     "name": "stderr",
     "output_type": "stream",
     "text": [
      "2001it [00:37, 52.75it/s] "
     ]
    },
    {
     "name": "stdout",
     "output_type": "stream",
     "text": [
      "| epoch   1 |  2000/32580 batches | loss    2.793 \n",
      "money: gauleiter, localities, requesting, strains, hosius, piraeus, spoleto, kristina, frustration, stupendous\n",
      "lion: polly, distilled, debaters, turbocharged, strangest, petals, tokai, diger, bona, broadly\n",
      "africa: height, schichau, vernor, mafioso, captivity, autographs, atheistic, amine, used, ellis\n",
      "musician: actor, judgement, zh, monochromatic, nonalignment, intercalary, adequate, iommi, lebowski, antinori\n",
      "dance: solomons, jurisdictions, commensurate, hemispheres, strau, tabla, goryeo, prisoner, vma, establishing\n",
      "\n",
      "\n"
     ]
    },
    {
     "name": "stderr",
     "output_type": "stream",
     "text": [
      "2501it [00:47, 36.25it/s]"
     ]
    },
    {
     "name": "stdout",
     "output_type": "stream",
     "text": [
      "| epoch   1 |  2500/32580 batches | loss    2.619 \n",
      "money: gauleiter, localities, requesting, strains, hosius, frustration, spoleto, piraeus, stupendous, kristina\n",
      "lion: polly, distilled, turbocharged, debaters, strangest, petals, tokai, diger, bona, alexander\n",
      "africa: height, schichau, vernor, used, mafioso, atheistic, ellis, captivity, arrives, autographs\n",
      "musician: actor, judgement, zh, nonalignment, monochromatic, intercalary, iommi, adequate, lebowski, read\n",
      "dance: solomons, jurisdictions, hemispheres, strau, commensurate, tabla, goryeo, vma, prisoner, establishing\n",
      "\n",
      "\n"
     ]
    },
    {
     "name": "stderr",
     "output_type": "stream",
     "text": [
      "3000it [00:57, 52.51it/s]"
     ]
    },
    {
     "name": "stdout",
     "output_type": "stream",
     "text": [
      "| epoch   1 |  3000/32580 batches | loss    2.486 \n",
      "money: gauleiter, language, localities, requesting, strains, interest, hosius, frustration, spoleto, tried\n",
      "lion: polly, distilled, turbocharged, debaters, strangest, tokai, petals, bona, diger, undercroft\n",
      "africa: height, used, schichau, vernor, time, mafioso, atheistic, ellis, novels, captivity\n",
      "musician: actor, judgement, zh, nonalignment, monochromatic, read, intercalary, adequate, iommi, lebowski\n",
      "dance: solomons, jurisdictions, strau, tabla, hemispheres, commensurate, establishing, vma, prisoner, goryeo\n",
      "\n",
      "\n"
     ]
    },
    {
     "name": "stderr",
     "output_type": "stream",
     "text": [
      "3501it [01:05, 37.90it/s] "
     ]
    },
    {
     "name": "stdout",
     "output_type": "stream",
     "text": [
      "| epoch   1 |  3500/32580 batches | loss    2.379 \n",
      "money: language, five, eight, four, three, gauleiter, seven, however, six, and\n",
      "lion: polly, distilled, turbocharged, debaters, tokai, petals, strangest, bona, diger, broadly\n",
      "africa: used, time, height, life, may, vernor, schichau, atheistic, united, english\n",
      "musician: actor, judgement, nonalignment, read, zh, monochromatic, intercalary, adequate, decrypting, iommi\n",
      "dance: solomons, jurisdictions, strau, tabla, hemispheres, commensurate, establishing, vma, goryeo, prisoner\n",
      "\n",
      "\n"
     ]
    },
    {
     "name": "stderr",
     "output_type": "stream",
     "text": [
      "3997it [01:15, 48.75it/s]"
     ]
    },
    {
     "name": "stdout",
     "output_type": "stream",
     "text": [
      "| epoch   1 |  4000/32580 batches | loss    2.290 \n",
      "money: language, five, eight, four, seven, and, six, state, however, time\n",
      "lion: polly, distilled, turbocharged, debaters, tokai, petals, strangest, bona, alexander, diger\n",
      "africa: used, time, height, may, life, or, example, him, south, d\n",
      "musician: actor, judgement, read, nonalignment, zh, monochromatic, intercalary, decrypting, result, iommi\n",
      "dance: solomons, jurisdictions, hemispheres, tabla, strau, establishing, commensurate, vma, goryeo, prisoner\n",
      "\n",
      "\n"
     ]
    },
    {
     "name": "stderr",
     "output_type": "stream",
     "text": [
      "4501it [01:26, 32.78it/s]"
     ]
    },
    {
     "name": "stdout",
     "output_type": "stream",
     "text": [
      "| epoch   1 |  4500/32580 batches | loss    2.213 \n",
      "money: language, five, four, eight, seven, time, six, however, use, state\n",
      "lion: polly, distilled, turbocharged, tokai, alexander, debaters, petals, bona, diger, strangest\n",
      "africa: used, time, life, may, example, south, him, d, height, united\n",
      "musician: actor, read, judgement, nonalignment, often, result, zh, monochromatic, intercalary, decrypting\n",
      "dance: solomons, jurisdictions, tabla, hemispheres, strau, establishing, commensurate, vma, prisoner, ago\n",
      "\n",
      "\n"
     ]
    },
    {
     "name": "stderr",
     "output_type": "stream",
     "text": [
      "4999it [01:34, 50.63it/s] "
     ]
    },
    {
     "name": "stdout",
     "output_type": "stream",
     "text": [
      "| epoch   1 |  5000/32580 batches | loss    2.154 \n",
      "money: language, five, four, seven, six, eight, time, state, however, use\n",
      "lion: polly, distilled, turbocharged, tokai, alexander, petals, bona, debaters, diger, amex\n",
      "africa: used, time, life, united, south, may, example, found, him, or\n",
      "musician: actor, read, judgement, result, often, nonalignment, certain, developed, small, decrypting\n",
      "dance: jurisdictions, solomons, establishing, tabla, hemispheres, strau, prisoner, vma, commensurate, ago\n",
      "\n",
      "\n"
     ]
    },
    {
     "name": "stderr",
     "output_type": "stream",
     "text": [
      "5497it [01:44, 50.74it/s]"
     ]
    },
    {
     "name": "stdout",
     "output_type": "stream",
     "text": [
      "| epoch   1 |  5500/32580 batches | loss    2.103 \n",
      "money: five, four, eight, language, seven, state, time, six, use, zero\n",
      "lion: polly, distilled, alexander, turbocharged, tokai, petals, bona, debaters, amex, diger\n",
      "africa: used, time, united, life, example, found, south, use, him, may\n",
      "musician: actor, read, often, result, certain, developed, judgement, small, nonalignment, decrypting\n",
      "dance: jurisdictions, solomons, establishing, hemispheres, tabla, prisoner, ago, strau, commensurate, vma\n",
      "\n",
      "\n"
     ]
    },
    {
     "name": "stderr",
     "output_type": "stream",
     "text": [
      "6002it [01:54, 35.05it/s]"
     ]
    },
    {
     "name": "stdout",
     "output_type": "stream",
     "text": [
      "| epoch   1 |  6000/32580 batches | loss    2.055 \n",
      "money: eight, language, four, time, use, six, five, seven, nine, however\n",
      "lion: polly, distilled, alexander, turbocharged, tokai, bona, petals, amex, appeal, simulant\n",
      "africa: used, time, south, example, united, found, use, life, form, where\n",
      "musician: actor, often, read, result, developed, certain, small, judgement, theory, to\n",
      "dance: jurisdictions, solomons, establishing, west, themselves, hemispheres, prisoner, ago, london, tabla\n",
      "\n",
      "\n"
     ]
    },
    {
     "name": "stderr",
     "output_type": "stream",
     "text": [
      "6501it [02:02, 34.37it/s] "
     ]
    },
    {
     "name": "stdout",
     "output_type": "stream",
     "text": [
      "| epoch   1 |  6500/32580 batches | loss    2.014 \n",
      "money: use, eight, four, seven, time, however, language, six, five, three\n",
      "lion: polly, distilled, alexander, turbocharged, tokai, bona, appeal, petals, amex, simulant\n",
      "africa: used, south, example, united, use, time, life, form, found, where\n",
      "musician: actor, read, often, result, certain, small, developed, to, judgement, israel\n",
      "dance: jurisdictions, solomons, west, london, establishing, themselves, ago, hemispheres, prisoner, tabla\n",
      "\n",
      "\n"
     ]
    },
    {
     "name": "stderr",
     "output_type": "stream",
     "text": [
      "7001it [02:13, 31.66it/s]"
     ]
    },
    {
     "name": "stdout",
     "output_type": "stream",
     "text": [
      "| epoch   1 |  7000/32580 batches | loss    1.978 \n",
      "money: time, eight, however, seven, use, nine, four, six, language, five\n",
      "lion: polly, distilled, alexander, appeal, turbocharged, bona, tokai, rapper, ruth, simulant\n",
      "africa: used, south, example, time, form, united, use, found, life, where\n",
      "musician: actor, often, read, result, small, developed, certain, out, order, israel\n",
      "dance: jurisdictions, solomons, london, themselves, establishing, west, ago, hemispheres, prisoner, tabla\n",
      "\n",
      "\n"
     ]
    },
    {
     "name": "stderr",
     "output_type": "stream",
     "text": [
      "7497it [02:23, 49.39it/s]"
     ]
    },
    {
     "name": "stdout",
     "output_type": "stream",
     "text": [
      "| epoch   1 |  7500/32580 batches | loss    1.949 \n",
      "money: time, eight, use, state, seven, nine, four, them, five, six\n",
      "lion: polly, distilled, alexander, appeal, turbocharged, tokai, bona, ruth, rapper, amex\n",
      "africa: used, south, example, found, use, form, united, life, time, france\n",
      "musician: actor, often, result, read, developed, small, certain, out, order, method\n",
      "dance: jurisdictions, themselves, london, west, solomons, establishing, form, ago, majority, image\n",
      "\n",
      "\n"
     ]
    },
    {
     "name": "stderr",
     "output_type": "stream",
     "text": [
      "8001it [02:31, 33.74it/s] "
     ]
    },
    {
     "name": "stdout",
     "output_type": "stream",
     "text": [
      "| epoch   1 |  8000/32580 batches | loss    1.916 \n",
      "money: time, use, seven, eight, nine, five, six, state, end, them\n",
      "lion: polly, distilled, alexander, appeal, turbocharged, tokai, ruth, bona, amex, rapper\n",
      "africa: used, south, example, found, use, form, united, time, life, way\n",
      "musician: actor, often, result, read, developed, certain, small, order, out, theory\n",
      "dance: themselves, london, jurisdictions, west, form, establishing, solomons, death, majority, areas\n",
      "\n",
      "\n"
     ]
    },
    {
     "name": "stderr",
     "output_type": "stream",
     "text": [
      "8496it [02:41, 50.17it/s]"
     ]
    },
    {
     "name": "stdout",
     "output_type": "stream",
     "text": [
      "| epoch   1 |  8500/32580 batches | loss    1.885 \n",
      "money: use, time, six, nine, eight, end, seven, state, five, them\n",
      "lion: polly, distilled, alexander, appeal, turbocharged, ruth, tokai, amex, bona, simulant\n",
      "africa: used, south, example, use, found, form, united, time, way, france\n",
      "musician: actor, result, often, read, developed, certain, small, out, order, time\n",
      "dance: themselves, london, west, jurisdictions, form, areas, death, majority, establishing, solomons\n",
      "\n",
      "\n"
     ]
    },
    {
     "name": "stderr",
     "output_type": "stream",
     "text": [
      "9000it [02:52, 48.84it/s]"
     ]
    },
    {
     "name": "stdout",
     "output_type": "stream",
     "text": [
      "| epoch   1 |  9000/32580 batches | loss    1.861 \n",
      "money: use, time, nine, six, form, seven, eight, end, zero, list\n",
      "lion: polly, distilled, alexander, appeal, turbocharged, population, ruth, situations, tokai, amex\n",
      "africa: south, used, example, use, form, found, united, france, way, north\n",
      "musician: actor, result, often, certain, read, developed, small, out, order, time\n",
      "dance: themselves, london, west, jurisdictions, form, areas, death, battle, majority, age\n",
      "\n",
      "\n"
     ]
    },
    {
     "name": "stderr",
     "output_type": "stream",
     "text": [
      "9498it [02:59, 51.59it/s] "
     ]
    },
    {
     "name": "stdout",
     "output_type": "stream",
     "text": [
      "| epoch   1 |  9500/32580 batches | loss    1.838 \n",
      "money: time, use, nine, end, form, six, state, eight, work, even\n",
      "lion: polly, distilled, alexander, appeal, ruth, turbocharged, population, situations, amex, tokai\n",
      "africa: used, example, south, use, form, found, united, france, way, england\n",
      "musician: actor, result, certain, often, read, developed, small, order, out, time\n",
      "dance: themselves, london, west, form, jurisdictions, areas, battle, death, majority, made\n",
      "\n",
      "\n"
     ]
    },
    {
     "name": "stderr",
     "output_type": "stream",
     "text": [
      "10000it [03:09, 50.08it/s]"
     ]
    },
    {
     "name": "stdout",
     "output_type": "stream",
     "text": [
      "| epoch   1 | 10000/32580 batches | loss    1.816 \n",
      "money: use, time, end, nine, six, eight, form, work, list, battle\n",
      "lion: polly, distilled, alexander, appeal, ruth, turbocharged, situations, net, population, amex\n",
      "africa: south, used, example, form, use, found, north, france, way, process\n",
      "musician: actor, result, certain, read, developed, order, often, small, method, time\n",
      "dance: themselves, london, form, west, death, battle, jurisdictions, areas, age, majority\n",
      "\n",
      "\n"
     ]
    },
    {
     "name": "stderr",
     "output_type": "stream",
     "text": [
      "10501it [03:20, 36.17it/s]"
     ]
    },
    {
     "name": "stdout",
     "output_type": "stream",
     "text": [
      "| epoch   1 | 10500/32580 batches | loss    1.797 \n",
      "money: use, time, end, five, work, them, nine, battle, six, eight\n",
      "lion: polly, distilled, alexander, appeal, ruth, turbocharged, situations, net, amex, tokai\n",
      "africa: south, example, use, used, form, found, north, united, france, england\n",
      "musician: actor, result, read, order, certain, developed, often, method, small, time\n",
      "dance: themselves, london, form, west, battle, death, age, areas, image, majority\n",
      "\n",
      "\n"
     ]
    },
    {
     "name": "stderr",
     "output_type": "stream",
     "text": [
      "10998it [03:28, 50.19it/s] "
     ]
    },
    {
     "name": "stdout",
     "output_type": "stream",
     "text": [
      "| epoch   1 | 11000/32580 batches | loss    1.776 \n",
      "money: use, time, end, work, battle, five, nine, them, form, state\n",
      "lion: polly, distilled, alexander, appeal, ruth, population, net, situations, turbocharged, amex\n",
      "africa: south, example, use, form, used, north, found, france, united, england\n",
      "musician: actor, result, order, certain, read, developed, method, time, often, work\n",
      "dance: themselves, london, form, battle, death, age, west, areas, majority, jurisdictions\n",
      "\n",
      "\n"
     ]
    },
    {
     "name": "stderr",
     "output_type": "stream",
     "text": [
      "11502it [03:38, 33.91it/s]"
     ]
    },
    {
     "name": "stdout",
     "output_type": "stream",
     "text": [
      "| epoch   1 | 11500/32580 batches | loss    1.755 \n",
      "money: use, time, end, battle, work, form, nine, them, eight, six\n",
      "lion: polly, distilled, alexander, appeal, ruth, population, net, israel, situations, amex\n",
      "africa: south, example, use, form, used, north, france, united, found, england\n",
      "musician: actor, result, order, certain, read, developed, work, method, time, often\n",
      "dance: themselves, london, form, battle, death, age, majority, west, areas, place\n",
      "\n",
      "\n"
     ]
    },
    {
     "name": "stderr",
     "output_type": "stream",
     "text": [
      "12001it [03:48, 34.92it/s]"
     ]
    },
    {
     "name": "stdout",
     "output_type": "stream",
     "text": [
      "| epoch   1 | 12000/32580 batches | loss    1.747 \n",
      "money: use, end, time, battle, work, nine, form, made, them, example\n",
      "lion: polly, distilled, alexander, appeal, ruth, population, israel, net, situations, present\n",
      "africa: south, example, used, use, form, north, england, france, united, found\n",
      "musician: actor, result, order, developed, read, certain, method, work, end, often\n",
      "dance: london, themselves, form, battle, age, areas, death, west, place, music\n",
      "\n",
      "\n"
     ]
    },
    {
     "name": "stderr",
     "output_type": "stream",
     "text": [
      "12497it [03:56, 50.25it/s] "
     ]
    },
    {
     "name": "stdout",
     "output_type": "stream",
     "text": [
      "| epoch   1 | 12500/32580 batches | loss    1.722 \n",
      "money: end, use, time, battle, work, nine, form, example, made, them\n",
      "lion: polly, distilled, alexander, appeal, israel, ruth, population, net, present, situations\n",
      "africa: south, example, used, use, form, france, england, north, united, result\n",
      "musician: actor, result, order, developed, read, method, certain, work, end, often\n",
      "dance: form, london, themselves, battle, age, areas, death, west, music, majority\n",
      "\n",
      "\n"
     ]
    },
    {
     "name": "stderr",
     "output_type": "stream",
     "text": [
      "12997it [04:06, 48.97it/s]"
     ]
    },
    {
     "name": "stdout",
     "output_type": "stream",
     "text": [
      "| epoch   1 | 13000/32580 batches | loss    1.711 \n",
      "money: end, use, battle, time, them, work, example, nine, form, made\n",
      "lion: polly, distilled, alexander, israel, appeal, ruth, net, population, present, situations\n",
      "africa: south, example, used, use, form, england, france, north, result, united\n",
      "musician: actor, result, order, read, developed, method, certain, work, end, problem\n",
      "dance: form, london, themselves, battle, age, death, areas, music, majority, place\n",
      "\n",
      "\n"
     ]
    },
    {
     "name": "stderr",
     "output_type": "stream",
     "text": [
      "13500it [04:17, 50.38it/s]"
     ]
    },
    {
     "name": "stdout",
     "output_type": "stream",
     "text": [
      "| epoch   1 | 13500/32580 batches | loss    1.696 \n",
      "money: end, use, battle, time, example, them, made, work, form, nine\n",
      "lion: alexander, polly, distilled, israel, appeal, ruth, net, population, situations, present\n",
      "africa: south, example, form, north, england, used, france, use, result, united\n",
      "musician: actor, result, order, developed, read, end, method, certain, work, problem\n",
      "dance: form, london, themselves, battle, death, music, areas, majority, age, place\n",
      "\n",
      "\n"
     ]
    },
    {
     "name": "stderr",
     "output_type": "stream",
     "text": [
      "13997it [04:25, 49.57it/s] "
     ]
    },
    {
     "name": "stdout",
     "output_type": "stream",
     "text": [
      "| epoch   1 | 14000/32580 batches | loss    1.682 \n",
      "money: end, battle, use, time, example, them, made, form, nine, work\n",
      "lion: alexander, distilled, polly, israel, appeal, population, net, ruth, situations, present\n",
      "africa: south, example, form, france, england, north, result, used, use, united\n",
      "musician: actor, result, order, developed, read, end, method, work, certain, problem\n",
      "dance: form, london, battle, music, themselves, death, areas, majority, age, place\n",
      "\n",
      "\n"
     ]
    },
    {
     "name": "stderr",
     "output_type": "stream",
     "text": [
      "14499it [04:35, 50.29it/s]"
     ]
    },
    {
     "name": "stdout",
     "output_type": "stream",
     "text": [
      "| epoch   1 | 14500/32580 batches | loss    1.667 \n",
      "money: end, battle, use, time, example, work, nine, effect, form, made\n",
      "lion: alexander, israel, distilled, polly, appeal, population, net, present, situations, ruth\n",
      "africa: south, example, england, form, north, france, result, used, use, united\n",
      "musician: actor, result, order, developed, end, read, work, method, team, problem\n",
      "dance: form, london, battle, music, themselves, majority, areas, death, age, place\n",
      "\n",
      "\n"
     ]
    },
    {
     "name": "stderr",
     "output_type": "stream",
     "text": [
      "15001it [04:45, 32.75it/s]"
     ]
    },
    {
     "name": "stdout",
     "output_type": "stream",
     "text": [
      "| epoch   1 | 15000/32580 batches | loss    1.659 \n",
      "money: end, battle, use, time, example, work, nine, effect, form, made\n",
      "lion: alexander, israel, distilled, appeal, population, polly, net, situations, present, ruth\n",
      "africa: south, example, france, england, form, result, north, london, america, united\n",
      "musician: actor, result, order, end, developed, read, method, work, problem, certain\n",
      "dance: form, battle, london, music, themselves, majority, areas, death, rock, period\n",
      "\n",
      "\n"
     ]
    },
    {
     "name": "stderr",
     "output_type": "stream",
     "text": [
      "15498it [04:53, 49.43it/s] "
     ]
    },
    {
     "name": "stdout",
     "output_type": "stream",
     "text": [
      "| epoch   1 | 15500/32580 batches | loss    1.648 \n",
      "money: end, battle, use, time, work, example, effect, made, them, nine\n",
      "lion: alexander, israel, appeal, population, distilled, net, situations, polly, present, ruth\n",
      "africa: south, example, france, north, england, result, form, london, america, united\n",
      "musician: actor, result, order, end, method, developed, read, work, problem, fact\n",
      "dance: form, music, battle, london, themselves, areas, majority, rock, death, age\n",
      "\n",
      "\n"
     ]
    },
    {
     "name": "stderr",
     "output_type": "stream",
     "text": [
      "16000it [05:04, 49.02it/s]"
     ]
    },
    {
     "name": "stdout",
     "output_type": "stream",
     "text": [
      "| epoch   1 | 16000/32580 batches | loss    1.633 \n",
      "money: end, battle, time, use, example, effect, them, work, nine, six\n",
      "lion: israel, alexander, population, appeal, distilled, situations, present, net, ruth, polly\n",
      "africa: south, example, france, north, england, result, america, united, form, london\n",
      "musician: actor, result, order, end, read, developed, method, work, problem, fact\n",
      "dance: form, battle, music, london, majority, themselves, areas, death, age, rock\n",
      "\n",
      "\n"
     ]
    },
    {
     "name": "stderr",
     "output_type": "stream",
     "text": [
      "16474it [05:13, 50.51it/s]"
     ]
    },
    {
     "name": "stdout",
     "output_type": "stream",
     "text": [
      "| epoch   1 | 16500/32580 batches | loss    1.624 \n",
      "money: end, battle, time, use, them, effect, nine, able, example, made\n",
      "lion: israel, alexander, appeal, population, distilled, present, situations, net, ruth, middle\n",
      "africa: south, north, france, example, england, result, america, united, germany, form\n",
      "musician: actor, result, order, end, method, read, developed, work, fact, problem\n",
      "dance: battle, music, form, london, majority, areas, death, rock, use, place\n",
      "\n",
      "\n"
     ]
    },
    {
     "name": "stderr",
     "output_type": "stream",
     "text": [
      "17000it [05:22, 50.18it/s] "
     ]
    },
    {
     "name": "stdout",
     "output_type": "stream",
     "text": [
      "| epoch   1 | 17000/32580 batches | loss    1.615 \n",
      "money: end, battle, time, use, nine, effect, them, able, example, made\n",
      "lion: israel, alexander, appeal, population, net, distilled, present, ruth, middle, situations\n",
      "africa: south, north, france, america, england, example, result, united, london, germany\n",
      "musician: actor, result, order, end, method, work, developed, read, fact, team\n",
      "dance: battle, music, form, majority, london, areas, death, use, rock, place\n",
      "\n",
      "\n"
     ]
    },
    {
     "name": "stderr",
     "output_type": "stream",
     "text": [
      "17498it [05:32, 49.40it/s]"
     ]
    },
    {
     "name": "stdout",
     "output_type": "stream",
     "text": [
      "| epoch   1 | 17500/32580 batches | loss    1.606 \n",
      "money: end, battle, time, use, effect, nine, able, example, eight, them\n",
      "lion: israel, alexander, appeal, population, ruth, middle, net, situations, distilled, present\n",
      "africa: south, north, france, america, england, example, result, germany, united, london\n",
      "musician: actor, result, order, end, method, read, developed, team, fact, work\n",
      "dance: battle, music, london, majority, form, areas, rock, use, view, death\n",
      "\n",
      "\n"
     ]
    },
    {
     "name": "stderr",
     "output_type": "stream",
     "text": [
      "17954it [05:41, 49.75it/s]"
     ]
    },
    {
     "name": "stdout",
     "output_type": "stream",
     "text": [
      "| epoch   1 | 18000/32580 batches | loss    1.595 \n",
      "money: end, battle, time, use, able, effect, them, eight, example, nine\n",
      "lion: israel, appeal, alexander, population, distilled, ruth, present, net, situations, middle\n",
      "africa: south, north, america, england, france, result, united, example, germany, end\n",
      "musician: actor, result, order, end, method, fact, read, developed, team, work\n",
      "dance: music, battle, majority, form, london, areas, period, view, age, use\n",
      "\n",
      "\n"
     ]
    },
    {
     "name": "stderr",
     "output_type": "stream",
     "text": [
      "18498it [05:50, 49.67it/s] "
     ]
    },
    {
     "name": "stdout",
     "output_type": "stream",
     "text": [
      "| epoch   1 | 18500/32580 batches | loss    1.591 \n",
      "money: end, battle, time, use, able, effect, result, them, nine, example\n",
      "lion: israel, appeal, alexander, present, distilled, ruth, population, situations, introduction, net\n",
      "africa: south, america, north, england, france, result, united, end, germany, example\n",
      "musician: actor, result, order, end, method, fact, read, team, developed, scotland\n",
      "dance: music, battle, majority, form, london, areas, age, period, rock, use\n",
      "\n",
      "\n"
     ]
    },
    {
     "name": "stderr",
     "output_type": "stream",
     "text": [
      "19000it [06:00, 38.71it/s]"
     ]
    },
    {
     "name": "stdout",
     "output_type": "stream",
     "text": [
      "| epoch   1 | 19000/32580 batches | loss    1.577 \n"
     ]
    },
    {
     "name": "stderr",
     "output_type": "stream",
     "text": [
      "19005it [06:01, 23.10it/s]"
     ]
    },
    {
     "name": "stdout",
     "output_type": "stream",
     "text": [
      "money: end, battle, time, use, able, effect, nine, result, them, example\n",
      "lion: israel, appeal, alexander, present, ruth, introduction, situations, population, net, distilled\n",
      "africa: south, america, north, france, england, result, germany, united, end, nine\n",
      "musician: actor, result, order, end, method, fact, read, nine, team, role\n",
      "dance: music, battle, majority, london, form, areas, age, rock, view, use\n",
      "\n",
      "\n"
     ]
    },
    {
     "name": "stderr",
     "output_type": "stream",
     "text": [
      "19489it [06:09, 300.64it/s]"
     ]
    },
    {
     "name": "stdout",
     "output_type": "stream",
     "text": [
      "| epoch   1 | 19500/32580 batches | loss    1.571 \n",
      "money: end, battle, time, effect, able, nine, use, them, result, way\n",
      "lion: appeal, israel, alexander, population, present, introduction, ruth, situations, net, replaced\n",
      "africa: south, america, north, england, france, germany, united, result, end, nine\n",
      "musician: actor, result, order, end, method, nine, team, fact, read, scotland\n",
      "dance: music, battle, majority, form, age, london, rock, areas, view, death\n",
      "\n",
      "\n"
     ]
    },
    {
     "name": "stderr",
     "output_type": "stream",
     "text": [
      "20001it [06:20, 34.54it/s] "
     ]
    },
    {
     "name": "stdout",
     "output_type": "stream",
     "text": [
      "| epoch   1 | 20000/32580 batches | loss    1.561 \n",
      "money: time, end, battle, effect, able, use, them, nine, result, due\n",
      "lion: appeal, israel, alexander, present, introduction, population, ruth, replaced, town, situations\n",
      "africa: south, america, north, england, france, germany, united, end, result, nine\n",
      "musician: actor, result, order, end, method, nine, author, team, scotland, writer\n",
      "dance: music, battle, form, rock, age, majority, london, areas, view, use\n",
      "\n",
      "\n"
     ]
    },
    {
     "name": "stderr",
     "output_type": "stream",
     "text": [
      "20500it [06:30, 49.61it/s]"
     ]
    },
    {
     "name": "stdout",
     "output_type": "stream",
     "text": [
      "| epoch   1 | 20500/32580 batches | loss    1.554 \n",
      "money: battle, time, end, effect, able, them, result, use, way, due\n",
      "lion: israel, appeal, alexander, introduction, present, ruth, replaced, population, town, proposed\n",
      "africa: south, america, north, germany, united, england, france, result, end, china\n",
      "musician: actor, result, order, method, end, author, nine, writer, fact, scotland\n",
      "dance: music, battle, majority, form, rock, age, areas, influence, london, view\n",
      "\n",
      "\n"
     ]
    },
    {
     "name": "stderr",
     "output_type": "stream",
     "text": [
      "20972it [06:37, 339.15it/s]"
     ]
    },
    {
     "name": "stdout",
     "output_type": "stream",
     "text": [
      "| epoch   1 | 21000/32580 batches | loss    1.546 \n",
      "money: battle, time, end, able, them, effect, result, use, way, due\n",
      "lion: appeal, israel, alexander, introduction, present, town, ruth, replaced, proposed, population\n",
      "africa: south, america, north, germany, france, england, united, result, end, china\n",
      "musician: actor, result, order, author, end, method, writer, nine, battle, fact\n",
      "dance: music, battle, majority, rock, age, form, areas, influence, london, view\n",
      "\n",
      "\n"
     ]
    },
    {
     "name": "stderr",
     "output_type": "stream",
     "text": [
      "21501it [06:48, 34.10it/s] "
     ]
    },
    {
     "name": "stdout",
     "output_type": "stream",
     "text": [
      "| epoch   1 | 21500/32580 batches | loss    1.535 \n",
      "money: time, battle, end, able, result, them, effect, due, use, nine\n",
      "lion: appeal, israel, alexander, present, introduction, town, population, replaced, proposed, ruth\n",
      "africa: south, america, north, germany, england, united, result, france, nine, end\n",
      "musician: actor, result, order, author, writer, nine, end, method, fact, scotland\n",
      "dance: music, majority, battle, rock, age, form, areas, influence, london, period\n",
      "\n",
      "\n"
     ]
    },
    {
     "name": "stderr",
     "output_type": "stream",
     "text": [
      "22000it [06:59, 49.56it/s]"
     ]
    },
    {
     "name": "stdout",
     "output_type": "stream",
     "text": [
      "| epoch   1 | 22000/32580 batches | loss    1.533 \n",
      "money: battle, time, end, able, them, result, effect, use, perhaps, way\n",
      "lion: appeal, israel, alexander, introduction, present, town, replaced, ruth, proposed, population\n",
      "africa: south, america, north, united, germany, france, result, england, end, china\n",
      "musician: actor, result, order, author, writer, nine, method, end, scotland, battle\n",
      "dance: music, battle, majority, rock, age, influence, form, areas, london, period\n",
      "\n",
      "\n"
     ]
    },
    {
     "name": "stderr",
     "output_type": "stream",
     "text": [
      "22494it [07:07, 93.06it/s] "
     ]
    },
    {
     "name": "stdout",
     "output_type": "stream",
     "text": [
      "| epoch   1 | 22500/32580 batches | loss    1.530 \n",
      "money: battle, them, time, end, able, result, use, effect, way, nine\n",
      "lion: appeal, israel, alexander, introduction, present, town, ruth, proposed, replaced, students\n",
      "africa: south, america, north, france, united, germany, result, england, end, nine\n",
      "musician: actor, result, author, writer, order, nine, method, battle, scotland, end\n",
      "dance: music, battle, majority, rock, influence, age, areas, form, period, london\n",
      "\n",
      "\n"
     ]
    },
    {
     "name": "stderr",
     "output_type": "stream",
     "text": [
      "23000it [07:17, 49.62it/s]"
     ]
    },
    {
     "name": "stdout",
     "output_type": "stream",
     "text": [
      "| epoch   1 | 23000/32580 batches | loss    1.514 \n",
      "money: battle, them, time, end, able, result, effect, possible, way, nine\n",
      "lion: israel, appeal, alexander, town, introduction, proposed, ruth, replaced, present, region\n",
      "africa: america, south, north, france, united, germany, result, england, china, nine\n",
      "musician: actor, result, writer, author, order, nine, scotland, battle, method, end\n",
      "dance: music, battle, majority, influence, rock, areas, form, age, period, london\n",
      "\n",
      "\n"
     ]
    },
    {
     "name": "stderr",
     "output_type": "stream",
     "text": [
      "23501it [07:27, 35.08it/s]"
     ]
    },
    {
     "name": "stdout",
     "output_type": "stream",
     "text": [
      "| epoch   1 | 23500/32580 batches | loss    1.510 \n",
      "money: battle, them, able, time, end, result, effect, nine, perhaps, way\n",
      "lion: appeal, israel, alexander, introduction, town, replaced, proposed, ruth, region, students\n",
      "africa: america, south, north, france, united, china, germany, england, result, end\n",
      "musician: actor, result, writer, author, nine, battle, order, scotland, singer, addition\n",
      "dance: music, battle, majority, rock, influence, areas, form, age, period, london\n",
      "\n",
      "\n"
     ]
    },
    {
     "name": "stderr",
     "output_type": "stream",
     "text": [
      "23999it [07:35, 79.62it/s] "
     ]
    },
    {
     "name": "stdout",
     "output_type": "stream",
     "text": [
      "| epoch   1 | 24000/32580 batches | loss    1.505 \n",
      "money: battle, them, time, end, able, result, nine, perhaps, way, effect\n",
      "lion: appeal, israel, alexander, introduction, town, replaced, ruth, proposed, students, present\n",
      "africa: america, south, france, north, germany, china, united, nine, result, england\n",
      "musician: actor, result, writer, author, battle, nine, singer, scotland, order, addition\n",
      "dance: music, battle, majority, rock, influence, areas, form, age, traditional, period\n",
      "\n",
      "\n"
     ]
    },
    {
     "name": "stderr",
     "output_type": "stream",
     "text": [
      "24500it [07:45, 49.94it/s]"
     ]
    },
    {
     "name": "stdout",
     "output_type": "stream",
     "text": [
      "| epoch   1 | 24500/32580 batches | loss    1.499 \n",
      "money: battle, them, able, end, time, result, perhaps, nine, way, effect\n",
      "lion: appeal, israel, introduction, alexander, town, proposed, region, replaced, ruth, team\n",
      "africa: america, south, china, germany, france, north, united, england, result, end\n",
      "musician: actor, result, writer, author, singer, battle, scotland, order, addition, nine\n",
      "dance: music, battle, majority, rock, influence, age, areas, traditional, period, form\n",
      "\n",
      "\n"
     ]
    },
    {
     "name": "stderr",
     "output_type": "stream",
     "text": [
      "24997it [07:55, 50.40it/s]"
     ]
    },
    {
     "name": "stdout",
     "output_type": "stream",
     "text": [
      "| epoch   1 | 25000/32580 batches | loss    1.496 \n",
      "money: battle, them, time, able, end, result, nine, perhaps, order, way\n",
      "lion: appeal, israel, introduction, alexander, proposed, replaced, region, ruth, town, present\n",
      "africa: america, south, china, germany, north, england, france, united, result, end\n",
      "musician: actor, result, writer, author, singer, order, battle, scotland, addition, nine\n",
      "dance: music, battle, majority, rock, influence, age, london, period, traditional, areas\n",
      "\n",
      "\n"
     ]
    },
    {
     "name": "stderr",
     "output_type": "stream",
     "text": [
      "25495it [08:03, 66.17it/s] "
     ]
    },
    {
     "name": "stdout",
     "output_type": "stream",
     "text": [
      "| epoch   1 | 25500/32580 batches | loss    1.490 \n",
      "money: battle, able, them, time, result, end, nine, order, perhaps, work\n",
      "lion: appeal, israel, introduction, replaced, region, ruth, town, alexander, proposed, sea\n",
      "africa: america, south, china, germany, north, united, england, france, result, nine\n",
      "musician: actor, result, writer, author, singer, nine, addition, scotland, order, battle\n",
      "dance: music, battle, rock, majority, influence, age, traditional, areas, period, london\n",
      "\n",
      "\n"
     ]
    },
    {
     "name": "stderr",
     "output_type": "stream",
     "text": [
      "26000it [08:39, 49.84it/s]"
     ]
    },
    {
     "name": "stdout",
     "output_type": "stream",
     "text": [
      "| epoch   1 | 26000/32580 batches | loss    1.480 \n",
      "money: battle, able, them, result, time, end, nine, perhaps, order, idea\n",
      "lion: appeal, israel, introduction, region, replaced, ruth, proposed, town, alexander, present\n",
      "africa: america, south, germany, china, north, united, england, end, france, result\n",
      "musician: actor, result, writer, author, singer, nine, scotland, addition, order, battle\n",
      "dance: music, battle, majority, rock, influence, traditional, period, age, areas, present\n",
      "\n",
      "\n"
     ]
    },
    {
     "name": "stderr",
     "output_type": "stream",
     "text": [
      "26497it [08:49, 50.49it/s]"
     ]
    },
    {
     "name": "stdout",
     "output_type": "stream",
     "text": [
      "| epoch   1 | 26500/32580 batches | loss    1.478 \n",
      "money: battle, able, them, time, result, end, nine, perhaps, possible, order\n",
      "lion: appeal, israel, introduction, region, replaced, proposed, town, population, present, ruth\n",
      "africa: america, south, china, germany, north, united, england, end, france, result\n",
      "musician: actor, result, writer, author, singer, scotland, nine, addition, able, actress\n",
      "dance: music, rock, majority, battle, traditional, influence, period, age, form, areas\n",
      "\n",
      "\n"
     ]
    },
    {
     "name": "stderr",
     "output_type": "stream",
     "text": [
      "26986it [08:57, 339.87it/s]"
     ]
    },
    {
     "name": "stdout",
     "output_type": "stream",
     "text": [
      "| epoch   1 | 27000/32580 batches | loss    1.473 \n",
      "money: battle, able, them, result, time, nine, end, perhaps, represented, order\n",
      "lion: appeal, introduction, israel, region, replaced, proposed, town, population, present, sea\n",
      "africa: america, south, china, germany, united, north, england, france, end, result\n",
      "musician: actor, result, writer, author, singer, scotland, nine, actress, addition, able\n",
      "dance: music, rock, majority, battle, traditional, influence, period, age, result, form\n",
      "\n",
      "\n"
     ]
    },
    {
     "name": "stderr",
     "output_type": "stream",
     "text": [
      "27499it [09:08, 48.59it/s] "
     ]
    },
    {
     "name": "stdout",
     "output_type": "stream",
     "text": [
      "| epoch   1 | 27500/32580 batches | loss    1.466 \n",
      "money: battle, able, them, result, time, nine, end, perhaps, order, represented\n",
      "lion: appeal, introduction, israel, region, replaced, proposed, town, sea, present, population\n",
      "africa: america, south, china, germany, france, united, north, england, europe, result\n",
      "musician: actor, result, writer, author, singer, scotland, nine, actress, addition, able\n",
      "dance: music, rock, majority, traditional, battle, influence, age, period, form, result\n",
      "\n",
      "\n"
     ]
    },
    {
     "name": "stderr",
     "output_type": "stream",
     "text": [
      "27998it [09:18, 49.34it/s]"
     ]
    },
    {
     "name": "stdout",
     "output_type": "stream",
     "text": [
      "| epoch   1 | 28000/32580 batches | loss    1.464 \n",
      "money: able, battle, them, result, time, nine, end, order, perhaps, represented\n",
      "lion: appeal, israel, introduction, region, replaced, sea, town, present, alexander, proposed\n",
      "africa: america, south, china, germany, france, england, europe, north, united, end\n",
      "musician: actor, result, author, writer, singer, actress, nine, scotland, addition, able\n",
      "dance: music, rock, majority, battle, traditional, influence, age, form, period, result\n",
      "\n",
      "\n"
     ]
    },
    {
     "name": "stderr",
     "output_type": "stream",
     "text": [
      "28476it [09:26, 127.19it/s]"
     ]
    },
    {
     "name": "stdout",
     "output_type": "stream",
     "text": [
      "| epoch   1 | 28500/32580 batches | loss    1.461 \n",
      "money: able, battle, them, result, nine, time, end, order, perhaps, possible\n",
      "lion: appeal, region, introduction, israel, replaced, present, sea, town, alexander, proposed\n",
      "africa: america, south, china, germany, france, united, north, england, europe, india\n",
      "musician: actor, author, writer, result, singer, actress, nine, scotland, addition, able\n",
      "dance: music, rock, majority, battle, traditional, influence, age, form, period, present\n",
      "\n",
      "\n"
     ]
    },
    {
     "name": "stderr",
     "output_type": "stream",
     "text": [
      "28996it [09:36, 51.05it/s] "
     ]
    },
    {
     "name": "stdout",
     "output_type": "stream",
     "text": [
      "| epoch   1 | 29000/32580 batches | loss    1.452 \n",
      "money: able, them, battle, result, nine, time, end, idea, order, perhaps\n",
      "lion: appeal, region, introduction, replaced, israel, town, population, proposed, present, served\n",
      "africa: america, south, germany, china, france, united, europe, north, england, end\n",
      "musician: actor, writer, author, result, singer, actress, nine, scotland, addition, able\n",
      "dance: music, rock, majority, traditional, battle, influence, age, form, period, variety\n",
      "\n",
      "\n"
     ]
    },
    {
     "name": "stderr",
     "output_type": "stream",
     "text": [
      "29501it [09:47, 34.45it/s]"
     ]
    },
    {
     "name": "stdout",
     "output_type": "stream",
     "text": [
      "| epoch   1 | 29500/32580 batches | loss    1.451 \n",
      "money: able, them, battle, result, nine, time, perhaps, end, idea, represented\n",
      "lion: appeal, region, replaced, introduction, town, israel, proposed, population, alexander, served\n",
      "africa: america, south, china, germany, europe, france, united, north, india, end\n",
      "musician: actor, writer, author, result, singer, actress, nine, scotland, addition, able\n",
      "dance: music, rock, majority, traditional, battle, influence, age, form, period, variety\n",
      "\n",
      "\n"
     ]
    },
    {
     "name": "stderr",
     "output_type": "stream",
     "text": [
      "29992it [09:55, 71.91it/s] "
     ]
    },
    {
     "name": "stdout",
     "output_type": "stream",
     "text": [
      "| epoch   1 | 30000/32580 batches | loss    1.440 \n",
      "money: able, battle, them, result, time, represented, end, perhaps, nine, idea\n",
      "lion: appeal, introduction, region, town, replaced, israel, population, proposed, alexander, rest\n",
      "africa: america, south, china, germany, europe, france, united, coast, india, north\n",
      "musician: actor, writer, author, singer, result, actress, nine, scotland, addition, able\n",
      "dance: music, rock, majority, traditional, battle, influence, age, period, form, variety\n",
      "\n",
      "\n"
     ]
    },
    {
     "name": "stderr",
     "output_type": "stream",
     "text": [
      "30500it [10:05, 51.45it/s]"
     ]
    },
    {
     "name": "stdout",
     "output_type": "stream",
     "text": [
      "| epoch   1 | 30500/32580 batches | loss    1.435 \n",
      "money: able, battle, them, result, nine, end, represented, perhaps, idea, time\n",
      "lion: appeal, town, replaced, introduction, region, israel, alexander, rest, population, served\n",
      "africa: america, south, germany, china, europe, united, france, nine, coast, india\n",
      "musician: actor, writer, author, singer, result, actress, nine, scotland, addition, deaths\n",
      "dance: music, rock, majority, traditional, battle, influence, age, period, variety, form\n",
      "\n",
      "\n"
     ]
    },
    {
     "name": "stderr",
     "output_type": "stream",
     "text": [
      "31001it [10:15, 35.45it/s]"
     ]
    },
    {
     "name": "stdout",
     "output_type": "stream",
     "text": [
      "| epoch   1 | 31000/32580 batches | loss    1.429 \n",
      "money: able, battle, them, result, nine, represented, interest, time, perhaps, idea\n",
      "lion: appeal, town, replaced, region, israel, introduction, alexander, population, rest, province\n",
      "africa: america, germany, south, china, europe, coast, india, united, france, nine\n",
      "musician: actor, writer, author, singer, result, actress, nine, scotland, addition, deaths\n",
      "dance: music, rock, majority, traditional, battle, influence, period, age, variety, classical\n",
      "\n",
      "\n"
     ]
    },
    {
     "name": "stderr",
     "output_type": "stream",
     "text": [
      "31490it [10:23, 81.93it/s] "
     ]
    },
    {
     "name": "stdout",
     "output_type": "stream",
     "text": [
      "| epoch   1 | 31500/32580 batches | loss    1.429 \n",
      "money: able, battle, them, result, represented, idea, time, interest, end, possible\n",
      "lion: appeal, town, replaced, alexander, introduction, rest, israel, region, present, province\n",
      "africa: america, china, south, germany, india, europe, coast, united, france, north\n",
      "musician: actor, writer, author, singer, result, actress, nine, deaths, addition, scotland\n",
      "dance: music, rock, majority, traditional, battle, influence, period, age, classical, form\n",
      "\n",
      "\n"
     ]
    },
    {
     "name": "stderr",
     "output_type": "stream",
     "text": [
      "32001it [10:33, 36.56it/s]"
     ]
    },
    {
     "name": "stdout",
     "output_type": "stream",
     "text": [
      "| epoch   1 | 32000/32580 batches | loss    1.417 \n",
      "money: able, battle, them, result, represented, idea, time, interest, end, possible\n",
      "lion: appeal, town, replaced, israel, introduction, rest, region, alexander, province, north\n",
      "africa: america, china, south, germany, europe, india, united, france, coast, north\n",
      "musician: actor, writer, author, singer, result, actress, nine, deaths, scotland, addition\n",
      "dance: music, rock, majority, traditional, influence, battle, age, period, variety, classical\n",
      "\n",
      "\n"
     ]
    },
    {
     "name": "stderr",
     "output_type": "stream",
     "text": [
      "32498it [10:43, 49.95it/s]"
     ]
    },
    {
     "name": "stdout",
     "output_type": "stream",
     "text": [
      "| epoch   1 | 32500/32580 batches | loss    1.417 \n",
      "money: able, battle, them, result, represented, possible, interest, time, end, idea\n",
      "lion: appeal, town, replaced, introduction, israel, rest, north, region, alexander, sea\n",
      "africa: america, china, germany, south, europe, india, france, coast, united, england\n",
      "musician: actor, writer, author, singer, result, actress, nine, deaths, addition, scotland\n",
      "dance: music, rock, majority, traditional, influence, battle, age, period, variety, classical\n",
      "\n",
      "\n"
     ]
    },
    {
     "name": "stderr",
     "output_type": "stream",
     "text": [
      "32580it [10:46, 50.40it/s]\n",
      "1it [00:00,  1.20it/s]"
     ]
    },
    {
     "name": "stdout",
     "output_type": "stream",
     "text": [
      "| epoch   2 |     0/32580 batches | loss    1.424 \n",
      "money: able, battle, them, result, represented, nine, interest, time, possible, end\n",
      "lion: appeal, town, replaced, introduction, israel, region, north, rest, alexander, province\n",
      "africa: america, china, germany, south, europe, india, france, coast, united, england\n",
      "musician: actor, writer, author, singer, result, actress, nine, deaths, addition, scotland\n",
      "dance: music, rock, majority, traditional, influence, battle, age, period, variety, classical\n",
      "\n",
      "\n"
     ]
    },
    {
     "name": "stderr",
     "output_type": "stream",
     "text": [
      "497it [00:08, 51.59it/s] "
     ]
    },
    {
     "name": "stdout",
     "output_type": "stream",
     "text": [
      "| epoch   2 |   500/32580 batches | loss    1.378 \n",
      "money: able, battle, them, result, represented, nine, interest, time, possible, end\n",
      "lion: appeal, town, replaced, introduction, region, israel, north, rest, alexander, province\n",
      "africa: america, china, germany, south, europe, india, france, coast, united, england\n",
      "musician: actor, writer, author, singer, result, actress, nine, deaths, addition, scotland\n",
      "dance: music, rock, majority, traditional, influence, battle, age, period, variety, form\n",
      "\n",
      "\n"
     ]
    },
    {
     "name": "stderr",
     "output_type": "stream",
     "text": [
      "1001it [00:19, 35.83it/s]"
     ]
    },
    {
     "name": "stdout",
     "output_type": "stream",
     "text": [
      "| epoch   2 |  1000/32580 batches | loss    1.375 \n",
      "money: able, them, battle, result, represented, nine, interest, time, possible, end\n",
      "lion: appeal, town, replaced, introduction, region, israel, north, rest, alexander, province\n",
      "africa: america, china, germany, south, europe, india, france, coast, united, england\n",
      "musician: actor, writer, author, singer, result, actress, nine, deaths, addition, scotland\n",
      "dance: music, rock, majority, traditional, influence, battle, age, period, variety, form\n",
      "\n",
      "\n"
     ]
    },
    {
     "name": "stderr",
     "output_type": "stream",
     "text": [
      "1498it [00:29, 50.35it/s]"
     ]
    },
    {
     "name": "stdout",
     "output_type": "stream",
     "text": [
      "| epoch   2 |  1500/32580 batches | loss    1.373 \n",
      "money: able, them, battle, result, represented, nine, interest, time, possible, end\n",
      "lion: appeal, town, replaced, introduction, region, israel, rest, north, alexander, province\n",
      "africa: america, china, germany, south, europe, india, france, coast, united, england\n",
      "musician: actor, writer, author, singer, result, actress, nine, deaths, addition, scotland\n",
      "dance: music, rock, majority, traditional, influence, battle, age, period, variety, form\n",
      "\n",
      "\n"
     ]
    },
    {
     "name": "stderr",
     "output_type": "stream",
     "text": [
      "1998it [00:37, 51.94it/s] "
     ]
    },
    {
     "name": "stdout",
     "output_type": "stream",
     "text": [
      "| epoch   2 |  2000/32580 batches | loss    1.370 \n",
      "money: able, them, battle, result, represented, nine, time, interest, possible, end\n",
      "lion: appeal, town, replaced, introduction, region, israel, rest, north, province, alexander\n",
      "africa: america, china, germany, south, europe, india, france, coast, united, england\n",
      "musician: actor, writer, author, singer, result, actress, nine, deaths, addition, scotland\n",
      "dance: music, rock, majority, traditional, influence, battle, age, period, variety, form\n",
      "\n",
      "\n"
     ]
    },
    {
     "name": "stderr",
     "output_type": "stream",
     "text": [
      "2501it [00:47, 34.11it/s]"
     ]
    },
    {
     "name": "stdout",
     "output_type": "stream",
     "text": [
      "| epoch   2 |  2500/32580 batches | loss    1.366 \n",
      "money: able, them, battle, result, represented, time, nine, interest, possible, end\n",
      "lion: appeal, town, replaced, introduction, region, israel, rest, north, province, alexander\n",
      "africa: america, china, germany, south, europe, india, france, coast, united, england\n",
      "musician: actor, writer, author, singer, result, actress, nine, deaths, addition, scotland\n",
      "dance: music, rock, majority, traditional, influence, battle, age, variety, period, form\n",
      "\n",
      "\n"
     ]
    },
    {
     "name": "stderr",
     "output_type": "stream",
     "text": [
      "2997it [00:57, 50.35it/s]"
     ]
    },
    {
     "name": "stdout",
     "output_type": "stream",
     "text": [
      "| epoch   2 |  3000/32580 batches | loss    1.368 \n",
      "money: able, them, battle, result, represented, time, interest, nine, possible, idea\n",
      "lion: appeal, town, replaced, introduction, region, israel, rest, north, province, alexander\n",
      "africa: america, china, germany, south, europe, india, france, coast, united, england\n",
      "musician: actor, writer, author, singer, result, actress, nine, deaths, addition, scotland\n",
      "dance: music, rock, majority, traditional, influence, battle, age, variety, period, classical\n",
      "\n",
      "\n"
     ]
    },
    {
     "name": "stderr",
     "output_type": "stream",
     "text": [
      "3501it [01:05, 33.48it/s] "
     ]
    },
    {
     "name": "stdout",
     "output_type": "stream",
     "text": [
      "| epoch   2 |  3500/32580 batches | loss    1.366 \n",
      "money: able, them, battle, result, represented, time, interest, possible, nine, end\n",
      "lion: appeal, town, replaced, introduction, region, israel, rest, north, province, alexander\n",
      "africa: america, china, germany, europe, south, france, india, coast, united, england\n",
      "musician: actor, writer, author, singer, result, actress, nine, deaths, addition, scotland\n",
      "dance: music, rock, majority, traditional, influence, battle, age, variety, period, classical\n",
      "\n",
      "\n"
     ]
    },
    {
     "name": "stderr",
     "output_type": "stream",
     "text": [
      "3999it [01:15, 48.77it/s]"
     ]
    },
    {
     "name": "stdout",
     "output_type": "stream",
     "text": [
      "| epoch   2 |  4000/32580 batches | loss    1.369 \n",
      "money: able, them, battle, result, represented, time, interest, possible, nine, perhaps\n",
      "lion: appeal, town, replaced, introduction, region, israel, rest, north, province, alexander\n",
      "africa: america, china, germany, europe, south, france, india, coast, united, england\n",
      "musician: actor, writer, author, singer, result, actress, nine, deaths, addition, scotland\n",
      "dance: music, rock, majority, traditional, influence, battle, age, variety, period, classical\n",
      "\n",
      "\n"
     ]
    },
    {
     "name": "stderr",
     "output_type": "stream",
     "text": [
      "4497it [01:25, 50.40it/s]"
     ]
    },
    {
     "name": "stdout",
     "output_type": "stream",
     "text": [
      "| epoch   2 |  4500/32580 batches | loss    1.368 \n",
      "money: able, them, battle, result, represented, time, interest, perhaps, nine, possible\n",
      "lion: appeal, town, replaced, introduction, region, israel, rest, north, province, alexander\n",
      "africa: america, china, germany, europe, south, france, india, coast, united, england\n",
      "musician: actor, writer, author, singer, result, actress, nine, deaths, addition, scotland\n",
      "dance: music, rock, majority, traditional, influence, battle, age, variety, period, classical\n",
      "\n",
      "\n"
     ]
    },
    {
     "name": "stderr",
     "output_type": "stream",
     "text": [
      "4997it [01:33, 50.02it/s] "
     ]
    },
    {
     "name": "stdout",
     "output_type": "stream",
     "text": [
      "| epoch   2 |  5000/32580 batches | loss    1.369 \n",
      "money: able, them, battle, result, represented, time, interest, nine, possible, perhaps\n",
      "lion: appeal, town, replaced, introduction, region, israel, rest, north, province, alexander\n",
      "africa: america, china, germany, europe, south, india, france, coast, united, england\n",
      "musician: actor, writer, author, singer, result, actress, nine, deaths, addition, scotland\n",
      "dance: music, rock, majority, traditional, influence, battle, age, variety, period, form\n",
      "\n",
      "\n"
     ]
    },
    {
     "name": "stderr",
     "output_type": "stream",
     "text": [
      "5499it [01:45, 49.44it/s]"
     ]
    },
    {
     "name": "stdout",
     "output_type": "stream",
     "text": [
      "| epoch   2 |  5500/32580 batches | loss    1.368 \n",
      "money: able, them, battle, result, represented, time, interest, nine, possible, perhaps\n",
      "lion: appeal, town, replaced, introduction, region, israel, rest, province, north, alexander\n",
      "africa: america, china, germany, europe, south, india, france, coast, united, england\n",
      "musician: actor, writer, author, singer, result, actress, nine, deaths, addition, scotland\n",
      "dance: music, rock, majority, traditional, influence, battle, age, variety, period, form\n",
      "\n",
      "\n"
     ]
    },
    {
     "name": "stderr",
     "output_type": "stream",
     "text": [
      "5948it [01:54, 51.21it/s]"
     ]
    },
    {
     "name": "stdout",
     "output_type": "stream",
     "text": [
      "| epoch   2 |  6000/32580 batches | loss    1.368 \n",
      "money: able, them, battle, result, represented, time, interest, possible, perhaps, nine\n",
      "lion: appeal, town, replaced, introduction, region, israel, rest, province, north, alexander\n",
      "africa: america, china, germany, europe, south, india, france, coast, united, asia\n",
      "musician: actor, writer, author, singer, result, actress, nine, deaths, addition, poet\n",
      "dance: music, rock, majority, traditional, influence, battle, age, variety, period, form\n",
      "\n",
      "\n"
     ]
    },
    {
     "name": "stderr",
     "output_type": "stream",
     "text": [
      "6500it [02:03, 51.52it/s] "
     ]
    },
    {
     "name": "stdout",
     "output_type": "stream",
     "text": [
      "| epoch   2 |  6500/32580 batches | loss    1.366 \n",
      "money: able, them, battle, result, represented, time, interest, nine, possible, perhaps\n",
      "lion: appeal, town, replaced, introduction, region, israel, rest, province, north, alexander\n",
      "africa: america, china, germany, europe, south, india, france, coast, united, asia\n",
      "musician: actor, writer, author, singer, result, actress, nine, deaths, addition, poet\n",
      "dance: music, rock, majority, traditional, influence, battle, age, variety, period, form\n",
      "\n",
      "\n"
     ]
    },
    {
     "name": "stderr",
     "output_type": "stream",
     "text": [
      "7001it [02:14, 35.84it/s]"
     ]
    },
    {
     "name": "stdout",
     "output_type": "stream",
     "text": [
      "| epoch   2 |  7000/32580 batches | loss    1.362 \n",
      "money: able, them, battle, result, represented, time, interest, possible, perhaps, nine\n",
      "lion: appeal, town, replaced, region, introduction, israel, rest, province, north, alexander\n",
      "africa: america, china, germany, europe, south, india, france, coast, united, asia\n",
      "musician: actor, writer, author, singer, result, actress, nine, deaths, addition, poet\n",
      "dance: music, rock, majority, traditional, influence, battle, age, variety, form, period\n",
      "\n",
      "\n"
     ]
    },
    {
     "name": "stderr",
     "output_type": "stream",
     "text": [
      "7441it [02:22, 52.00it/s]"
     ]
    },
    {
     "name": "stdout",
     "output_type": "stream",
     "text": [
      "| epoch   2 |  7500/32580 batches | loss    1.363 \n",
      "money: able, them, battle, result, represented, time, interest, possible, perhaps, idea\n",
      "lion: appeal, town, replaced, region, introduction, israel, rest, province, north, alexander\n",
      "africa: america, china, germany, europe, south, india, france, coast, united, asia\n",
      "musician: actor, writer, author, singer, result, actress, nine, deaths, addition, poet\n",
      "dance: music, rock, majority, traditional, influence, battle, age, variety, period, classical\n",
      "\n",
      "\n"
     ]
    },
    {
     "name": "stderr",
     "output_type": "stream",
     "text": [
      "7996it [02:31, 52.06it/s] "
     ]
    },
    {
     "name": "stdout",
     "output_type": "stream",
     "text": [
      "| epoch   2 |  8000/32580 batches | loss    1.362 \n",
      "money: able, them, battle, result, represented, time, interest, possible, perhaps, nine\n",
      "lion: appeal, town, replaced, introduction, region, israel, rest, province, north, alexander\n",
      "africa: america, china, germany, europe, south, india, france, coast, united, asia\n",
      "musician: actor, writer, author, singer, result, actress, nine, deaths, poet, addition\n",
      "dance: music, rock, majority, traditional, influence, battle, age, variety, classical, period\n",
      "\n",
      "\n"
     ]
    },
    {
     "name": "stderr",
     "output_type": "stream",
     "text": [
      "8499it [02:41, 48.88it/s]"
     ]
    },
    {
     "name": "stdout",
     "output_type": "stream",
     "text": [
      "| epoch   2 |  8500/32580 batches | loss    1.362 \n",
      "money: able, them, battle, result, represented, time, possible, interest, perhaps, idea\n",
      "lion: appeal, town, replaced, introduction, region, israel, rest, province, north, alexander\n",
      "africa: america, china, germany, europe, south, india, france, coast, united, asia\n",
      "musician: actor, writer, author, singer, result, actress, nine, deaths, poet, addition\n",
      "dance: music, rock, majority, traditional, influence, battle, age, variety, classical, period\n",
      "\n",
      "\n"
     ]
    },
    {
     "name": "stderr",
     "output_type": "stream",
     "text": [
      "8944it [02:50, 50.26it/s]"
     ]
    },
    {
     "name": "stdout",
     "output_type": "stream",
     "text": [
      "| epoch   2 |  9000/32580 batches | loss    1.360 \n",
      "money: able, them, battle, result, represented, time, interest, perhaps, possible, idea\n",
      "lion: appeal, town, replaced, introduction, region, israel, rest, province, north, alexander\n",
      "africa: america, china, germany, europe, south, india, france, coast, united, asia\n",
      "musician: actor, writer, author, singer, result, actress, nine, deaths, poet, addition\n",
      "dance: music, rock, majority, traditional, influence, battle, age, variety, classical, form\n",
      "\n",
      "\n"
     ]
    },
    {
     "name": "stderr",
     "output_type": "stream",
     "text": [
      "9500it [02:59, 51.52it/s] "
     ]
    },
    {
     "name": "stdout",
     "output_type": "stream",
     "text": [
      "| epoch   2 |  9500/32580 batches | loss    1.366 \n",
      "money: able, them, battle, result, represented, perhaps, time, interest, possible, nine\n",
      "lion: appeal, town, replaced, introduction, region, israel, rest, province, north, alexander\n",
      "africa: america, china, germany, europe, south, india, france, coast, united, asia\n",
      "musician: actor, writer, author, singer, result, actress, nine, deaths, poet, addition\n",
      "dance: music, rock, majority, traditional, influence, battle, age, variety, classical, form\n",
      "\n",
      "\n"
     ]
    },
    {
     "name": "stderr",
     "output_type": "stream",
     "text": [
      "10001it [03:10, 35.28it/s]"
     ]
    },
    {
     "name": "stdout",
     "output_type": "stream",
     "text": [
      "| epoch   2 | 10000/32580 batches | loss    1.358 \n",
      "money: able, them, battle, result, represented, perhaps, possible, time, interest, nine\n",
      "lion: appeal, town, replaced, region, introduction, israel, rest, province, north, alexander\n",
      "africa: america, china, germany, europe, south, india, france, coast, united, asia\n",
      "musician: actor, writer, author, singer, actress, result, nine, deaths, poet, addition\n",
      "dance: music, rock, majority, traditional, influence, battle, age, variety, classical, form\n",
      "\n",
      "\n"
     ]
    },
    {
     "name": "stderr",
     "output_type": "stream",
     "text": [
      "10442it [03:18, 51.01it/s]"
     ]
    },
    {
     "name": "stdout",
     "output_type": "stream",
     "text": [
      "| epoch   2 | 10500/32580 batches | loss    1.362 \n",
      "money: able, them, battle, result, represented, perhaps, possible, interest, time, idea\n",
      "lion: appeal, town, replaced, region, introduction, israel, rest, province, north, alexander\n",
      "africa: america, china, germany, europe, south, india, france, coast, asia, united\n",
      "musician: actor, writer, author, singer, actress, result, nine, deaths, poet, addition\n",
      "dance: music, rock, majority, traditional, influence, battle, age, variety, classical, form\n",
      "\n",
      "\n"
     ]
    },
    {
     "name": "stderr",
     "output_type": "stream",
     "text": [
      "11001it [03:28, 35.64it/s] "
     ]
    },
    {
     "name": "stdout",
     "output_type": "stream",
     "text": [
      "| epoch   2 | 11000/32580 batches | loss    1.358 \n",
      "money: able, them, battle, result, represented, perhaps, possible, interest, time, even\n",
      "lion: appeal, town, replaced, region, introduction, israel, rest, province, north, alexander\n",
      "africa: america, china, germany, europe, south, india, france, coast, asia, united\n",
      "musician: actor, writer, author, singer, actress, result, nine, deaths, poet, addition\n",
      "dance: music, rock, majority, traditional, influence, battle, age, variety, classical, form\n",
      "\n",
      "\n"
     ]
    },
    {
     "name": "stderr",
     "output_type": "stream",
     "text": [
      "11501it [03:38, 36.16it/s]"
     ]
    },
    {
     "name": "stdout",
     "output_type": "stream",
     "text": [
      "| epoch   2 | 11500/32580 batches | loss    1.357 \n",
      "money: able, them, battle, result, represented, perhaps, interest, possible, time, even\n",
      "lion: appeal, town, replaced, region, introduction, israel, rest, province, north, alexander\n",
      "africa: america, china, germany, europe, south, india, france, coast, asia, united\n",
      "musician: actor, writer, author, singer, actress, result, nine, deaths, poet, politician\n",
      "dance: music, rock, majority, traditional, influence, battle, age, classical, variety, famous\n",
      "\n",
      "\n"
     ]
    },
    {
     "name": "stderr",
     "output_type": "stream",
     "text": [
      "11935it [03:46, 50.70it/s]"
     ]
    },
    {
     "name": "stdout",
     "output_type": "stream",
     "text": [
      "| epoch   2 | 12000/32580 batches | loss    1.360 \n",
      "money: able, them, battle, result, represented, perhaps, interest, time, possible, even\n",
      "lion: appeal, town, replaced, region, introduction, israel, rest, province, north, alexander\n",
      "africa: america, china, germany, europe, south, india, france, coast, asia, united\n",
      "musician: actor, writer, author, singer, actress, result, nine, deaths, poet, politician\n",
      "dance: music, rock, majority, traditional, influence, battle, age, classical, variety, famous\n",
      "\n",
      "\n"
     ]
    },
    {
     "name": "stderr",
     "output_type": "stream",
     "text": [
      "12499it [03:55, 49.97it/s] "
     ]
    },
    {
     "name": "stdout",
     "output_type": "stream",
     "text": [
      "| epoch   2 | 12500/32580 batches | loss    1.355 \n",
      "money: able, them, battle, result, represented, perhaps, time, interest, possible, idea\n",
      "lion: appeal, town, replaced, region, introduction, israel, rest, province, north, alexander\n",
      "africa: america, china, germany, europe, south, india, france, coast, asia, united\n",
      "musician: actor, writer, author, singer, actress, result, nine, deaths, poet, politician\n",
      "dance: music, rock, majority, traditional, influence, battle, age, classical, variety, famous\n",
      "\n",
      "\n"
     ]
    },
    {
     "name": "stderr",
     "output_type": "stream",
     "text": [
      "13001it [04:06, 34.94it/s]"
     ]
    },
    {
     "name": "stdout",
     "output_type": "stream",
     "text": [
      "| epoch   2 | 13000/32580 batches | loss    1.358 \n",
      "money: able, them, battle, result, represented, perhaps, time, interest, possible, idea\n",
      "lion: appeal, town, replaced, region, introduction, israel, rest, province, north, alexander\n",
      "africa: america, china, germany, europe, south, india, france, coast, asia, united\n",
      "musician: actor, writer, author, singer, actress, result, nine, deaths, poet, politician\n",
      "dance: music, rock, majority, traditional, influence, battle, age, classical, variety, famous\n",
      "\n",
      "\n"
     ]
    },
    {
     "name": "stderr",
     "output_type": "stream",
     "text": [
      "13439it [04:14, 50.26it/s]"
     ]
    },
    {
     "name": "stdout",
     "output_type": "stream",
     "text": [
      "| epoch   2 | 13500/32580 batches | loss    1.358 \n",
      "money: able, them, battle, result, represented, perhaps, time, interest, possible, idea\n",
      "lion: appeal, town, replaced, region, introduction, israel, rest, province, north, alexander\n",
      "africa: america, china, germany, europe, south, india, france, coast, asia, united\n",
      "musician: actor, writer, author, singer, actress, result, nine, deaths, poet, politician\n",
      "dance: music, rock, majority, traditional, influence, battle, age, classical, variety, famous\n",
      "\n",
      "\n"
     ]
    },
    {
     "name": "stderr",
     "output_type": "stream",
     "text": [
      "14001it [04:24, 34.79it/s] "
     ]
    },
    {
     "name": "stdout",
     "output_type": "stream",
     "text": [
      "| epoch   2 | 14000/32580 batches | loss    1.356 \n",
      "money: able, them, battle, result, represented, perhaps, time, interest, possible, even\n",
      "lion: appeal, town, replaced, region, introduction, israel, rest, province, north, alexander\n",
      "africa: america, china, germany, europe, south, india, france, coast, asia, united\n",
      "musician: actor, writer, singer, author, actress, result, nine, deaths, poet, politician\n",
      "dance: music, rock, majority, traditional, influence, battle, age, classical, variety, famous\n",
      "\n",
      "\n"
     ]
    },
    {
     "name": "stderr",
     "output_type": "stream",
     "text": [
      "14501it [04:34, 33.89it/s]"
     ]
    },
    {
     "name": "stdout",
     "output_type": "stream",
     "text": [
      "| epoch   2 | 14500/32580 batches | loss    1.358 \n",
      "money: able, them, battle, result, represented, perhaps, time, interest, possible, even\n",
      "lion: appeal, town, replaced, region, introduction, israel, rest, province, north, alexander\n",
      "africa: america, china, germany, europe, south, india, france, coast, asia, united\n",
      "musician: actor, writer, singer, author, actress, result, nine, deaths, poet, politician\n",
      "dance: music, rock, majority, traditional, influence, battle, age, classical, variety, famous\n",
      "\n",
      "\n"
     ]
    },
    {
     "name": "stderr",
     "output_type": "stream",
     "text": [
      "14908it [04:42, 49.64it/s]"
     ]
    },
    {
     "name": "stdout",
     "output_type": "stream",
     "text": [
      "| epoch   2 | 15000/32580 batches | loss    1.355 \n",
      "money: able, them, battle, result, represented, perhaps, time, interest, possible, even\n",
      "lion: appeal, town, replaced, region, introduction, israel, rest, province, north, alexander\n",
      "africa: america, china, germany, europe, south, india, france, coast, asia, united\n",
      "musician: actor, writer, singer, author, actress, result, nine, deaths, poet, politician\n",
      "dance: music, rock, majority, traditional, influence, battle, age, classical, variety, famous\n",
      "\n",
      "\n"
     ]
    },
    {
     "name": "stderr",
     "output_type": "stream",
     "text": [
      "15502it [04:52, 34.22it/s] "
     ]
    },
    {
     "name": "stdout",
     "output_type": "stream",
     "text": [
      "| epoch   2 | 15500/32580 batches | loss    1.356 \n",
      "money: able, them, battle, result, represented, perhaps, time, interest, possible, even\n",
      "lion: appeal, town, replaced, region, introduction, israel, rest, province, north, alexander\n",
      "africa: america, china, germany, europe, south, india, france, coast, asia, united\n",
      "musician: actor, writer, singer, author, actress, result, nine, deaths, poet, politician\n",
      "dance: music, rock, majority, traditional, influence, battle, age, classical, variety, famous\n",
      "\n",
      "\n"
     ]
    },
    {
     "name": "stderr",
     "output_type": "stream",
     "text": [
      "15999it [05:02, 49.01it/s]"
     ]
    },
    {
     "name": "stdout",
     "output_type": "stream",
     "text": [
      "| epoch   2 | 16000/32580 batches | loss    1.351 \n",
      "money: able, them, battle, result, represented, perhaps, time, interest, even, possible\n",
      "lion: appeal, town, replaced, region, introduction, israel, rest, province, north, alexander\n",
      "africa: america, china, germany, europe, south, india, france, coast, asia, united\n",
      "musician: actor, writer, singer, author, actress, result, nine, deaths, poet, politician\n",
      "dance: music, rock, majority, traditional, influence, battle, age, classical, variety, famous\n",
      "\n",
      "\n"
     ]
    },
    {
     "name": "stderr",
     "output_type": "stream",
     "text": [
      "16484it [05:10, 321.14it/s]"
     ]
    },
    {
     "name": "stdout",
     "output_type": "stream",
     "text": [
      "| epoch   2 | 16500/32580 batches | loss    1.355 \n",
      "money: them, able, battle, result, represented, perhaps, time, interest, possible, even\n",
      "lion: appeal, town, replaced, introduction, region, israel, rest, province, north, present\n",
      "africa: america, china, germany, europe, south, india, france, coast, asia, united\n",
      "musician: actor, writer, singer, author, actress, result, nine, deaths, poet, politician\n",
      "dance: music, rock, majority, traditional, influence, battle, age, classical, variety, famous\n",
      "\n",
      "\n"
     ]
    },
    {
     "name": "stderr",
     "output_type": "stream",
     "text": [
      "16998it [05:21, 50.66it/s] "
     ]
    },
    {
     "name": "stdout",
     "output_type": "stream",
     "text": [
      "| epoch   2 | 17000/32580 batches | loss    1.356 \n",
      "money: them, able, battle, result, represented, perhaps, time, interest, even, possible\n",
      "lion: appeal, town, replaced, introduction, region, israel, rest, province, north, present\n",
      "africa: america, china, germany, europe, south, india, france, coast, asia, united\n",
      "musician: actor, writer, singer, author, actress, result, nine, deaths, poet, politician\n",
      "dance: music, rock, majority, traditional, influence, battle, age, classical, variety, famous\n",
      "\n",
      "\n"
     ]
    },
    {
     "name": "stderr",
     "output_type": "stream",
     "text": [
      "17499it [05:31, 50.93it/s]"
     ]
    },
    {
     "name": "stdout",
     "output_type": "stream",
     "text": [
      "| epoch   2 | 17500/32580 batches | loss    1.352 \n",
      "money: them, able, battle, result, represented, perhaps, time, interest, even, possible\n",
      "lion: appeal, town, replaced, introduction, region, rest, israel, province, north, present\n",
      "africa: america, china, germany, europe, south, india, france, coast, asia, united\n",
      "musician: actor, writer, singer, author, actress, result, nine, deaths, poet, politician\n",
      "dance: music, rock, majority, traditional, influence, battle, age, classical, variety, period\n",
      "\n",
      "\n"
     ]
    },
    {
     "name": "stderr",
     "output_type": "stream",
     "text": [
      "18000it [05:39, 131.39it/s]"
     ]
    },
    {
     "name": "stdout",
     "output_type": "stream",
     "text": [
      "| epoch   2 | 18000/32580 batches | loss    1.351 \n",
      "money: them, able, battle, result, represented, perhaps, time, interest, even, possible\n",
      "lion: appeal, town, replaced, region, introduction, rest, israel, province, north, alexander\n",
      "africa: america, china, germany, europe, south, india, france, coast, asia, united\n",
      "musician: actor, writer, singer, author, actress, result, nine, deaths, poet, politician\n",
      "dance: music, rock, majority, traditional, influence, battle, age, classical, variety, period\n",
      "\n",
      "\n"
     ]
    },
    {
     "name": "stderr",
     "output_type": "stream",
     "text": [
      "18502it [05:49, 32.12it/s] "
     ]
    },
    {
     "name": "stdout",
     "output_type": "stream",
     "text": [
      "| epoch   2 | 18500/32580 batches | loss    1.347 \n",
      "money: them, able, battle, result, represented, perhaps, time, even, possible, interest\n",
      "lion: appeal, town, replaced, region, introduction, rest, israel, province, north, present\n",
      "africa: america, china, germany, europe, south, india, france, coast, asia, united\n",
      "musician: actor, writer, singer, author, actress, result, nine, deaths, poet, politician\n",
      "dance: music, rock, majority, traditional, influence, battle, age, classical, variety, period\n",
      "\n",
      "\n"
     ]
    },
    {
     "name": "stderr",
     "output_type": "stream",
     "text": [
      "18999it [05:59, 48.81it/s]"
     ]
    },
    {
     "name": "stdout",
     "output_type": "stream",
     "text": [
      "| epoch   2 | 19000/32580 batches | loss    1.352 \n",
      "money: them, able, battle, result, represented, time, perhaps, even, interest, possible\n",
      "lion: appeal, town, replaced, region, introduction, rest, israel, province, north, present\n",
      "africa: america, china, germany, europe, south, india, france, coast, asia, united\n",
      "musician: actor, writer, singer, author, actress, result, nine, deaths, poet, politician\n",
      "dance: music, rock, majority, traditional, influence, battle, age, classical, variety, famous\n",
      "\n",
      "\n"
     ]
    },
    {
     "name": "stderr",
     "output_type": "stream",
     "text": [
      "19491it [06:07, 89.27it/s] "
     ]
    },
    {
     "name": "stdout",
     "output_type": "stream",
     "text": [
      "| epoch   2 | 19500/32580 batches | loss    1.350 \n",
      "money: them, able, battle, result, represented, time, perhaps, even, interest, possible\n",
      "lion: appeal, town, replaced, region, introduction, rest, israel, province, north, alexander\n",
      "africa: america, china, germany, europe, south, india, france, coast, asia, united\n",
      "musician: actor, writer, singer, author, actress, result, nine, deaths, poet, politician\n",
      "dance: music, rock, majority, traditional, influence, battle, age, classical, variety, famous\n",
      "\n",
      "\n"
     ]
    },
    {
     "name": "stderr",
     "output_type": "stream",
     "text": [
      "19998it [06:18, 49.09it/s]"
     ]
    },
    {
     "name": "stdout",
     "output_type": "stream",
     "text": [
      "| epoch   2 | 20000/32580 batches | loss    1.349 \n",
      "money: them, able, battle, result, represented, time, perhaps, even, possible, interest\n",
      "lion: appeal, town, replaced, region, introduction, rest, israel, province, north, alexander\n",
      "africa: america, china, germany, europe, south, india, france, coast, asia, united\n",
      "musician: actor, writer, singer, author, actress, result, nine, deaths, poet, politician\n",
      "dance: music, rock, majority, traditional, influence, battle, age, classical, variety, famous\n",
      "\n",
      "\n"
     ]
    },
    {
     "name": "stderr",
     "output_type": "stream",
     "text": [
      "20499it [06:28, 49.64it/s]"
     ]
    },
    {
     "name": "stdout",
     "output_type": "stream",
     "text": [
      "| epoch   2 | 20500/32580 batches | loss    1.352 \n",
      "money: them, able, battle, result, represented, time, perhaps, even, interest, possible\n",
      "lion: appeal, town, replaced, introduction, region, rest, israel, province, north, alexander\n",
      "africa: america, china, germany, europe, south, india, france, coast, asia, united\n",
      "musician: actor, writer, singer, author, actress, result, nine, deaths, poet, politician\n",
      "dance: music, rock, traditional, majority, influence, battle, age, classical, variety, famous\n",
      "\n",
      "\n"
     ]
    },
    {
     "name": "stderr",
     "output_type": "stream",
     "text": [
      "21000it [06:37, 56.58it/s] "
     ]
    },
    {
     "name": "stdout",
     "output_type": "stream",
     "text": [
      "| epoch   2 | 21000/32580 batches | loss    1.348 \n",
      "money: them, able, battle, result, represented, perhaps, time, even, interest, possible\n",
      "lion: appeal, town, replaced, introduction, region, rest, israel, province, north, alexander\n",
      "africa: america, china, germany, europe, south, india, france, coast, asia, united\n",
      "musician: actor, writer, singer, author, actress, result, nine, deaths, poet, politician\n",
      "dance: music, rock, traditional, majority, influence, battle, age, classical, variety, famous\n",
      "\n",
      "\n"
     ]
    },
    {
     "name": "stderr",
     "output_type": "stream",
     "text": [
      "21498it [06:47, 48.17it/s]"
     ]
    },
    {
     "name": "stdout",
     "output_type": "stream",
     "text": [
      "| epoch   2 | 21500/32580 batches | loss    1.352 \n",
      "money: them, able, battle, result, represented, time, perhaps, even, interest, idea\n",
      "lion: appeal, town, replaced, region, introduction, rest, israel, province, north, alexander\n",
      "africa: america, china, germany, europe, south, india, france, coast, asia, united\n",
      "musician: actor, writer, singer, author, actress, result, nine, deaths, poet, politician\n",
      "dance: music, rock, traditional, majority, influence, battle, age, classical, variety, famous\n",
      "\n",
      "\n"
     ]
    },
    {
     "name": "stderr",
     "output_type": "stream",
     "text": [
      "21999it [06:57, 48.97it/s]"
     ]
    },
    {
     "name": "stdout",
     "output_type": "stream",
     "text": [
      "| epoch   2 | 22000/32580 batches | loss    1.345 \n",
      "money: them, able, battle, result, represented, time, perhaps, even, interest, idea\n",
      "lion: appeal, town, replaced, introduction, region, rest, israel, province, north, alexander\n",
      "africa: america, china, germany, europe, south, india, france, coast, asia, united\n",
      "musician: actor, writer, singer, author, actress, result, nine, deaths, poet, politician\n",
      "dance: music, rock, traditional, majority, influence, battle, age, classical, variety, period\n",
      "\n",
      "\n"
     ]
    },
    {
     "name": "stderr",
     "output_type": "stream",
     "text": [
      "22501it [07:06, 35.49it/s] "
     ]
    },
    {
     "name": "stdout",
     "output_type": "stream",
     "text": [
      "| epoch   2 | 22500/32580 batches | loss    1.349 \n",
      "money: them, able, battle, result, represented, time, perhaps, even, interest, idea\n",
      "lion: appeal, town, replaced, introduction, region, rest, israel, province, north, alexander\n",
      "africa: america, china, germany, europe, south, india, france, coast, asia, united\n",
      "musician: actor, writer, singer, author, actress, result, nine, deaths, poet, politician\n",
      "dance: music, rock, traditional, majority, influence, battle, classical, age, variety, period\n",
      "\n",
      "\n"
     ]
    },
    {
     "name": "stderr",
     "output_type": "stream",
     "text": [
      "23001it [07:16, 33.50it/s]"
     ]
    },
    {
     "name": "stdout",
     "output_type": "stream",
     "text": [
      "| epoch   2 | 23000/32580 batches | loss    1.346 \n",
      "money: them, able, battle, result, represented, perhaps, time, even, interest, idea\n",
      "lion: appeal, town, introduction, region, replaced, rest, israel, province, north, alexander\n",
      "africa: america, china, germany, europe, south, india, france, coast, asia, united\n",
      "musician: actor, writer, singer, author, actress, result, nine, deaths, poet, politician\n",
      "dance: music, rock, traditional, majority, influence, battle, classical, age, variety, period\n",
      "\n",
      "\n"
     ]
    },
    {
     "name": "stderr",
     "output_type": "stream",
     "text": [
      "23499it [07:26, 49.26it/s]"
     ]
    },
    {
     "name": "stdout",
     "output_type": "stream",
     "text": [
      "| epoch   2 | 23500/32580 batches | loss    1.344 \n",
      "money: them, able, battle, result, represented, perhaps, time, even, interest, idea\n",
      "lion: appeal, town, introduction, region, replaced, rest, israel, province, north, alexander\n",
      "africa: america, china, germany, europe, south, india, france, coast, asia, united\n",
      "musician: actor, writer, singer, author, actress, result, nine, deaths, poet, politician\n",
      "dance: music, rock, traditional, majority, influence, battle, classical, age, variety, period\n",
      "\n",
      "\n"
     ]
    },
    {
     "name": "stderr",
     "output_type": "stream",
     "text": [
      "23997it [07:34, 49.28it/s] "
     ]
    },
    {
     "name": "stdout",
     "output_type": "stream",
     "text": [
      "| epoch   2 | 24000/32580 batches | loss    1.347 \n",
      "money: them, able, battle, result, represented, perhaps, time, even, interest, idea\n",
      "lion: appeal, town, region, introduction, replaced, rest, israel, province, north, alexander\n",
      "africa: america, china, germany, europe, south, india, france, coast, asia, united\n",
      "musician: actor, writer, singer, author, actress, result, nine, deaths, poet, politician\n",
      "dance: music, rock, traditional, majority, influence, battle, classical, age, variety, famous\n",
      "\n",
      "\n"
     ]
    },
    {
     "name": "stderr",
     "output_type": "stream",
     "text": [
      "24499it [07:45, 48.07it/s]"
     ]
    },
    {
     "name": "stdout",
     "output_type": "stream",
     "text": [
      "| epoch   2 | 24500/32580 batches | loss    1.348 \n",
      "money: them, able, battle, result, represented, perhaps, time, even, interest, idea\n",
      "lion: appeal, town, region, introduction, replaced, rest, israel, province, north, alexander\n",
      "africa: america, china, europe, germany, south, india, france, coast, asia, united\n",
      "musician: actor, writer, singer, author, actress, result, nine, deaths, poet, politician\n",
      "dance: music, rock, traditional, majority, influence, battle, classical, age, variety, famous\n",
      "\n",
      "\n"
     ]
    },
    {
     "name": "stderr",
     "output_type": "stream",
     "text": [
      "24997it [07:55, 49.83it/s]"
     ]
    },
    {
     "name": "stdout",
     "output_type": "stream",
     "text": [
      "| epoch   2 | 25000/32580 batches | loss    1.343 \n",
      "money: them, able, battle, result, represented, perhaps, time, even, interest, idea\n",
      "lion: appeal, town, region, introduction, replaced, rest, israel, province, north, alexander\n",
      "africa: america, china, europe, germany, south, india, france, coast, asia, united\n",
      "musician: actor, writer, singer, author, actress, result, nine, deaths, poet, politician\n",
      "dance: music, rock, traditional, majority, influence, battle, classical, age, variety, famous\n",
      "\n",
      "\n"
     ]
    },
    {
     "name": "stderr",
     "output_type": "stream",
     "text": [
      "25500it [08:03, 49.98it/s] "
     ]
    },
    {
     "name": "stdout",
     "output_type": "stream",
     "text": [
      "| epoch   2 | 25500/32580 batches | loss    1.346 \n",
      "money: them, able, battle, result, represented, perhaps, time, even, interest, idea\n",
      "lion: appeal, town, region, introduction, replaced, israel, rest, province, north, alexander\n",
      "africa: america, china, europe, germany, south, india, france, coast, asia, united\n",
      "musician: actor, writer, singer, author, actress, result, nine, poet, deaths, politician\n",
      "dance: music, rock, traditional, majority, influence, battle, classical, age, variety, period\n",
      "\n",
      "\n"
     ]
    },
    {
     "name": "stderr",
     "output_type": "stream",
     "text": [
      "25999it [08:14, 48.37it/s]"
     ]
    },
    {
     "name": "stdout",
     "output_type": "stream",
     "text": [
      "| epoch   2 | 26000/32580 batches | loss    1.347 \n",
      "money: them, able, battle, result, represented, perhaps, time, interest, even, idea\n",
      "lion: appeal, town, region, introduction, replaced, israel, rest, province, north, alexander\n",
      "africa: america, china, europe, germany, south, france, india, coast, asia, united\n",
      "musician: actor, writer, singer, author, actress, result, nine, poet, deaths, politician\n",
      "dance: music, rock, traditional, majority, influence, battle, classical, age, variety, famous\n",
      "\n",
      "\n"
     ]
    },
    {
     "name": "stderr",
     "output_type": "stream",
     "text": [
      "26499it [08:24, 51.13it/s]"
     ]
    },
    {
     "name": "stdout",
     "output_type": "stream",
     "text": [
      "| epoch   2 | 26500/32580 batches | loss    1.344 \n",
      "money: them, able, battle, result, represented, perhaps, time, even, interest, idea\n",
      "lion: appeal, town, region, introduction, replaced, israel, rest, province, north, alexander\n",
      "africa: america, china, europe, germany, south, india, france, coast, asia, united\n",
      "musician: actor, writer, singer, author, actress, result, nine, poet, deaths, politician\n",
      "dance: music, rock, traditional, majority, influence, battle, classical, age, variety, famous\n",
      "\n",
      "\n"
     ]
    },
    {
     "name": "stderr",
     "output_type": "stream",
     "text": [
      "27002it [08:32, 33.67it/s] "
     ]
    },
    {
     "name": "stdout",
     "output_type": "stream",
     "text": [
      "| epoch   2 | 27000/32580 batches | loss    1.346 \n",
      "money: them, able, battle, result, represented, perhaps, time, interest, even, idea\n",
      "lion: appeal, town, region, introduction, replaced, israel, rest, province, north, alexander\n",
      "africa: america, china, europe, germany, south, india, france, coast, asia, united\n",
      "musician: actor, writer, singer, author, actress, result, nine, poet, deaths, politician\n",
      "dance: music, rock, traditional, majority, influence, battle, classical, age, variety, famous\n",
      "\n",
      "\n"
     ]
    },
    {
     "name": "stderr",
     "output_type": "stream",
     "text": [
      "27497it [08:42, 49.55it/s]"
     ]
    },
    {
     "name": "stdout",
     "output_type": "stream",
     "text": [
      "| epoch   2 | 27500/32580 batches | loss    1.346 \n",
      "money: them, able, battle, result, represented, perhaps, time, even, interest, idea\n",
      "lion: appeal, town, region, introduction, replaced, israel, rest, province, north, alexander\n",
      "africa: america, china, europe, germany, south, india, france, coast, asia, united\n",
      "musician: actor, writer, singer, author, actress, result, nine, poet, deaths, politician\n",
      "dance: music, rock, traditional, majority, influence, battle, classical, age, variety, famous\n",
      "\n",
      "\n"
     ]
    },
    {
     "name": "stderr",
     "output_type": "stream",
     "text": [
      "28001it [08:53, 33.82it/s]"
     ]
    },
    {
     "name": "stdout",
     "output_type": "stream",
     "text": [
      "| epoch   2 | 28000/32580 batches | loss    1.344 \n",
      "money: them, able, battle, result, represented, perhaps, time, even, interest, idea\n",
      "lion: appeal, town, introduction, region, replaced, israel, rest, province, north, alexander\n",
      "africa: america, china, germany, europe, south, france, india, coast, asia, united\n",
      "musician: actor, writer, singer, author, actress, result, nine, poet, deaths, politician\n",
      "dance: music, rock, traditional, majority, influence, classical, battle, age, variety, famous\n",
      "\n",
      "\n"
     ]
    },
    {
     "name": "stderr",
     "output_type": "stream",
     "text": [
      "28499it [09:01, 49.84it/s] "
     ]
    },
    {
     "name": "stdout",
     "output_type": "stream",
     "text": [
      "| epoch   2 | 28500/32580 batches | loss    1.345 \n",
      "money: them, able, battle, result, represented, perhaps, time, even, interest, idea\n",
      "lion: appeal, town, introduction, region, replaced, israel, rest, province, north, alexander\n",
      "africa: america, china, germany, europe, south, france, india, coast, asia, united\n",
      "musician: actor, writer, singer, author, actress, result, nine, poet, deaths, politician\n",
      "dance: music, rock, traditional, majority, influence, battle, classical, age, variety, famous\n",
      "\n",
      "\n"
     ]
    },
    {
     "name": "stderr",
     "output_type": "stream",
     "text": [
      "29001it [09:11, 33.25it/s]"
     ]
    },
    {
     "name": "stdout",
     "output_type": "stream",
     "text": [
      "| epoch   2 | 29000/32580 batches | loss    1.342 \n",
      "money: them, able, battle, result, represented, perhaps, time, even, interest, idea\n",
      "lion: appeal, town, region, introduction, replaced, rest, israel, province, north, alexander\n",
      "africa: america, china, germany, europe, south, india, france, coast, asia, united\n",
      "musician: actor, writer, singer, author, actress, result, nine, poet, deaths, politician\n",
      "dance: music, rock, traditional, majority, influence, classical, battle, age, variety, famous\n",
      "\n",
      "\n"
     ]
    },
    {
     "name": "stderr",
     "output_type": "stream",
     "text": [
      "29427it [09:22, 50.26it/s]"
     ]
    },
    {
     "name": "stdout",
     "output_type": "stream",
     "text": [
      "| epoch   2 | 29500/32580 batches | loss    1.341 \n",
      "money: them, able, battle, result, represented, perhaps, time, even, interest, idea\n",
      "lion: appeal, town, introduction, region, replaced, rest, israel, province, north, sea\n",
      "africa: america, china, germany, europe, south, india, france, coast, asia, united\n",
      "musician: actor, writer, singer, author, actress, result, nine, poet, deaths, politician\n",
      "dance: music, rock, traditional, majority, influence, classical, battle, age, variety, famous\n",
      "\n",
      "\n"
     ]
    },
    {
     "name": "stderr",
     "output_type": "stream",
     "text": [
      "30001it [09:31, 33.65it/s] "
     ]
    },
    {
     "name": "stdout",
     "output_type": "stream",
     "text": [
      "| epoch   2 | 30000/32580 batches | loss    1.345 \n",
      "money: them, able, battle, result, represented, perhaps, time, even, interest, idea\n",
      "lion: appeal, town, introduction, region, replaced, rest, israel, province, north, alexander\n",
      "africa: america, china, germany, europe, south, india, france, coast, asia, united\n",
      "musician: actor, writer, singer, author, actress, result, nine, poet, deaths, politician\n",
      "dance: music, rock, traditional, majority, influence, classical, battle, age, variety, famous\n",
      "\n",
      "\n"
     ]
    },
    {
     "name": "stderr",
     "output_type": "stream",
     "text": [
      "30501it [09:42, 32.75it/s]"
     ]
    },
    {
     "name": "stdout",
     "output_type": "stream",
     "text": [
      "| epoch   2 | 30500/32580 batches | loss    1.342 \n",
      "money: them, able, battle, result, represented, perhaps, time, even, interest, idea\n",
      "lion: appeal, town, introduction, region, replaced, rest, israel, province, north, sea\n",
      "africa: america, china, germany, europe, south, france, india, coast, asia, united\n",
      "musician: actor, writer, singer, author, actress, result, nine, poet, deaths, politician\n",
      "dance: music, rock, traditional, majority, influence, classical, battle, age, variety, famous\n",
      "\n",
      "\n"
     ]
    },
    {
     "name": "stderr",
     "output_type": "stream",
     "text": [
      "30991it [09:49, 341.22it/s]"
     ]
    },
    {
     "name": "stdout",
     "output_type": "stream",
     "text": [
      "| epoch   2 | 31000/32580 batches | loss    1.341 \n",
      "money: them, able, battle, result, represented, perhaps, time, even, interest, idea\n",
      "lion: appeal, town, introduction, region, replaced, rest, israel, province, north, sea\n",
      "africa: america, china, germany, europe, south, india, france, coast, asia, united\n",
      "musician: actor, writer, singer, author, actress, result, nine, poet, deaths, politician\n",
      "dance: music, rock, traditional, majority, influence, classical, battle, age, variety, famous\n",
      "\n",
      "\n"
     ]
    },
    {
     "name": "stderr",
     "output_type": "stream",
     "text": [
      "31501it [10:00, 33.70it/s] "
     ]
    },
    {
     "name": "stdout",
     "output_type": "stream",
     "text": [
      "| epoch   2 | 31500/32580 batches | loss    1.343 \n",
      "money: them, able, battle, result, represented, perhaps, time, interest, even, idea\n",
      "lion: appeal, town, region, introduction, replaced, rest, israel, province, north, ruth\n",
      "africa: america, china, germany, europe, south, india, france, coast, asia, united\n",
      "musician: actor, writer, singer, author, actress, result, poet, nine, deaths, politician\n",
      "dance: music, rock, traditional, majority, influence, classical, battle, age, variety, famous\n",
      "\n",
      "\n"
     ]
    },
    {
     "name": "stderr",
     "output_type": "stream",
     "text": [
      "31999it [10:10, 49.27it/s]"
     ]
    },
    {
     "name": "stdout",
     "output_type": "stream",
     "text": [
      "| epoch   2 | 32000/32580 batches | loss    1.339 \n",
      "money: them, able, battle, result, represented, perhaps, time, interest, even, idea\n",
      "lion: appeal, town, region, introduction, replaced, rest, israel, province, north, alexander\n",
      "africa: america, china, germany, europe, india, south, france, coast, asia, united\n",
      "musician: actor, writer, singer, author, actress, result, poet, nine, deaths, politician\n",
      "dance: music, rock, traditional, majority, influence, classical, age, battle, variety, famous\n",
      "\n",
      "\n"
     ]
    },
    {
     "name": "stderr",
     "output_type": "stream",
     "text": [
      "32494it [10:18, 130.58it/s]"
     ]
    },
    {
     "name": "stdout",
     "output_type": "stream",
     "text": [
      "| epoch   2 | 32500/32580 batches | loss    1.343 \n",
      "money: them, able, battle, result, represented, perhaps, time, interest, even, idea\n",
      "lion: appeal, town, introduction, region, replaced, rest, israel, province, north, ruth\n",
      "africa: america, china, germany, europe, india, south, france, coast, asia, united\n",
      "musician: actor, writer, singer, author, actress, result, poet, nine, politician, deaths\n",
      "dance: music, rock, traditional, majority, influence, classical, age, battle, variety, famous\n",
      "\n",
      "\n"
     ]
    },
    {
     "name": "stderr",
     "output_type": "stream",
     "text": [
      "32580it [10:21, 52.41it/s] \n",
      "1it [00:00,  1.16it/s]"
     ]
    },
    {
     "name": "stdout",
     "output_type": "stream",
     "text": [
      "| epoch   3 |     0/32580 batches | loss    1.307 \n",
      "money: them, able, battle, result, represented, perhaps, time, interest, even, idea\n",
      "lion: appeal, town, introduction, region, replaced, rest, israel, province, north, alexander\n",
      "africa: america, china, germany, europe, india, south, france, coast, asia, united\n",
      "musician: actor, writer, singer, author, actress, result, poet, nine, politician, deaths\n",
      "dance: music, rock, traditional, majority, influence, classical, age, battle, variety, famous\n",
      "\n",
      "\n"
     ]
    },
    {
     "name": "stderr",
     "output_type": "stream",
     "text": [
      "497it [00:10, 49.64it/s]"
     ]
    },
    {
     "name": "stdout",
     "output_type": "stream",
     "text": [
      "| epoch   3 |   500/32580 batches | loss    1.337 \n",
      "money: them, able, battle, result, represented, perhaps, time, interest, even, idea\n",
      "lion: appeal, town, introduction, region, replaced, rest, israel, province, north, alexander\n",
      "africa: america, china, germany, europe, india, south, france, coast, asia, united\n",
      "musician: actor, writer, singer, author, actress, result, poet, nine, politician, deaths\n",
      "dance: music, rock, traditional, majority, influence, classical, age, battle, variety, famous\n",
      "\n",
      "\n"
     ]
    },
    {
     "name": "stderr",
     "output_type": "stream",
     "text": [
      "997it [00:21, 49.80it/s]"
     ]
    },
    {
     "name": "stdout",
     "output_type": "stream",
     "text": [
      "| epoch   3 |  1000/32580 batches | loss    1.335 \n",
      "money: them, able, battle, result, represented, perhaps, time, interest, even, idea\n",
      "lion: appeal, town, introduction, region, replaced, rest, israel, province, north, alexander\n",
      "africa: america, china, germany, europe, india, south, france, coast, asia, united\n",
      "musician: actor, writer, singer, author, actress, result, poet, nine, politician, deaths\n",
      "dance: music, rock, traditional, majority, influence, classical, age, battle, variety, famous\n",
      "\n",
      "\n"
     ]
    },
    {
     "name": "stderr",
     "output_type": "stream",
     "text": [
      "1501it [00:29, 33.83it/s] "
     ]
    },
    {
     "name": "stdout",
     "output_type": "stream",
     "text": [
      "| epoch   3 |  1500/32580 batches | loss    1.336 \n",
      "money: them, able, battle, result, represented, perhaps, time, interest, even, idea\n",
      "lion: appeal, town, introduction, region, replaced, rest, israel, province, north, alexander\n",
      "africa: america, china, germany, europe, india, south, france, coast, asia, united\n",
      "musician: actor, writer, singer, author, actress, result, poet, nine, politician, deaths\n",
      "dance: music, rock, traditional, majority, influence, classical, age, battle, variety, famous\n",
      "\n",
      "\n"
     ]
    },
    {
     "name": "stderr",
     "output_type": "stream",
     "text": [
      "1997it [00:39, 48.43it/s]"
     ]
    },
    {
     "name": "stdout",
     "output_type": "stream",
     "text": [
      "| epoch   3 |  2000/32580 batches | loss    1.332 \n",
      "money: them, able, battle, result, represented, perhaps, interest, time, even, idea\n",
      "lion: appeal, town, introduction, region, replaced, rest, israel, province, north, alexander\n",
      "africa: america, china, germany, europe, india, south, france, coast, asia, united\n",
      "musician: actor, writer, singer, author, actress, result, poet, nine, politician, deaths\n",
      "dance: music, rock, traditional, majority, influence, classical, age, battle, variety, famous\n",
      "\n",
      "\n"
     ]
    },
    {
     "name": "stderr",
     "output_type": "stream",
     "text": [
      "2501it [00:50, 34.13it/s]"
     ]
    },
    {
     "name": "stdout",
     "output_type": "stream",
     "text": [
      "| epoch   3 |  2500/32580 batches | loss    1.341 \n",
      "money: them, able, battle, result, represented, perhaps, interest, time, even, idea\n",
      "lion: appeal, town, introduction, region, replaced, rest, israel, province, north, alexander\n",
      "africa: america, china, germany, europe, india, south, france, coast, asia, united\n",
      "musician: actor, writer, singer, author, actress, result, poet, nine, politician, deaths\n",
      "dance: music, rock, traditional, majority, influence, classical, age, battle, variety, famous\n",
      "\n",
      "\n"
     ]
    },
    {
     "name": "stderr",
     "output_type": "stream",
     "text": [
      "2997it [00:57, 49.73it/s] "
     ]
    },
    {
     "name": "stdout",
     "output_type": "stream",
     "text": [
      "| epoch   3 |  3000/32580 batches | loss    1.334 \n",
      "money: them, able, battle, result, represented, perhaps, interest, time, even, idea\n",
      "lion: appeal, town, introduction, region, replaced, rest, israel, province, north, ruth\n",
      "africa: america, china, germany, europe, india, south, france, coast, asia, united\n",
      "musician: actor, writer, singer, author, actress, result, poet, nine, politician, deaths\n",
      "dance: music, rock, traditional, majority, influence, classical, age, battle, variety, famous\n",
      "\n",
      "\n"
     ]
    },
    {
     "name": "stderr",
     "output_type": "stream",
     "text": [
      "3501it [01:08, 32.53it/s]"
     ]
    },
    {
     "name": "stdout",
     "output_type": "stream",
     "text": [
      "| epoch   3 |  3500/32580 batches | loss    1.339 \n",
      "money: them, able, battle, result, represented, perhaps, interest, time, even, idea\n",
      "lion: appeal, town, introduction, region, replaced, rest, israel, province, north, ruth\n",
      "africa: america, china, germany, europe, india, south, france, coast, asia, united\n",
      "musician: actor, writer, singer, author, actress, result, poet, nine, politician, deaths\n",
      "dance: music, rock, traditional, majority, influence, classical, age, battle, variety, famous\n",
      "\n",
      "\n"
     ]
    },
    {
     "name": "stderr",
     "output_type": "stream",
     "text": [
      "3999it [01:18, 50.24it/s]"
     ]
    },
    {
     "name": "stdout",
     "output_type": "stream",
     "text": [
      "| epoch   3 |  4000/32580 batches | loss    1.338 \n",
      "money: them, able, battle, result, represented, perhaps, even, interest, time, idea\n",
      "lion: appeal, town, introduction, region, replaced, rest, israel, province, north, ruth\n",
      "africa: america, china, germany, europe, india, south, france, coast, asia, united\n",
      "musician: actor, writer, singer, author, actress, result, poet, nine, politician, deaths\n",
      "dance: music, rock, traditional, majority, influence, classical, age, battle, variety, famous\n",
      "\n",
      "\n"
     ]
    },
    {
     "name": "stderr",
     "output_type": "stream",
     "text": [
      "4500it [01:26, 49.35it/s] "
     ]
    },
    {
     "name": "stdout",
     "output_type": "stream",
     "text": [
      "| epoch   3 |  4500/32580 batches | loss    1.336 \n",
      "money: them, able, battle, result, represented, perhaps, even, interest, time, idea\n",
      "lion: appeal, town, introduction, region, replaced, rest, israel, province, north, ruth\n",
      "africa: america, china, germany, europe, india, south, france, coast, asia, united\n",
      "musician: actor, writer, singer, author, actress, result, poet, nine, politician, deaths\n",
      "dance: music, rock, traditional, majority, influence, classical, age, battle, variety, famous\n",
      "\n",
      "\n"
     ]
    },
    {
     "name": "stderr",
     "output_type": "stream",
     "text": [
      "5000it [01:36, 49.17it/s]"
     ]
    },
    {
     "name": "stdout",
     "output_type": "stream",
     "text": [
      "| epoch   3 |  5000/32580 batches | loss    1.336 \n",
      "money: them, able, battle, result, represented, perhaps, even, interest, time, idea\n",
      "lion: appeal, town, introduction, region, replaced, rest, israel, province, north, ruth\n",
      "africa: america, china, germany, europe, india, south, france, coast, asia, united\n",
      "musician: actor, writer, singer, author, actress, result, poet, nine, politician, deaths\n",
      "dance: music, rock, traditional, majority, influence, classical, age, battle, variety, famous\n",
      "\n",
      "\n"
     ]
    },
    {
     "name": "stderr",
     "output_type": "stream",
     "text": [
      "5497it [01:47, 49.76it/s]"
     ]
    },
    {
     "name": "stdout",
     "output_type": "stream",
     "text": [
      "| epoch   3 |  5500/32580 batches | loss    1.334 \n",
      "money: them, able, battle, result, represented, perhaps, even, interest, time, idea\n",
      "lion: appeal, town, introduction, region, replaced, rest, israel, province, north, ruth\n",
      "africa: america, china, germany, europe, india, south, france, coast, asia, united\n",
      "musician: actor, writer, singer, author, actress, result, poet, nine, politician, deaths\n",
      "dance: music, rock, traditional, majority, influence, classical, age, battle, variety, famous\n",
      "\n",
      "\n"
     ]
    },
    {
     "name": "stderr",
     "output_type": "stream",
     "text": [
      "6000it [01:55, 49.08it/s] "
     ]
    },
    {
     "name": "stdout",
     "output_type": "stream",
     "text": [
      "| epoch   3 |  6000/32580 batches | loss    1.327 \n",
      "money: them, able, battle, result, represented, perhaps, even, interest, time, idea\n",
      "lion: appeal, town, introduction, region, replaced, rest, israel, province, north, ruth\n",
      "africa: america, china, germany, europe, india, south, france, coast, asia, united\n",
      "musician: actor, writer, singer, author, actress, result, poet, nine, politician, deaths\n",
      "dance: music, rock, traditional, majority, influence, classical, age, battle, variety, famous\n",
      "\n",
      "\n"
     ]
    },
    {
     "name": "stderr",
     "output_type": "stream",
     "text": [
      "6496it [02:05, 50.59it/s]"
     ]
    },
    {
     "name": "stdout",
     "output_type": "stream",
     "text": [
      "| epoch   3 |  6500/32580 batches | loss    1.334 \n",
      "money: them, able, battle, result, represented, perhaps, even, interest, time, idea\n",
      "lion: appeal, town, introduction, region, replaced, rest, israel, province, north, ruth\n",
      "africa: america, china, germany, europe, india, south, france, coast, asia, united\n",
      "musician: actor, writer, singer, author, actress, result, poet, nine, politician, deaths\n",
      "dance: music, rock, traditional, majority, influence, classical, age, battle, variety, famous\n",
      "\n",
      "\n"
     ]
    },
    {
     "name": "stderr",
     "output_type": "stream",
     "text": [
      "6998it [02:15, 51.13it/s]"
     ]
    },
    {
     "name": "stdout",
     "output_type": "stream",
     "text": [
      "| epoch   3 |  7000/32580 batches | loss    1.337 \n",
      "money: them, able, battle, result, represented, perhaps, even, interest, time, idea\n",
      "lion: appeal, town, introduction, region, replaced, rest, israel, province, north, alexander\n",
      "africa: america, china, germany, europe, india, south, france, coast, asia, united\n",
      "musician: actor, writer, singer, author, actress, result, poet, nine, politician, deaths\n",
      "dance: music, rock, traditional, majority, influence, classical, age, battle, variety, famous\n",
      "\n",
      "\n"
     ]
    },
    {
     "name": "stderr",
     "output_type": "stream",
     "text": [
      "7499it [02:23, 50.97it/s] "
     ]
    },
    {
     "name": "stdout",
     "output_type": "stream",
     "text": [
      "| epoch   3 |  7500/32580 batches | loss    1.333 \n",
      "money: them, able, battle, result, represented, perhaps, even, interest, time, idea\n",
      "lion: appeal, town, introduction, region, replaced, rest, israel, province, north, alexander\n",
      "africa: america, china, germany, europe, india, south, france, coast, asia, united\n",
      "musician: actor, writer, singer, author, actress, result, poet, nine, politician, deaths\n",
      "dance: music, rock, traditional, majority, influence, classical, age, battle, variety, famous\n",
      "\n",
      "\n"
     ]
    },
    {
     "name": "stderr",
     "output_type": "stream",
     "text": [
      "8001it [02:33, 34.71it/s]"
     ]
    },
    {
     "name": "stdout",
     "output_type": "stream",
     "text": [
      "| epoch   3 |  8000/32580 batches | loss    1.336 \n",
      "money: them, able, battle, result, represented, perhaps, even, interest, time, idea\n",
      "lion: appeal, town, introduction, region, replaced, rest, israel, province, north, alexander\n",
      "africa: america, china, germany, europe, india, south, france, coast, asia, united\n",
      "musician: actor, writer, singer, author, actress, result, poet, nine, politician, deaths\n",
      "dance: music, rock, traditional, majority, influence, classical, age, battle, variety, famous\n",
      "\n",
      "\n"
     ]
    },
    {
     "name": "stderr",
     "output_type": "stream",
     "text": [
      "8497it [02:43, 50.24it/s]"
     ]
    },
    {
     "name": "stdout",
     "output_type": "stream",
     "text": [
      "| epoch   3 |  8500/32580 batches | loss    1.333 \n",
      "money: them, able, battle, result, represented, perhaps, even, interest, time, idea\n",
      "lion: appeal, town, introduction, region, replaced, rest, israel, province, north, alexander\n",
      "africa: america, china, germany, europe, india, south, france, coast, asia, united\n",
      "musician: actor, writer, singer, author, actress, result, poet, nine, politician, deaths\n",
      "dance: music, rock, traditional, majority, influence, classical, age, battle, variety, famous\n",
      "\n",
      "\n"
     ]
    },
    {
     "name": "stderr",
     "output_type": "stream",
     "text": [
      "9001it [02:52, 35.94it/s] "
     ]
    },
    {
     "name": "stdout",
     "output_type": "stream",
     "text": [
      "| epoch   3 |  9000/32580 batches | loss    1.334 \n",
      "money: them, able, battle, result, represented, perhaps, time, even, interest, idea\n",
      "lion: appeal, town, introduction, region, replaced, rest, israel, province, north, alexander\n",
      "africa: america, china, germany, europe, india, south, france, coast, asia, united\n",
      "musician: actor, writer, singer, author, actress, result, poet, nine, politician, deaths\n",
      "dance: music, rock, traditional, majority, influence, classical, age, battle, variety, famous\n",
      "\n",
      "\n"
     ]
    },
    {
     "name": "stderr",
     "output_type": "stream",
     "text": [
      "9501it [03:02, 36.12it/s]"
     ]
    },
    {
     "name": "stdout",
     "output_type": "stream",
     "text": [
      "| epoch   3 |  9500/32580 batches | loss    1.336 \n",
      "money: them, able, battle, result, represented, perhaps, time, interest, even, idea\n",
      "lion: appeal, town, introduction, region, replaced, rest, israel, province, north, alexander\n",
      "africa: america, china, germany, europe, india, south, france, coast, asia, united\n",
      "musician: actor, writer, singer, author, actress, result, poet, nine, politician, deaths\n",
      "dance: music, rock, traditional, majority, influence, classical, age, battle, variety, famous\n",
      "\n",
      "\n"
     ]
    },
    {
     "name": "stderr",
     "output_type": "stream",
     "text": [
      "9965it [03:11, 50.84it/s]"
     ]
    },
    {
     "name": "stdout",
     "output_type": "stream",
     "text": [
      "| epoch   3 | 10000/32580 batches | loss    1.336 \n",
      "money: them, able, battle, result, represented, perhaps, time, even, interest, idea\n",
      "lion: appeal, town, introduction, region, replaced, rest, israel, province, north, alexander\n",
      "africa: america, china, germany, europe, india, south, france, coast, asia, united\n",
      "musician: actor, writer, singer, author, actress, result, poet, nine, politician, deaths\n",
      "dance: music, rock, traditional, majority, influence, classical, age, battle, variety, famous\n",
      "\n",
      "\n"
     ]
    },
    {
     "name": "stderr",
     "output_type": "stream",
     "text": [
      "10500it [03:20, 50.26it/s] "
     ]
    },
    {
     "name": "stdout",
     "output_type": "stream",
     "text": [
      "| epoch   3 | 10500/32580 batches | loss    1.332 \n",
      "money: them, able, battle, result, represented, perhaps, even, time, interest, idea\n",
      "lion: appeal, town, introduction, region, replaced, rest, israel, province, north, ruth\n",
      "africa: america, china, germany, europe, india, south, france, coast, asia, united\n",
      "musician: actor, writer, singer, author, actress, result, poet, nine, politician, deaths\n",
      "dance: music, rock, traditional, majority, influence, classical, age, battle, variety, famous\n",
      "\n",
      "\n"
     ]
    },
    {
     "name": "stderr",
     "output_type": "stream",
     "text": [
      "11002it [03:30, 35.18it/s]"
     ]
    },
    {
     "name": "stdout",
     "output_type": "stream",
     "text": [
      "| epoch   3 | 11000/32580 batches | loss    1.337 \n",
      "money: them, able, battle, result, represented, perhaps, even, interest, time, idea\n",
      "lion: appeal, town, introduction, region, replaced, rest, israel, province, north, ruth\n",
      "africa: america, china, germany, europe, india, south, france, coast, asia, united\n",
      "musician: actor, writer, singer, author, actress, result, poet, nine, politician, deaths\n",
      "dance: music, rock, traditional, majority, influence, classical, age, battle, variety, famous\n",
      "\n",
      "\n"
     ]
    },
    {
     "name": "stderr",
     "output_type": "stream",
     "text": [
      "11461it [03:39, 51.15it/s]"
     ]
    },
    {
     "name": "stdout",
     "output_type": "stream",
     "text": [
      "| epoch   3 | 11500/32580 batches | loss    1.336 \n",
      "money: them, able, battle, result, represented, perhaps, even, interest, time, idea\n",
      "lion: appeal, town, introduction, region, replaced, rest, israel, province, north, alexander\n",
      "africa: america, china, germany, europe, india, south, france, coast, asia, united\n",
      "musician: actor, writer, singer, author, actress, result, poet, nine, politician, deaths\n",
      "dance: music, rock, traditional, majority, influence, classical, age, battle, variety, famous\n",
      "\n",
      "\n"
     ]
    },
    {
     "name": "stderr",
     "output_type": "stream",
     "text": [
      "12001it [03:48, 36.07it/s] "
     ]
    },
    {
     "name": "stdout",
     "output_type": "stream",
     "text": [
      "| epoch   3 | 12000/32580 batches | loss    1.330 \n",
      "money: them, able, battle, result, represented, perhaps, even, time, interest, idea\n",
      "lion: appeal, town, introduction, region, replaced, rest, israel, province, north, alexander\n",
      "africa: america, china, germany, europe, india, south, france, coast, asia, united\n",
      "musician: actor, writer, singer, author, actress, result, poet, nine, politician, deaths\n",
      "dance: music, rock, traditional, majority, influence, classical, age, battle, variety, famous\n",
      "\n",
      "\n"
     ]
    },
    {
     "name": "stderr",
     "output_type": "stream",
     "text": [
      "12498it [03:58, 50.39it/s]"
     ]
    },
    {
     "name": "stdout",
     "output_type": "stream",
     "text": [
      "| epoch   3 | 12500/32580 batches | loss    1.330 \n",
      "money: them, able, battle, result, represented, perhaps, even, time, interest, idea\n",
      "lion: appeal, town, introduction, region, replaced, rest, israel, province, north, alexander\n",
      "africa: america, china, germany, europe, india, south, france, coast, asia, united\n",
      "musician: actor, writer, singer, author, actress, result, poet, nine, politician, deaths\n",
      "dance: music, rock, traditional, majority, influence, classical, age, battle, variety, famous\n",
      "\n",
      "\n"
     ]
    },
    {
     "name": "stderr",
     "output_type": "stream",
     "text": [
      "12951it [04:07, 49.95it/s]"
     ]
    },
    {
     "name": "stdout",
     "output_type": "stream",
     "text": [
      "| epoch   3 | 13000/32580 batches | loss    1.335 \n",
      "money: them, able, battle, result, represented, perhaps, time, even, interest, idea\n",
      "lion: appeal, town, introduction, region, replaced, rest, israel, province, north, ruth\n",
      "africa: america, china, germany, europe, india, south, france, coast, asia, united\n",
      "musician: actor, writer, singer, author, actress, result, poet, nine, politician, deaths\n",
      "dance: music, rock, traditional, majority, influence, classical, age, battle, variety, famous\n",
      "\n",
      "\n"
     ]
    },
    {
     "name": "stderr",
     "output_type": "stream",
     "text": [
      "13500it [04:16, 49.87it/s] "
     ]
    },
    {
     "name": "stdout",
     "output_type": "stream",
     "text": [
      "| epoch   3 | 13500/32580 batches | loss    1.331 \n",
      "money: them, able, battle, result, represented, perhaps, time, interest, even, idea\n",
      "lion: appeal, town, introduction, region, replaced, rest, israel, province, north, ruth\n",
      "africa: america, china, germany, europe, india, south, france, coast, asia, united\n",
      "musician: actor, writer, singer, author, actress, result, poet, nine, politician, deaths\n",
      "dance: music, rock, traditional, majority, influence, classical, age, battle, variety, famous\n",
      "\n",
      "\n"
     ]
    },
    {
     "name": "stderr",
     "output_type": "stream",
     "text": [
      "13998it [04:26, 50.21it/s]"
     ]
    },
    {
     "name": "stdout",
     "output_type": "stream",
     "text": [
      "| epoch   3 | 14000/32580 batches | loss    1.335 \n",
      "money: them, able, battle, result, represented, perhaps, time, interest, even, idea\n",
      "lion: appeal, town, introduction, region, replaced, rest, israel, province, north, sea\n",
      "africa: america, china, germany, europe, india, south, france, coast, asia, united\n",
      "musician: actor, writer, singer, author, actress, result, poet, nine, politician, deaths\n",
      "dance: music, rock, traditional, majority, influence, classical, age, battle, variety, famous\n",
      "\n",
      "\n"
     ]
    },
    {
     "name": "stderr",
     "output_type": "stream",
     "text": [
      "14416it [04:35, 49.36it/s]"
     ]
    },
    {
     "name": "stdout",
     "output_type": "stream",
     "text": [
      "| epoch   3 | 14500/32580 batches | loss    1.335 \n",
      "money: them, able, battle, result, represented, perhaps, time, interest, even, idea\n",
      "lion: appeal, town, introduction, region, replaced, rest, israel, province, north, sea\n",
      "africa: america, china, germany, europe, india, south, france, coast, asia, united\n",
      "musician: actor, writer, singer, author, actress, result, poet, nine, politician, deaths\n",
      "dance: music, rock, traditional, majority, influence, classical, age, battle, variety, famous\n",
      "\n",
      "\n"
     ]
    },
    {
     "name": "stderr",
     "output_type": "stream",
     "text": [
      "14999it [04:44, 49.53it/s] "
     ]
    },
    {
     "name": "stdout",
     "output_type": "stream",
     "text": [
      "| epoch   3 | 15000/32580 batches | loss    1.337 \n",
      "money: them, able, battle, result, represented, perhaps, interest, time, even, idea\n",
      "lion: appeal, town, introduction, region, replaced, rest, israel, province, north, sea\n",
      "africa: america, china, germany, europe, india, south, france, coast, asia, united\n",
      "musician: actor, writer, singer, author, actress, result, poet, nine, politician, deaths\n",
      "dance: music, rock, traditional, majority, influence, classical, age, battle, variety, famous\n",
      "\n",
      "\n"
     ]
    },
    {
     "name": "stderr",
     "output_type": "stream",
     "text": [
      "15501it [04:55, 31.79it/s]"
     ]
    },
    {
     "name": "stdout",
     "output_type": "stream",
     "text": [
      "| epoch   3 | 15500/32580 batches | loss    1.332 \n",
      "money: them, able, battle, result, represented, perhaps, time, interest, even, idea\n",
      "lion: appeal, town, introduction, region, replaced, rest, israel, province, north, sea\n",
      "africa: america, china, germany, europe, india, south, france, coast, asia, united\n",
      "musician: actor, writer, singer, author, actress, result, poet, nine, politician, deaths\n",
      "dance: music, rock, traditional, majority, influence, classical, age, battle, variety, famous\n",
      "\n",
      "\n"
     ]
    },
    {
     "name": "stderr",
     "output_type": "stream",
     "text": [
      "15990it [05:03, 339.20it/s]"
     ]
    },
    {
     "name": "stdout",
     "output_type": "stream",
     "text": [
      "| epoch   3 | 16000/32580 batches | loss    1.334 \n",
      "money: them, able, battle, result, represented, perhaps, time, interest, even, idea\n",
      "lion: appeal, town, introduction, region, replaced, rest, israel, province, north, sea\n",
      "africa: america, china, germany, europe, india, south, france, coast, asia, united\n",
      "musician: actor, writer, singer, author, actress, result, poet, nine, politician, deaths\n",
      "dance: music, rock, traditional, majority, influence, classical, age, battle, variety, famous\n",
      "\n",
      "\n"
     ]
    },
    {
     "name": "stderr",
     "output_type": "stream",
     "text": [
      "16498it [05:13, 49.38it/s] "
     ]
    },
    {
     "name": "stdout",
     "output_type": "stream",
     "text": [
      "| epoch   3 | 16500/32580 batches | loss    1.333 \n",
      "money: them, able, battle, result, represented, perhaps, interest, time, even, idea\n",
      "lion: appeal, town, introduction, region, replaced, rest, israel, province, north, sea\n",
      "africa: america, china, germany, europe, india, south, france, coast, asia, united\n",
      "musician: actor, writer, singer, author, actress, result, poet, nine, politician, deaths\n",
      "dance: music, rock, traditional, majority, influence, classical, age, battle, variety, famous\n",
      "\n",
      "\n"
     ]
    },
    {
     "name": "stderr",
     "output_type": "stream",
     "text": [
      "17000it [05:23, 49.43it/s]"
     ]
    },
    {
     "name": "stdout",
     "output_type": "stream",
     "text": [
      "| epoch   3 | 17000/32580 batches | loss    1.331 \n",
      "money: them, able, battle, result, represented, perhaps, interest, time, even, idea\n",
      "lion: appeal, town, introduction, region, replaced, rest, israel, province, north, sea\n",
      "africa: america, china, germany, europe, india, south, france, coast, asia, united\n",
      "musician: actor, writer, singer, author, actress, result, poet, nine, politician, deaths\n",
      "dance: music, rock, traditional, majority, influence, classical, age, battle, variety, famous\n",
      "\n",
      "\n"
     ]
    },
    {
     "name": "stderr",
     "output_type": "stream",
     "text": [
      "17491it [05:31, 131.45it/s]"
     ]
    },
    {
     "name": "stdout",
     "output_type": "stream",
     "text": [
      "| epoch   3 | 17500/32580 batches | loss    1.333 \n",
      "money: them, able, battle, result, represented, perhaps, time, interest, even, idea\n",
      "lion: appeal, town, introduction, region, replaced, rest, israel, province, north, sea\n",
      "africa: america, china, germany, europe, india, south, france, coast, asia, united\n",
      "musician: actor, writer, singer, author, actress, result, poet, nine, politician, deaths\n",
      "dance: music, rock, traditional, majority, influence, classical, age, battle, variety, famous\n",
      "\n",
      "\n"
     ]
    },
    {
     "name": "stderr",
     "output_type": "stream",
     "text": [
      "17998it [05:42, 49.64it/s] "
     ]
    },
    {
     "name": "stdout",
     "output_type": "stream",
     "text": [
      "| epoch   3 | 18000/32580 batches | loss    1.334 \n",
      "money: them, able, battle, result, represented, perhaps, time, interest, even, idea\n",
      "lion: appeal, town, introduction, region, replaced, rest, israel, province, north, sea\n",
      "africa: america, china, germany, europe, india, south, france, coast, asia, united\n",
      "musician: actor, writer, singer, author, actress, result, poet, nine, politician, deaths\n",
      "dance: music, rock, traditional, majority, influence, classical, age, battle, variety, famous\n",
      "\n",
      "\n"
     ]
    },
    {
     "name": "stderr",
     "output_type": "stream",
     "text": [
      "18502it [05:52, 34.53it/s]"
     ]
    },
    {
     "name": "stdout",
     "output_type": "stream",
     "text": [
      "| epoch   3 | 18500/32580 batches | loss    1.334 \n",
      "money: them, able, battle, result, represented, perhaps, time, interest, even, idea\n",
      "lion: appeal, town, introduction, region, replaced, rest, israel, province, north, sea\n",
      "africa: america, china, germany, europe, india, south, france, coast, asia, united\n",
      "musician: actor, writer, singer, author, actress, result, poet, nine, politician, deaths\n",
      "dance: music, rock, traditional, majority, influence, classical, age, battle, variety, famous\n",
      "\n",
      "\n"
     ]
    },
    {
     "name": "stderr",
     "output_type": "stream",
     "text": [
      "19001it [06:00, 72.24it/s] "
     ]
    },
    {
     "name": "stdout",
     "output_type": "stream",
     "text": [
      "| epoch   3 | 19000/32580 batches | loss    1.332 \n",
      "money: them, able, battle, result, represented, perhaps, time, interest, even, idea\n",
      "lion: appeal, town, introduction, region, replaced, rest, israel, province, north, sea\n",
      "africa: america, china, germany, europe, india, south, france, coast, asia, united\n",
      "musician: actor, writer, singer, author, actress, result, poet, nine, politician, deaths\n",
      "dance: music, rock, traditional, majority, influence, classical, age, battle, variety, famous\n",
      "\n",
      "\n"
     ]
    },
    {
     "name": "stderr",
     "output_type": "stream",
     "text": [
      "19498it [06:10, 48.18it/s]"
     ]
    },
    {
     "name": "stdout",
     "output_type": "stream",
     "text": [
      "| epoch   3 | 19500/32580 batches | loss    1.333 \n",
      "money: them, able, battle, result, represented, perhaps, time, interest, even, idea\n",
      "lion: appeal, town, introduction, region, replaced, rest, israel, province, north, sea\n",
      "africa: america, china, germany, europe, india, south, france, coast, asia, united\n",
      "musician: actor, writer, singer, author, actress, result, poet, nine, politician, deaths\n",
      "dance: music, rock, traditional, majority, influence, classical, age, battle, variety, famous\n",
      "\n",
      "\n"
     ]
    },
    {
     "name": "stderr",
     "output_type": "stream",
     "text": [
      "20000it [06:20, 51.76it/s]"
     ]
    },
    {
     "name": "stdout",
     "output_type": "stream",
     "text": [
      "| epoch   3 | 20000/32580 batches | loss    1.336 \n",
      "money: them, able, battle, result, represented, perhaps, time, interest, even, idea\n",
      "lion: appeal, town, introduction, region, replaced, rest, israel, province, north, sea\n",
      "africa: america, china, germany, europe, india, south, france, coast, asia, united\n",
      "musician: actor, writer, singer, author, actress, result, poet, politician, nine, deaths\n",
      "dance: music, rock, traditional, majority, influence, classical, age, battle, variety, famous\n",
      "\n",
      "\n"
     ]
    },
    {
     "name": "stderr",
     "output_type": "stream",
     "text": [
      "20501it [06:30, 36.80it/s] "
     ]
    },
    {
     "name": "stdout",
     "output_type": "stream",
     "text": [
      "| epoch   3 | 20500/32580 batches | loss    1.335 \n",
      "money: them, able, battle, result, represented, perhaps, time, interest, even, idea\n",
      "lion: appeal, town, introduction, region, replaced, rest, israel, province, north, sea\n",
      "africa: america, china, germany, europe, india, south, france, coast, asia, united\n",
      "musician: actor, writer, singer, author, actress, result, poet, politician, nine, deaths\n",
      "dance: music, rock, traditional, majority, influence, classical, age, battle, variety, famous\n",
      "\n",
      "\n"
     ]
    },
    {
     "name": "stderr",
     "output_type": "stream",
     "text": [
      "21000it [06:40, 49.82it/s]"
     ]
    },
    {
     "name": "stdout",
     "output_type": "stream",
     "text": [
      "| epoch   3 | 21000/32580 batches | loss    1.336 \n",
      "money: them, able, battle, result, represented, perhaps, time, interest, even, idea\n",
      "lion: appeal, town, introduction, region, replaced, rest, israel, province, north, sea\n",
      "africa: america, china, germany, europe, india, south, france, coast, asia, united\n",
      "musician: actor, writer, singer, author, actress, result, poet, politician, nine, deaths\n",
      "dance: music, rock, traditional, majority, influence, classical, age, battle, variety, famous\n",
      "\n",
      "\n"
     ]
    },
    {
     "name": "stderr",
     "output_type": "stream",
     "text": [
      "21497it [06:50, 50.56it/s]"
     ]
    },
    {
     "name": "stdout",
     "output_type": "stream",
     "text": [
      "| epoch   3 | 21500/32580 batches | loss    1.331 \n",
      "money: them, able, battle, result, represented, perhaps, time, even, interest, idea\n",
      "lion: appeal, town, introduction, region, replaced, rest, israel, province, north, sea\n",
      "africa: america, china, germany, europe, india, south, france, coast, asia, united\n",
      "musician: actor, writer, singer, author, actress, result, poet, politician, nine, deaths\n",
      "dance: music, rock, traditional, majority, influence, classical, age, battle, variety, famous\n",
      "\n",
      "\n"
     ]
    },
    {
     "name": "stderr",
     "output_type": "stream",
     "text": [
      "21996it [06:58, 53.98it/s] "
     ]
    },
    {
     "name": "stdout",
     "output_type": "stream",
     "text": [
      "| epoch   3 | 22000/32580 batches | loss    1.332 \n",
      "money: them, able, battle, result, represented, perhaps, time, even, interest, idea\n",
      "lion: appeal, town, introduction, region, replaced, rest, israel, province, north, sea\n",
      "africa: america, china, germany, europe, india, south, france, coast, asia, united\n",
      "musician: actor, writer, singer, author, actress, result, poet, politician, nine, deaths\n",
      "dance: music, rock, traditional, majority, influence, classical, age, battle, variety, famous\n",
      "\n",
      "\n"
     ]
    },
    {
     "name": "stderr",
     "output_type": "stream",
     "text": [
      "22501it [07:08, 34.03it/s]"
     ]
    },
    {
     "name": "stdout",
     "output_type": "stream",
     "text": [
      "| epoch   3 | 22500/32580 batches | loss    1.334 \n",
      "money: them, able, battle, result, represented, perhaps, time, even, interest, idea\n",
      "lion: appeal, town, introduction, region, replaced, rest, province, israel, north, sea\n",
      "africa: america, china, germany, europe, india, south, france, coast, asia, united\n",
      "musician: actor, writer, singer, author, actress, result, poet, politician, nine, deaths\n",
      "dance: music, rock, traditional, majority, influence, classical, age, battle, variety, famous\n",
      "\n",
      "\n"
     ]
    },
    {
     "name": "stderr",
     "output_type": "stream",
     "text": [
      "23000it [07:18, 50.99it/s]"
     ]
    },
    {
     "name": "stdout",
     "output_type": "stream",
     "text": [
      "| epoch   3 | 23000/32580 batches | loss    1.333 \n",
      "money: them, able, battle, result, represented, perhaps, time, interest, even, idea\n",
      "lion: appeal, town, introduction, region, replaced, rest, israel, province, north, sea\n",
      "africa: america, china, germany, europe, india, south, france, coast, asia, united\n",
      "musician: actor, writer, singer, author, actress, result, poet, politician, nine, deaths\n",
      "dance: music, rock, traditional, majority, influence, classical, age, battle, variety, famous\n",
      "\n",
      "\n"
     ]
    },
    {
     "name": "stderr",
     "output_type": "stream",
     "text": [
      "23497it [07:26, 51.52it/s] "
     ]
    },
    {
     "name": "stdout",
     "output_type": "stream",
     "text": [
      "| epoch   3 | 23500/32580 batches | loss    1.330 \n",
      "money: them, able, battle, result, represented, perhaps, time, interest, even, idea\n",
      "lion: appeal, town, introduction, region, replaced, rest, province, israel, north, sea\n",
      "africa: america, china, germany, europe, india, south, france, coast, asia, united\n",
      "musician: actor, writer, singer, author, actress, result, poet, politician, nine, deaths\n",
      "dance: music, rock, traditional, majority, influence, classical, age, battle, variety, famous\n",
      "\n",
      "\n"
     ]
    },
    {
     "name": "stderr",
     "output_type": "stream",
     "text": [
      "23998it [07:36, 51.02it/s]"
     ]
    },
    {
     "name": "stdout",
     "output_type": "stream",
     "text": [
      "| epoch   3 | 24000/32580 batches | loss    1.332 \n",
      "money: them, able, battle, result, represented, perhaps, time, interest, even, idea\n",
      "lion: appeal, town, introduction, region, replaced, rest, province, israel, north, sea\n",
      "africa: america, china, germany, europe, india, south, france, coast, asia, united\n",
      "musician: actor, writer, singer, author, actress, result, poet, politician, nine, deaths\n",
      "dance: music, rock, traditional, majority, influence, classical, age, battle, variety, famous\n",
      "\n",
      "\n"
     ]
    },
    {
     "name": "stderr",
     "output_type": "stream",
     "text": [
      "24502it [07:46, 35.41it/s]"
     ]
    },
    {
     "name": "stdout",
     "output_type": "stream",
     "text": [
      "| epoch   3 | 24500/32580 batches | loss    1.337 \n",
      "money: them, able, battle, result, represented, perhaps, time, even, interest, idea\n",
      "lion: appeal, town, introduction, region, replaced, rest, province, israel, north, sea\n",
      "africa: america, china, germany, europe, india, south, france, coast, asia, united\n",
      "musician: actor, writer, singer, author, actress, result, poet, politician, nine, deaths\n",
      "dance: music, rock, traditional, majority, influence, classical, age, battle, variety, famous\n",
      "\n",
      "\n"
     ]
    },
    {
     "name": "stderr",
     "output_type": "stream",
     "text": [
      "24998it [07:54, 48.99it/s] "
     ]
    },
    {
     "name": "stdout",
     "output_type": "stream",
     "text": [
      "| epoch   3 | 25000/32580 batches | loss    1.337 \n",
      "money: them, able, battle, result, represented, perhaps, time, even, interest, idea\n",
      "lion: appeal, town, introduction, region, replaced, rest, province, israel, north, sea\n",
      "africa: america, china, germany, europe, india, south, france, coast, asia, united\n",
      "musician: actor, writer, singer, author, actress, result, poet, politician, nine, deaths\n",
      "dance: music, rock, traditional, majority, classical, influence, age, battle, variety, famous\n",
      "\n",
      "\n"
     ]
    },
    {
     "name": "stderr",
     "output_type": "stream",
     "text": [
      "25499it [08:04, 50.90it/s]"
     ]
    },
    {
     "name": "stdout",
     "output_type": "stream",
     "text": [
      "| epoch   3 | 25500/32580 batches | loss    1.329 \n",
      "money: them, able, battle, result, represented, perhaps, time, even, interest, idea\n",
      "lion: appeal, town, introduction, region, replaced, rest, province, israel, north, sea\n",
      "africa: america, china, germany, europe, india, south, france, coast, asia, united\n",
      "musician: actor, writer, singer, author, actress, result, poet, politician, nine, deaths\n",
      "dance: music, rock, traditional, majority, classical, influence, age, battle, variety, famous\n",
      "\n",
      "\n"
     ]
    },
    {
     "name": "stderr",
     "output_type": "stream",
     "text": [
      "26000it [08:14, 51.26it/s]"
     ]
    },
    {
     "name": "stdout",
     "output_type": "stream",
     "text": [
      "| epoch   3 | 26000/32580 batches | loss    1.331 \n",
      "money: them, able, battle, result, represented, perhaps, time, even, interest, idea\n",
      "lion: appeal, town, introduction, region, replaced, rest, province, israel, north, sea\n",
      "africa: america, china, germany, europe, india, south, france, coast, asia, united\n",
      "musician: actor, writer, singer, author, actress, result, poet, politician, nine, deaths\n",
      "dance: music, rock, traditional, majority, classical, influence, age, battle, variety, famous\n",
      "\n",
      "\n"
     ]
    },
    {
     "name": "stderr",
     "output_type": "stream",
     "text": [
      "26502it [08:23, 35.13it/s] "
     ]
    },
    {
     "name": "stdout",
     "output_type": "stream",
     "text": [
      "| epoch   3 | 26500/32580 batches | loss    1.326 \n",
      "money: them, able, battle, result, represented, perhaps, time, even, interest, idea\n",
      "lion: appeal, town, introduction, region, replaced, rest, province, israel, north, sea\n",
      "africa: america, china, germany, europe, india, south, france, coast, asia, united\n",
      "musician: actor, writer, singer, author, actress, result, poet, politician, nine, deaths\n",
      "dance: music, rock, traditional, majority, classical, influence, age, battle, variety, famous\n",
      "\n",
      "\n"
     ]
    },
    {
     "name": "stderr",
     "output_type": "stream",
     "text": [
      "26997it [08:32, 50.72it/s]"
     ]
    },
    {
     "name": "stdout",
     "output_type": "stream",
     "text": [
      "| epoch   3 | 27000/32580 batches | loss    1.333 \n",
      "money: them, able, battle, result, represented, perhaps, time, even, interest, idea\n",
      "lion: appeal, town, introduction, region, replaced, rest, province, israel, north, sea\n",
      "africa: america, china, germany, europe, india, south, france, coast, asia, united\n",
      "musician: actor, writer, singer, author, actress, result, poet, politician, nine, deaths\n",
      "dance: music, rock, traditional, majority, classical, influence, age, battle, variety, famous\n",
      "\n",
      "\n"
     ]
    },
    {
     "name": "stderr",
     "output_type": "stream",
     "text": [
      "27499it [08:42, 49.01it/s]"
     ]
    },
    {
     "name": "stdout",
     "output_type": "stream",
     "text": [
      "| epoch   3 | 27500/32580 batches | loss    1.331 \n",
      "money: them, able, battle, result, represented, perhaps, time, even, interest, idea\n",
      "lion: appeal, town, introduction, region, replaced, rest, province, israel, north, sea\n",
      "africa: america, china, germany, europe, india, south, france, coast, asia, united\n",
      "musician: actor, writer, singer, author, actress, result, poet, politician, nine, deaths\n",
      "dance: music, rock, traditional, majority, classical, influence, age, battle, variety, famous\n",
      "\n",
      "\n"
     ]
    },
    {
     "name": "stderr",
     "output_type": "stream",
     "text": [
      "27999it [08:50, 51.12it/s] "
     ]
    },
    {
     "name": "stdout",
     "output_type": "stream",
     "text": [
      "| epoch   3 | 28000/32580 batches | loss    1.329 \n",
      "money: them, able, battle, result, represented, perhaps, time, even, interest, idea\n",
      "lion: appeal, town, introduction, region, replaced, rest, province, israel, north, sea\n",
      "africa: america, china, germany, europe, india, south, france, coast, asia, united\n",
      "musician: actor, writer, singer, author, actress, result, poet, politician, nine, deaths\n",
      "dance: music, rock, traditional, majority, classical, influence, age, battle, variety, famous\n",
      "\n",
      "\n"
     ]
    },
    {
     "name": "stderr",
     "output_type": "stream",
     "text": [
      "28499it [09:00, 48.53it/s]"
     ]
    },
    {
     "name": "stdout",
     "output_type": "stream",
     "text": [
      "| epoch   3 | 28500/32580 batches | loss    1.333 \n",
      "money: them, able, battle, result, represented, perhaps, time, even, interest, idea\n",
      "lion: appeal, town, introduction, region, replaced, rest, province, israel, north, sea\n",
      "africa: america, china, germany, europe, india, south, france, coast, asia, united\n",
      "musician: actor, writer, singer, author, actress, result, poet, politician, nine, deaths\n",
      "dance: music, rock, traditional, majority, classical, influence, age, battle, variety, famous\n",
      "\n",
      "\n"
     ]
    },
    {
     "name": "stderr",
     "output_type": "stream",
     "text": [
      "28997it [09:11, 44.11it/s]"
     ]
    },
    {
     "name": "stdout",
     "output_type": "stream",
     "text": [
      "| epoch   3 | 29000/32580 batches | loss    1.335 \n",
      "money: them, able, battle, result, represented, perhaps, time, even, interest, idea\n",
      "lion: appeal, town, introduction, region, replaced, rest, province, israel, north, sea\n",
      "africa: america, china, germany, europe, india, south, france, coast, asia, united\n",
      "musician: actor, writer, singer, author, actress, result, poet, politician, nine, deaths\n",
      "dance: music, rock, traditional, majority, classical, influence, age, battle, variety, famous\n",
      "\n",
      "\n"
     ]
    },
    {
     "name": "stderr",
     "output_type": "stream",
     "text": [
      "29500it [09:20, 51.57it/s] "
     ]
    },
    {
     "name": "stdout",
     "output_type": "stream",
     "text": [
      "| epoch   3 | 29500/32580 batches | loss    1.330 \n",
      "money: them, able, battle, result, represented, perhaps, time, even, interest, idea\n",
      "lion: appeal, town, introduction, region, replaced, rest, province, israel, north, sea\n",
      "africa: america, china, germany, europe, india, south, france, coast, asia, united\n",
      "musician: actor, writer, singer, author, actress, result, poet, politician, nine, deaths\n",
      "dance: music, rock, traditional, majority, classical, influence, age, battle, variety, famous\n",
      "\n",
      "\n"
     ]
    },
    {
     "name": "stderr",
     "output_type": "stream",
     "text": [
      "30001it [09:30, 34.46it/s]"
     ]
    },
    {
     "name": "stdout",
     "output_type": "stream",
     "text": [
      "| epoch   3 | 30000/32580 batches | loss    1.331 \n",
      "money: them, able, battle, result, represented, perhaps, time, even, interest, idea\n",
      "lion: appeal, town, introduction, region, replaced, rest, province, israel, north, sea\n",
      "africa: america, china, germany, europe, india, south, france, coast, asia, united\n",
      "musician: actor, writer, singer, author, actress, result, poet, politician, nine, deaths\n",
      "dance: music, rock, traditional, majority, classical, influence, age, battle, variety, famous\n",
      "\n",
      "\n"
     ]
    },
    {
     "name": "stderr",
     "output_type": "stream",
     "text": [
      "30500it [09:41, 51.07it/s]"
     ]
    },
    {
     "name": "stdout",
     "output_type": "stream",
     "text": [
      "| epoch   3 | 30500/32580 batches | loss    1.331 \n",
      "money: them, able, battle, result, represented, perhaps, time, even, interest, idea\n",
      "lion: appeal, town, introduction, region, replaced, rest, province, israel, north, sea\n",
      "africa: america, china, germany, europe, india, south, france, coast, asia, united\n",
      "musician: actor, writer, singer, author, actress, result, poet, politician, nine, deaths\n",
      "dance: music, rock, traditional, majority, classical, influence, age, battle, variety, famous\n",
      "\n",
      "\n"
     ]
    },
    {
     "name": "stderr",
     "output_type": "stream",
     "text": [
      "31001it [09:49, 34.58it/s] "
     ]
    },
    {
     "name": "stdout",
     "output_type": "stream",
     "text": [
      "| epoch   3 | 31000/32580 batches | loss    1.336 \n",
      "money: them, able, battle, result, represented, perhaps, even, time, interest, idea\n",
      "lion: appeal, town, introduction, region, replaced, rest, province, israel, north, sea\n",
      "africa: america, china, germany, europe, india, south, france, coast, asia, united\n",
      "musician: actor, writer, singer, author, actress, result, poet, politician, nine, deaths\n",
      "dance: music, rock, traditional, majority, classical, influence, age, battle, variety, famous\n",
      "\n",
      "\n"
     ]
    },
    {
     "name": "stderr",
     "output_type": "stream",
     "text": [
      "31501it [09:59, 35.19it/s]"
     ]
    },
    {
     "name": "stdout",
     "output_type": "stream",
     "text": [
      "| epoch   3 | 31500/32580 batches | loss    1.333 \n",
      "money: them, able, battle, result, represented, perhaps, time, even, interest, idea\n",
      "lion: appeal, town, introduction, region, replaced, rest, province, israel, north, sea\n",
      "africa: america, china, germany, europe, india, south, france, coast, asia, united\n",
      "musician: actor, writer, singer, author, actress, result, poet, politician, nine, deaths\n",
      "dance: music, rock, traditional, majority, classical, influence, age, battle, variety, famous\n",
      "\n",
      "\n"
     ]
    },
    {
     "name": "stderr",
     "output_type": "stream",
     "text": [
      "31973it [10:09, 49.63it/s]"
     ]
    },
    {
     "name": "stdout",
     "output_type": "stream",
     "text": [
      "| epoch   3 | 32000/32580 batches | loss    1.329 \n",
      "money: them, able, battle, result, represented, perhaps, time, even, interest, idea\n",
      "lion: appeal, town, introduction, region, replaced, rest, province, israel, north, sea\n",
      "africa: america, china, germany, europe, india, south, france, coast, asia, united\n",
      "musician: actor, writer, singer, author, actress, result, poet, politician, nine, deaths\n",
      "dance: music, rock, traditional, majority, classical, influence, age, battle, variety, famous\n",
      "\n",
      "\n"
     ]
    },
    {
     "name": "stderr",
     "output_type": "stream",
     "text": [
      "32497it [10:19, 52.81it/s] "
     ]
    },
    {
     "name": "stdout",
     "output_type": "stream",
     "text": [
      "| epoch   3 | 32500/32580 batches | loss    1.330 \n",
      "money: them, able, battle, result, represented, perhaps, time, even, interest, idea\n",
      "lion: appeal, town, introduction, region, replaced, rest, province, israel, north, sea\n",
      "africa: america, china, germany, europe, india, south, france, coast, asia, united\n",
      "musician: actor, writer, singer, author, actress, result, poet, politician, nine, deaths\n",
      "dance: music, rock, traditional, majority, classical, influence, age, battle, variety, famous\n",
      "\n",
      "\n"
     ]
    },
    {
     "name": "stderr",
     "output_type": "stream",
     "text": [
      "32580it [10:22, 52.34it/s]\n",
      "1it [00:00,  1.16it/s]"
     ]
    },
    {
     "name": "stdout",
     "output_type": "stream",
     "text": [
      "| epoch   4 |     0/32580 batches | loss    1.404 \n",
      "money: them, able, battle, result, represented, perhaps, time, even, interest, idea\n",
      "lion: appeal, town, introduction, region, replaced, rest, province, israel, north, sea\n",
      "africa: america, china, germany, europe, india, south, france, coast, asia, united\n",
      "musician: actor, writer, singer, author, actress, result, poet, politician, nine, deaths\n",
      "dance: music, rock, traditional, majority, classical, influence, age, battle, variety, famous\n",
      "\n",
      "\n"
     ]
    },
    {
     "name": "stderr",
     "output_type": "stream",
     "text": [
      "496it [00:10, 52.70it/s]"
     ]
    },
    {
     "name": "stdout",
     "output_type": "stream",
     "text": [
      "| epoch   4 |   500/32580 batches | loss    1.332 \n",
      "money: them, able, battle, result, represented, perhaps, time, even, interest, idea\n",
      "lion: appeal, town, introduction, region, replaced, rest, province, israel, north, sea\n",
      "africa: america, china, germany, europe, india, south, france, coast, asia, united\n",
      "musician: actor, writer, singer, author, actress, result, poet, politician, nine, deaths\n",
      "dance: music, rock, traditional, majority, classical, influence, age, battle, variety, famous\n",
      "\n",
      "\n"
     ]
    },
    {
     "name": "stderr",
     "output_type": "stream",
     "text": [
      "999it [00:18, 52.86it/s] "
     ]
    },
    {
     "name": "stdout",
     "output_type": "stream",
     "text": [
      "| epoch   4 |  1000/32580 batches | loss    1.330 \n",
      "money: them, able, battle, result, represented, perhaps, time, even, interest, idea\n",
      "lion: appeal, town, introduction, region, replaced, rest, province, israel, north, sea\n",
      "africa: america, china, germany, europe, india, south, france, coast, asia, united\n",
      "musician: actor, writer, singer, author, actress, result, poet, politician, nine, deaths\n",
      "dance: music, rock, traditional, majority, classical, influence, age, battle, variety, famous\n",
      "\n",
      "\n"
     ]
    },
    {
     "name": "stderr",
     "output_type": "stream",
     "text": [
      "1498it [00:28, 48.92it/s]"
     ]
    },
    {
     "name": "stdout",
     "output_type": "stream",
     "text": [
      "| epoch   4 |  1500/32580 batches | loss    1.329 \n",
      "money: them, able, battle, result, represented, perhaps, time, even, interest, idea\n",
      "lion: appeal, town, introduction, region, replaced, rest, province, israel, north, sea\n",
      "africa: america, china, germany, europe, india, south, france, coast, asia, united\n",
      "musician: actor, writer, singer, author, actress, result, poet, politician, nine, deaths\n",
      "dance: music, rock, traditional, majority, classical, influence, age, battle, variety, famous\n",
      "\n",
      "\n"
     ]
    },
    {
     "name": "stderr",
     "output_type": "stream",
     "text": [
      "2001it [00:39, 33.61it/s]"
     ]
    },
    {
     "name": "stdout",
     "output_type": "stream",
     "text": [
      "| epoch   4 |  2000/32580 batches | loss    1.328 \n",
      "money: them, able, battle, result, represented, perhaps, time, even, interest, idea\n",
      "lion: appeal, town, introduction, region, replaced, rest, province, israel, north, sea\n",
      "africa: america, china, germany, europe, india, south, france, coast, asia, united\n",
      "musician: actor, writer, singer, author, actress, result, poet, politician, nine, deaths\n",
      "dance: music, rock, traditional, majority, classical, influence, age, battle, variety, famous\n",
      "\n",
      "\n"
     ]
    },
    {
     "name": "stderr",
     "output_type": "stream",
     "text": [
      "2501it [00:47, 32.19it/s] "
     ]
    },
    {
     "name": "stdout",
     "output_type": "stream",
     "text": [
      "| epoch   4 |  2500/32580 batches | loss    1.331 \n",
      "money: them, able, battle, result, represented, perhaps, time, even, interest, idea\n",
      "lion: appeal, town, introduction, region, replaced, rest, province, israel, north, sea\n",
      "africa: america, china, germany, europe, india, south, france, coast, asia, united\n",
      "musician: actor, writer, singer, author, actress, result, poet, politician, nine, deaths\n",
      "dance: music, rock, traditional, majority, classical, influence, age, battle, variety, famous\n",
      "\n",
      "\n"
     ]
    },
    {
     "name": "stderr",
     "output_type": "stream",
     "text": [
      "2998it [00:57, 48.87it/s]"
     ]
    },
    {
     "name": "stdout",
     "output_type": "stream",
     "text": [
      "| epoch   4 |  3000/32580 batches | loss    1.332 \n",
      "money: them, able, battle, result, represented, perhaps, time, even, interest, idea\n",
      "lion: appeal, town, introduction, region, replaced, rest, province, israel, north, sea\n",
      "africa: america, china, germany, europe, india, south, france, coast, asia, united\n",
      "musician: actor, writer, singer, author, actress, result, poet, politician, nine, deaths\n",
      "dance: music, rock, traditional, majority, classical, influence, age, battle, variety, famous\n",
      "\n",
      "\n"
     ]
    },
    {
     "name": "stderr",
     "output_type": "stream",
     "text": [
      "3501it [01:08, 33.17it/s]"
     ]
    },
    {
     "name": "stdout",
     "output_type": "stream",
     "text": [
      "| epoch   4 |  3500/32580 batches | loss    1.334 \n",
      "money: them, able, battle, result, represented, perhaps, time, even, interest, idea\n",
      "lion: appeal, town, introduction, region, replaced, rest, province, israel, north, sea\n",
      "africa: america, china, germany, europe, india, south, france, coast, asia, united\n",
      "musician: actor, writer, singer, author, actress, result, poet, politician, nine, deaths\n",
      "dance: music, rock, traditional, majority, classical, influence, age, battle, variety, famous\n",
      "\n",
      "\n"
     ]
    },
    {
     "name": "stderr",
     "output_type": "stream",
     "text": [
      "4000it [01:15, 49.68it/s] "
     ]
    },
    {
     "name": "stdout",
     "output_type": "stream",
     "text": [
      "| epoch   4 |  4000/32580 batches | loss    1.335 \n",
      "money: them, able, battle, result, represented, perhaps, time, even, interest, idea\n",
      "lion: appeal, town, introduction, region, replaced, rest, province, israel, north, sea\n",
      "africa: america, china, germany, europe, india, south, france, coast, asia, united\n",
      "musician: actor, writer, singer, author, actress, result, poet, politician, nine, deaths\n",
      "dance: music, rock, traditional, majority, classical, influence, age, battle, variety, famous\n",
      "\n",
      "\n"
     ]
    },
    {
     "name": "stderr",
     "output_type": "stream",
     "text": [
      "4500it [01:26, 48.83it/s]"
     ]
    },
    {
     "name": "stdout",
     "output_type": "stream",
     "text": [
      "| epoch   4 |  4500/32580 batches | loss    1.327 \n",
      "money: them, able, battle, result, represented, perhaps, time, even, interest, idea\n",
      "lion: appeal, town, introduction, region, replaced, rest, province, israel, north, sea\n",
      "africa: america, china, germany, europe, india, south, france, coast, asia, united\n",
      "musician: actor, writer, singer, author, actress, result, poet, politician, nine, deaths\n",
      "dance: music, rock, traditional, majority, classical, influence, age, battle, variety, famous\n",
      "\n",
      "\n"
     ]
    },
    {
     "name": "stderr",
     "output_type": "stream",
     "text": [
      "4999it [01:36, 50.68it/s]"
     ]
    },
    {
     "name": "stdout",
     "output_type": "stream",
     "text": [
      "| epoch   4 |  5000/32580 batches | loss    1.330 \n",
      "money: them, able, battle, result, represented, perhaps, time, even, interest, idea\n",
      "lion: appeal, town, introduction, region, replaced, rest, province, israel, north, sea\n",
      "africa: america, china, germany, europe, india, south, france, coast, asia, united\n",
      "musician: actor, writer, singer, author, actress, result, poet, politician, nine, deaths\n",
      "dance: music, rock, traditional, majority, classical, influence, age, battle, variety, famous\n",
      "\n",
      "\n"
     ]
    },
    {
     "name": "stderr",
     "output_type": "stream",
     "text": [
      "5501it [01:44, 32.76it/s] "
     ]
    },
    {
     "name": "stdout",
     "output_type": "stream",
     "text": [
      "| epoch   4 |  5500/32580 batches | loss    1.331 \n",
      "money: them, able, battle, result, represented, perhaps, time, even, interest, idea\n",
      "lion: appeal, town, introduction, region, replaced, rest, province, israel, north, sea\n",
      "africa: america, china, germany, europe, india, south, france, coast, asia, united\n",
      "musician: actor, writer, singer, author, actress, result, poet, politician, nine, deaths\n",
      "dance: music, rock, traditional, majority, classical, influence, age, battle, variety, famous\n",
      "\n",
      "\n"
     ]
    },
    {
     "name": "stderr",
     "output_type": "stream",
     "text": [
      "5998it [01:55, 48.04it/s]"
     ]
    },
    {
     "name": "stdout",
     "output_type": "stream",
     "text": [
      "| epoch   4 |  6000/32580 batches | loss    1.333 \n",
      "money: them, able, battle, result, represented, perhaps, time, even, interest, idea\n",
      "lion: appeal, town, introduction, region, replaced, rest, province, israel, north, sea\n",
      "africa: america, china, germany, europe, india, south, france, coast, asia, united\n",
      "musician: actor, writer, singer, author, actress, result, poet, politician, nine, deaths\n",
      "dance: music, rock, traditional, majority, classical, influence, age, battle, variety, famous\n",
      "\n",
      "\n"
     ]
    },
    {
     "name": "stderr",
     "output_type": "stream",
     "text": [
      "6498it [02:05, 49.83it/s]"
     ]
    },
    {
     "name": "stdout",
     "output_type": "stream",
     "text": [
      "| epoch   4 |  6500/32580 batches | loss    1.331 \n",
      "money: them, able, battle, result, represented, perhaps, time, even, interest, idea\n",
      "lion: appeal, town, introduction, region, replaced, rest, province, israel, north, sea\n",
      "africa: america, china, germany, europe, india, south, france, coast, asia, united\n",
      "musician: actor, writer, singer, author, actress, result, poet, politician, nine, deaths\n",
      "dance: music, rock, traditional, majority, classical, influence, age, battle, variety, famous\n",
      "\n",
      "\n"
     ]
    },
    {
     "name": "stderr",
     "output_type": "stream",
     "text": [
      "7000it [02:13, 49.78it/s] "
     ]
    },
    {
     "name": "stdout",
     "output_type": "stream",
     "text": [
      "| epoch   4 |  7000/32580 batches | loss    1.329 \n",
      "money: them, able, battle, result, represented, perhaps, time, even, interest, idea\n",
      "lion: appeal, town, introduction, region, replaced, rest, province, israel, north, sea\n",
      "africa: america, china, germany, europe, india, south, france, coast, asia, united\n",
      "musician: actor, writer, singer, author, actress, result, poet, politician, nine, deaths\n",
      "dance: music, rock, traditional, majority, classical, influence, age, battle, variety, famous\n",
      "\n",
      "\n"
     ]
    },
    {
     "name": "stderr",
     "output_type": "stream",
     "text": [
      "7500it [02:24, 48.09it/s]"
     ]
    },
    {
     "name": "stdout",
     "output_type": "stream",
     "text": [
      "| epoch   4 |  7500/32580 batches | loss    1.331 \n",
      "money: them, able, battle, result, represented, perhaps, time, even, interest, idea\n",
      "lion: appeal, town, introduction, region, replaced, rest, province, israel, north, sea\n",
      "africa: america, china, germany, europe, india, south, france, coast, asia, united\n",
      "musician: actor, writer, singer, author, actress, result, poet, politician, nine, deaths\n",
      "dance: music, rock, traditional, majority, classical, influence, age, battle, variety, famous\n",
      "\n",
      "\n"
     ]
    },
    {
     "name": "stderr",
     "output_type": "stream",
     "text": [
      "7984it [02:34, 49.46it/s]"
     ]
    },
    {
     "name": "stdout",
     "output_type": "stream",
     "text": [
      "| epoch   4 |  8000/32580 batches | loss    1.329 \n",
      "money: them, able, battle, result, represented, perhaps, time, even, interest, idea\n",
      "lion: appeal, town, introduction, region, replaced, rest, province, israel, north, sea\n",
      "africa: america, china, germany, europe, india, south, france, coast, asia, united\n",
      "musician: actor, writer, singer, author, actress, result, poet, politician, nine, deaths\n",
      "dance: music, rock, traditional, majority, classical, influence, age, battle, variety, famous\n",
      "\n",
      "\n"
     ]
    },
    {
     "name": "stderr",
     "output_type": "stream",
     "text": [
      "8497it [02:42, 49.80it/s] "
     ]
    },
    {
     "name": "stdout",
     "output_type": "stream",
     "text": [
      "| epoch   4 |  8500/32580 batches | loss    1.328 \n",
      "money: them, able, battle, result, represented, perhaps, time, even, interest, idea\n",
      "lion: appeal, town, introduction, region, replaced, rest, province, israel, north, sea\n",
      "africa: america, china, germany, europe, india, south, france, coast, asia, united\n",
      "musician: actor, writer, singer, author, actress, result, poet, politician, nine, deaths\n",
      "dance: music, rock, traditional, majority, classical, influence, age, battle, variety, famous\n",
      "\n",
      "\n"
     ]
    },
    {
     "name": "stderr",
     "output_type": "stream",
     "text": [
      "9000it [02:52, 48.80it/s]"
     ]
    },
    {
     "name": "stdout",
     "output_type": "stream",
     "text": [
      "| epoch   4 |  9000/32580 batches | loss    1.331 \n",
      "money: them, able, battle, result, represented, perhaps, time, even, interest, idea\n",
      "lion: appeal, town, introduction, region, replaced, rest, province, israel, north, sea\n",
      "africa: america, china, germany, europe, india, south, france, coast, asia, united\n",
      "musician: actor, writer, singer, author, actress, result, poet, politician, nine, deaths\n",
      "dance: music, rock, traditional, majority, classical, influence, age, battle, variety, famous\n",
      "\n",
      "\n"
     ]
    },
    {
     "name": "stderr",
     "output_type": "stream",
     "text": [
      "9442it [03:01, 50.10it/s]"
     ]
    },
    {
     "name": "stdout",
     "output_type": "stream",
     "text": [
      "| epoch   4 |  9500/32580 batches | loss    1.331 \n",
      "money: them, able, battle, result, represented, perhaps, time, even, interest, idea\n",
      "lion: appeal, town, introduction, region, replaced, rest, province, israel, north, sea\n",
      "africa: america, china, germany, europe, india, south, france, coast, asia, united\n",
      "musician: actor, writer, singer, author, actress, result, poet, politician, nine, deaths\n",
      "dance: music, rock, traditional, majority, classical, influence, age, battle, variety, famous\n",
      "\n",
      "\n"
     ]
    },
    {
     "name": "stderr",
     "output_type": "stream",
     "text": [
      "10001it [03:11, 34.49it/s]"
     ]
    },
    {
     "name": "stdout",
     "output_type": "stream",
     "text": [
      "| epoch   4 | 10000/32580 batches | loss    1.332 \n",
      "money: them, able, battle, result, represented, perhaps, time, even, interest, idea\n",
      "lion: appeal, town, introduction, region, replaced, rest, province, israel, north, sea\n",
      "africa: america, china, germany, europe, india, south, france, coast, asia, united\n",
      "musician: actor, writer, singer, author, actress, result, poet, politician, nine, deaths\n",
      "dance: music, rock, traditional, majority, classical, influence, age, battle, variety, famous\n",
      "\n",
      "\n"
     ]
    },
    {
     "name": "stderr",
     "output_type": "stream",
     "text": [
      "10499it [03:21, 48.39it/s]"
     ]
    },
    {
     "name": "stdout",
     "output_type": "stream",
     "text": [
      "| epoch   4 | 10500/32580 batches | loss    1.332 \n",
      "money: them, able, battle, result, represented, perhaps, time, even, interest, idea\n",
      "lion: appeal, town, introduction, region, replaced, rest, province, israel, north, sea\n",
      "africa: america, china, germany, europe, india, south, france, coast, asia, united\n",
      "musician: actor, writer, singer, author, actress, result, poet, politician, nine, deaths\n",
      "dance: music, rock, traditional, majority, classical, influence, age, battle, variety, famous\n",
      "\n",
      "\n"
     ]
    },
    {
     "name": "stderr",
     "output_type": "stream",
     "text": [
      "10901it [03:29, 49.39it/s]"
     ]
    },
    {
     "name": "stdout",
     "output_type": "stream",
     "text": [
      "| epoch   4 | 11000/32580 batches | loss    1.331 \n",
      "money: them, able, battle, result, represented, perhaps, time, even, interest, idea\n",
      "lion: appeal, town, introduction, region, replaced, rest, province, israel, north, sea\n",
      "africa: america, china, germany, europe, india, south, france, coast, asia, united\n",
      "musician: actor, writer, singer, author, actress, result, poet, politician, nine, deaths\n",
      "dance: music, rock, traditional, majority, classical, influence, age, battle, variety, famous\n",
      "\n",
      "\n"
     ]
    },
    {
     "name": "stderr",
     "output_type": "stream",
     "text": [
      "11499it [03:39, 47.51it/s] "
     ]
    },
    {
     "name": "stdout",
     "output_type": "stream",
     "text": [
      "| epoch   4 | 11500/32580 batches | loss    1.329 \n",
      "money: them, able, battle, result, represented, perhaps, time, even, interest, idea\n",
      "lion: appeal, town, introduction, region, replaced, rest, province, israel, north, sea\n",
      "africa: america, china, germany, europe, india, south, france, coast, asia, united\n",
      "musician: actor, writer, singer, author, actress, result, poet, politician, nine, deaths\n",
      "dance: music, rock, traditional, majority, classical, influence, age, battle, variety, famous\n",
      "\n",
      "\n"
     ]
    },
    {
     "name": "stderr",
     "output_type": "stream",
     "text": [
      "12000it [03:50, 49.65it/s]"
     ]
    },
    {
     "name": "stdout",
     "output_type": "stream",
     "text": [
      "| epoch   4 | 12000/32580 batches | loss    1.329 \n",
      "money: them, able, battle, result, represented, perhaps, time, even, interest, idea\n",
      "lion: appeal, town, introduction, region, replaced, rest, province, israel, north, sea\n",
      "africa: america, china, germany, europe, india, south, france, coast, asia, united\n",
      "musician: actor, writer, singer, author, actress, result, poet, politician, nine, deaths\n",
      "dance: music, rock, traditional, majority, classical, influence, age, battle, variety, famous\n",
      "\n",
      "\n"
     ]
    },
    {
     "name": "stderr",
     "output_type": "stream",
     "text": [
      "12495it [03:58, 131.94it/s]"
     ]
    },
    {
     "name": "stdout",
     "output_type": "stream",
     "text": [
      "| epoch   4 | 12500/32580 batches | loss    1.332 \n",
      "money: them, able, battle, result, represented, perhaps, time, even, interest, idea\n",
      "lion: appeal, town, introduction, region, replaced, rest, province, israel, north, sea\n",
      "africa: america, china, germany, europe, india, south, france, coast, asia, united\n",
      "musician: actor, writer, singer, author, actress, result, poet, politician, nine, deaths\n",
      "dance: music, rock, traditional, majority, classical, influence, age, battle, variety, famous\n",
      "\n",
      "\n"
     ]
    },
    {
     "name": "stderr",
     "output_type": "stream",
     "text": [
      "13001it [04:08, 32.18it/s] "
     ]
    },
    {
     "name": "stdout",
     "output_type": "stream",
     "text": [
      "| epoch   4 | 13000/32580 batches | loss    1.333 \n",
      "money: them, able, battle, result, represented, perhaps, time, even, interest, idea\n",
      "lion: appeal, town, introduction, region, replaced, rest, province, israel, north, sea\n",
      "africa: america, china, germany, europe, india, south, france, coast, asia, united\n",
      "musician: actor, writer, singer, author, actress, result, poet, politician, nine, deaths\n",
      "dance: music, rock, traditional, majority, classical, influence, age, battle, variety, famous\n",
      "\n",
      "\n"
     ]
    },
    {
     "name": "stderr",
     "output_type": "stream",
     "text": [
      "13500it [04:19, 49.36it/s]"
     ]
    },
    {
     "name": "stdout",
     "output_type": "stream",
     "text": [
      "| epoch   4 | 13500/32580 batches | loss    1.332 \n",
      "money: them, able, battle, result, represented, perhaps, time, even, interest, idea\n",
      "lion: appeal, town, introduction, region, replaced, rest, province, israel, north, sea\n",
      "africa: america, china, germany, europe, india, south, france, coast, asia, united\n",
      "musician: actor, writer, singer, author, actress, result, poet, politician, nine, deaths\n",
      "dance: music, rock, traditional, majority, classical, influence, age, battle, variety, famous\n",
      "\n",
      "\n"
     ]
    },
    {
     "name": "stderr",
     "output_type": "stream",
     "text": [
      "13992it [04:27, 80.94it/s] "
     ]
    },
    {
     "name": "stdout",
     "output_type": "stream",
     "text": [
      "| epoch   4 | 14000/32580 batches | loss    1.330 \n",
      "money: them, able, battle, result, represented, perhaps, time, even, interest, idea\n",
      "lion: appeal, town, introduction, region, replaced, rest, province, israel, north, sea\n",
      "africa: america, china, germany, europe, india, south, france, coast, asia, united\n",
      "musician: actor, writer, singer, author, actress, result, poet, politician, nine, deaths\n",
      "dance: music, rock, traditional, majority, classical, influence, age, battle, variety, famous\n",
      "\n",
      "\n"
     ]
    },
    {
     "name": "stderr",
     "output_type": "stream",
     "text": [
      "14496it [04:37, 50.43it/s]"
     ]
    },
    {
     "name": "stdout",
     "output_type": "stream",
     "text": [
      "| epoch   4 | 14500/32580 batches | loss    1.329 \n",
      "money: them, able, battle, result, represented, perhaps, time, even, interest, idea\n",
      "lion: appeal, town, introduction, region, replaced, rest, province, israel, north, sea\n",
      "africa: america, china, germany, europe, india, south, france, coast, asia, united\n",
      "musician: actor, writer, singer, author, actress, result, poet, politician, nine, deaths\n",
      "dance: music, rock, traditional, majority, classical, influence, age, battle, variety, famous\n",
      "\n",
      "\n"
     ]
    },
    {
     "name": "stderr",
     "output_type": "stream",
     "text": [
      "14996it [04:48, 50.79it/s]"
     ]
    },
    {
     "name": "stdout",
     "output_type": "stream",
     "text": [
      "| epoch   4 | 15000/32580 batches | loss    1.337 \n",
      "money: them, able, battle, result, represented, perhaps, time, even, interest, idea\n",
      "lion: appeal, town, introduction, region, replaced, rest, province, israel, north, sea\n",
      "africa: america, china, germany, europe, india, south, france, coast, asia, united\n",
      "musician: actor, writer, singer, author, actress, result, poet, politician, nine, deaths\n",
      "dance: music, rock, traditional, majority, classical, influence, age, battle, variety, famous\n",
      "\n",
      "\n"
     ]
    },
    {
     "name": "stderr",
     "output_type": "stream",
     "text": [
      "15498it [04:56, 52.78it/s] "
     ]
    },
    {
     "name": "stdout",
     "output_type": "stream",
     "text": [
      "| epoch   4 | 15500/32580 batches | loss    1.335 \n",
      "money: them, able, battle, result, represented, perhaps, time, even, interest, idea\n",
      "lion: appeal, town, introduction, region, replaced, rest, province, israel, north, sea\n",
      "africa: america, china, germany, europe, india, south, france, coast, asia, united\n",
      "musician: actor, writer, singer, author, actress, result, poet, politician, nine, deaths\n",
      "dance: music, rock, traditional, majority, classical, influence, age, battle, variety, famous\n",
      "\n",
      "\n"
     ]
    },
    {
     "name": "stderr",
     "output_type": "stream",
     "text": [
      "16000it [05:06, 49.81it/s]"
     ]
    },
    {
     "name": "stdout",
     "output_type": "stream",
     "text": [
      "| epoch   4 | 16000/32580 batches | loss    1.333 \n",
      "money: them, able, battle, result, represented, perhaps, time, even, interest, idea\n",
      "lion: appeal, town, introduction, region, replaced, rest, province, israel, north, sea\n",
      "africa: america, china, germany, europe, india, south, france, coast, asia, united\n",
      "musician: actor, writer, singer, author, actress, result, poet, politician, nine, deaths\n",
      "dance: music, rock, traditional, majority, classical, influence, age, battle, variety, famous\n",
      "\n",
      "\n"
     ]
    },
    {
     "name": "stderr",
     "output_type": "stream",
     "text": [
      "16498it [05:16, 50.55it/s]"
     ]
    },
    {
     "name": "stdout",
     "output_type": "stream",
     "text": [
      "| epoch   4 | 16500/32580 batches | loss    1.336 \n",
      "money: them, able, battle, result, represented, perhaps, time, even, interest, idea\n",
      "lion: appeal, town, introduction, region, replaced, rest, province, israel, north, sea\n",
      "africa: america, china, germany, europe, india, south, france, coast, asia, united\n",
      "musician: actor, writer, singer, author, actress, result, poet, politician, nine, deaths\n",
      "dance: music, rock, traditional, majority, classical, influence, age, battle, variety, famous\n",
      "\n",
      "\n"
     ]
    },
    {
     "name": "stderr",
     "output_type": "stream",
     "text": [
      "16997it [05:24, 54.24it/s] "
     ]
    },
    {
     "name": "stdout",
     "output_type": "stream",
     "text": [
      "| epoch   4 | 17000/32580 batches | loss    1.333 \n",
      "money: them, able, battle, result, represented, perhaps, time, even, interest, idea\n",
      "lion: appeal, town, introduction, region, replaced, rest, province, israel, north, sea\n",
      "africa: america, china, germany, europe, india, south, france, coast, asia, united\n",
      "musician: actor, writer, singer, author, actress, result, poet, politician, nine, deaths\n",
      "dance: music, rock, traditional, majority, classical, influence, age, battle, variety, famous\n",
      "\n",
      "\n"
     ]
    },
    {
     "name": "stderr",
     "output_type": "stream",
     "text": [
      "17497it [05:34, 49.84it/s]"
     ]
    },
    {
     "name": "stdout",
     "output_type": "stream",
     "text": [
      "| epoch   4 | 17500/32580 batches | loss    1.331 \n",
      "money: them, able, battle, result, represented, perhaps, time, even, interest, idea\n",
      "lion: appeal, town, introduction, region, replaced, rest, province, israel, north, sea\n",
      "africa: america, china, germany, europe, india, south, france, coast, asia, united\n",
      "musician: actor, writer, singer, author, actress, result, poet, politician, nine, deaths\n",
      "dance: music, rock, traditional, majority, classical, influence, age, battle, variety, famous\n",
      "\n",
      "\n"
     ]
    },
    {
     "name": "stderr",
     "output_type": "stream",
     "text": [
      "17997it [05:44, 52.74it/s]"
     ]
    },
    {
     "name": "stdout",
     "output_type": "stream",
     "text": [
      "| epoch   4 | 18000/32580 batches | loss    1.331 \n",
      "money: them, able, battle, result, represented, perhaps, time, even, interest, idea\n",
      "lion: appeal, town, introduction, region, replaced, rest, province, israel, north, sea\n",
      "africa: america, china, germany, europe, india, south, france, coast, asia, united\n",
      "musician: actor, writer, singer, author, actress, result, poet, politician, nine, deaths\n",
      "dance: music, rock, traditional, majority, classical, influence, age, battle, variety, famous\n",
      "\n",
      "\n"
     ]
    },
    {
     "name": "stderr",
     "output_type": "stream",
     "text": [
      "18496it [05:52, 53.83it/s] "
     ]
    },
    {
     "name": "stdout",
     "output_type": "stream",
     "text": [
      "| epoch   4 | 18500/32580 batches | loss    1.335 \n",
      "money: them, able, battle, result, represented, perhaps, time, even, interest, idea\n",
      "lion: appeal, town, introduction, region, replaced, rest, province, israel, north, sea\n",
      "africa: america, china, germany, europe, india, south, france, coast, asia, united\n",
      "musician: actor, writer, singer, author, actress, result, poet, politician, nine, deaths\n",
      "dance: music, rock, traditional, majority, classical, influence, age, battle, variety, famous\n",
      "\n",
      "\n"
     ]
    },
    {
     "name": "stderr",
     "output_type": "stream",
     "text": [
      "18999it [06:02, 50.36it/s]"
     ]
    },
    {
     "name": "stdout",
     "output_type": "stream",
     "text": [
      "| epoch   4 | 19000/32580 batches | loss    1.331 \n",
      "money: them, able, battle, result, represented, perhaps, time, even, interest, idea\n",
      "lion: appeal, town, introduction, region, replaced, rest, province, israel, north, sea\n",
      "africa: america, china, germany, europe, india, south, france, coast, asia, united\n",
      "musician: actor, writer, singer, author, actress, result, poet, politician, nine, deaths\n",
      "dance: music, rock, traditional, majority, classical, influence, age, battle, variety, famous\n",
      "\n",
      "\n"
     ]
    },
    {
     "name": "stderr",
     "output_type": "stream",
     "text": [
      "19501it [06:12, 36.11it/s]"
     ]
    },
    {
     "name": "stdout",
     "output_type": "stream",
     "text": [
      "| epoch   4 | 19500/32580 batches | loss    1.336 \n",
      "money: them, able, battle, result, represented, perhaps, time, even, interest, idea\n",
      "lion: appeal, town, introduction, region, replaced, rest, province, israel, north, sea\n",
      "africa: america, china, germany, europe, india, south, france, coast, asia, united\n",
      "musician: actor, writer, singer, author, actress, result, poet, politician, nine, deaths\n",
      "dance: music, rock, traditional, majority, classical, influence, age, battle, variety, famous\n",
      "\n",
      "\n"
     ]
    },
    {
     "name": "stderr",
     "output_type": "stream",
     "text": [
      "19999it [06:20, 50.10it/s] "
     ]
    },
    {
     "name": "stdout",
     "output_type": "stream",
     "text": [
      "| epoch   4 | 20000/32580 batches | loss    1.334 \n",
      "money: them, able, battle, result, represented, perhaps, time, even, interest, idea\n",
      "lion: appeal, town, introduction, region, replaced, rest, province, israel, north, sea\n",
      "africa: america, china, germany, europe, india, south, france, coast, asia, united\n",
      "musician: actor, writer, singer, author, actress, result, poet, politician, nine, deaths\n",
      "dance: music, rock, traditional, majority, classical, influence, age, battle, variety, famous\n",
      "\n",
      "\n"
     ]
    },
    {
     "name": "stderr",
     "output_type": "stream",
     "text": [
      "20501it [06:31, 32.18it/s]"
     ]
    },
    {
     "name": "stdout",
     "output_type": "stream",
     "text": [
      "| epoch   4 | 20500/32580 batches | loss    1.328 \n",
      "money: them, able, battle, result, represented, perhaps, time, even, interest, idea\n",
      "lion: appeal, town, introduction, region, replaced, rest, province, israel, north, sea\n",
      "africa: america, china, germany, europe, india, south, france, coast, asia, united\n",
      "musician: actor, writer, singer, author, actress, result, poet, politician, nine, deaths\n",
      "dance: music, rock, traditional, majority, classical, influence, age, battle, variety, famous\n",
      "\n",
      "\n"
     ]
    },
    {
     "name": "stderr",
     "output_type": "stream",
     "text": [
      "21000it [06:41, 49.22it/s]"
     ]
    },
    {
     "name": "stdout",
     "output_type": "stream",
     "text": [
      "| epoch   4 | 21000/32580 batches | loss    1.329 \n",
      "money: them, able, battle, result, represented, perhaps, time, even, interest, idea\n",
      "lion: appeal, town, introduction, region, replaced, rest, province, israel, north, sea\n",
      "africa: america, china, germany, europe, india, south, france, coast, asia, united\n",
      "musician: actor, writer, singer, author, actress, result, poet, politician, nine, deaths\n",
      "dance: music, rock, traditional, majority, classical, influence, age, battle, variety, famous\n",
      "\n",
      "\n"
     ]
    },
    {
     "name": "stderr",
     "output_type": "stream",
     "text": [
      "21498it [06:49, 48.82it/s] "
     ]
    },
    {
     "name": "stdout",
     "output_type": "stream",
     "text": [
      "| epoch   4 | 21500/32580 batches | loss    1.333 \n",
      "money: them, able, battle, result, represented, perhaps, time, even, interest, idea\n",
      "lion: appeal, town, introduction, region, replaced, rest, province, israel, north, sea\n",
      "africa: america, china, germany, europe, india, south, france, coast, asia, united\n",
      "musician: actor, writer, singer, author, actress, result, poet, politician, nine, deaths\n",
      "dance: music, rock, traditional, majority, classical, influence, age, battle, variety, famous\n",
      "\n",
      "\n"
     ]
    },
    {
     "name": "stderr",
     "output_type": "stream",
     "text": [
      "21997it [07:00, 47.25it/s]"
     ]
    },
    {
     "name": "stdout",
     "output_type": "stream",
     "text": [
      "| epoch   4 | 22000/32580 batches | loss    1.331 \n",
      "money: them, able, battle, result, represented, perhaps, time, even, interest, idea\n",
      "lion: appeal, town, introduction, region, replaced, rest, province, israel, north, sea\n",
      "africa: america, china, germany, europe, india, south, france, coast, asia, united\n",
      "musician: actor, writer, singer, author, actress, result, poet, politician, nine, deaths\n",
      "dance: music, rock, traditional, majority, classical, influence, age, battle, variety, famous\n",
      "\n",
      "\n"
     ]
    },
    {
     "name": "stderr",
     "output_type": "stream",
     "text": [
      "22500it [07:10, 50.58it/s]"
     ]
    },
    {
     "name": "stdout",
     "output_type": "stream",
     "text": [
      "| epoch   4 | 22500/32580 batches | loss    1.331 \n",
      "money: them, able, battle, result, represented, perhaps, time, even, interest, idea\n",
      "lion: appeal, town, introduction, region, replaced, rest, province, israel, north, sea\n",
      "africa: america, china, germany, europe, india, south, france, coast, asia, united\n",
      "musician: actor, writer, singer, author, actress, result, poet, politician, nine, deaths\n",
      "dance: music, rock, traditional, majority, classical, influence, age, battle, variety, famous\n",
      "\n",
      "\n"
     ]
    },
    {
     "name": "stderr",
     "output_type": "stream",
     "text": [
      "23000it [07:19, 49.21it/s] "
     ]
    },
    {
     "name": "stdout",
     "output_type": "stream",
     "text": [
      "| epoch   4 | 23000/32580 batches | loss    1.328 \n",
      "money: them, able, battle, result, represented, perhaps, time, even, interest, idea\n",
      "lion: appeal, town, introduction, region, replaced, rest, province, israel, north, sea\n",
      "africa: america, china, germany, europe, india, south, france, coast, asia, united\n",
      "musician: actor, writer, singer, author, actress, result, poet, politician, nine, deaths\n",
      "dance: music, rock, traditional, majority, classical, influence, age, battle, variety, famous\n",
      "\n",
      "\n"
     ]
    },
    {
     "name": "stderr",
     "output_type": "stream",
     "text": [
      "23499it [07:31, 48.01it/s]"
     ]
    },
    {
     "name": "stdout",
     "output_type": "stream",
     "text": [
      "| epoch   4 | 23500/32580 batches | loss    1.333 \n",
      "money: them, able, battle, result, represented, perhaps, time, even, interest, idea\n",
      "lion: appeal, town, introduction, region, replaced, rest, province, israel, north, sea\n",
      "africa: america, china, germany, europe, india, south, france, coast, asia, united\n",
      "musician: actor, writer, singer, author, actress, result, poet, politician, nine, deaths\n",
      "dance: music, rock, traditional, majority, classical, influence, age, battle, variety, famous\n",
      "\n",
      "\n"
     ]
    },
    {
     "name": "stderr",
     "output_type": "stream",
     "text": [
      "23909it [07:40, 51.74it/s]"
     ]
    },
    {
     "name": "stdout",
     "output_type": "stream",
     "text": [
      "| epoch   4 | 24000/32580 batches | loss    1.339 \n",
      "money: them, able, battle, result, represented, perhaps, time, even, interest, idea\n",
      "lion: appeal, town, introduction, region, replaced, rest, province, israel, north, sea\n",
      "africa: america, china, germany, europe, india, south, france, coast, asia, united\n",
      "musician: actor, writer, singer, author, actress, result, poet, politician, nine, deaths\n",
      "dance: music, rock, traditional, majority, classical, influence, age, battle, variety, famous\n",
      "\n",
      "\n"
     ]
    },
    {
     "name": "stderr",
     "output_type": "stream",
     "text": [
      "24498it [07:50, 49.13it/s] "
     ]
    },
    {
     "name": "stdout",
     "output_type": "stream",
     "text": [
      "| epoch   4 | 24500/32580 batches | loss    1.333 \n",
      "money: them, able, battle, result, represented, perhaps, time, even, interest, idea\n",
      "lion: appeal, town, introduction, region, replaced, rest, province, israel, north, sea\n",
      "africa: america, china, germany, europe, india, south, france, coast, asia, united\n",
      "musician: actor, writer, singer, author, actress, result, poet, politician, nine, deaths\n",
      "dance: music, rock, traditional, majority, classical, influence, age, battle, variety, famous\n",
      "\n",
      "\n"
     ]
    },
    {
     "name": "stderr",
     "output_type": "stream",
     "text": [
      "25001it [08:00, 33.89it/s]"
     ]
    },
    {
     "name": "stdout",
     "output_type": "stream",
     "text": [
      "| epoch   4 | 25000/32580 batches | loss    1.332 \n",
      "money: them, able, battle, result, represented, perhaps, time, even, interest, idea\n",
      "lion: appeal, town, introduction, region, replaced, rest, province, israel, north, sea\n",
      "africa: america, china, germany, europe, india, south, france, coast, asia, united\n",
      "musician: actor, writer, singer, author, actress, result, poet, politician, nine, deaths\n",
      "dance: music, rock, traditional, majority, classical, influence, age, battle, variety, famous\n",
      "\n",
      "\n"
     ]
    },
    {
     "name": "stderr",
     "output_type": "stream",
     "text": [
      "25476it [08:07, 343.07it/s]"
     ]
    },
    {
     "name": "stdout",
     "output_type": "stream",
     "text": [
      "| epoch   4 | 25500/32580 batches | loss    1.332 \n",
      "money: them, able, battle, result, represented, perhaps, time, even, interest, idea\n",
      "lion: appeal, town, introduction, region, replaced, rest, province, israel, north, sea\n",
      "africa: america, china, germany, europe, india, south, france, coast, asia, united\n",
      "musician: actor, writer, singer, author, actress, result, poet, politician, nine, deaths\n",
      "dance: music, rock, traditional, majority, classical, influence, age, battle, variety, famous\n",
      "\n",
      "\n"
     ]
    },
    {
     "name": "stderr",
     "output_type": "stream",
     "text": [
      "25996it [08:18, 50.92it/s] "
     ]
    },
    {
     "name": "stdout",
     "output_type": "stream",
     "text": [
      "| epoch   4 | 26000/32580 batches | loss    1.332 \n",
      "money: them, able, battle, result, represented, perhaps, time, even, interest, idea\n",
      "lion: appeal, town, introduction, region, replaced, rest, province, israel, north, sea\n",
      "africa: america, china, germany, europe, india, south, france, coast, asia, united\n",
      "musician: actor, writer, singer, author, actress, result, poet, politician, nine, deaths\n",
      "dance: music, rock, traditional, majority, classical, influence, age, battle, variety, famous\n",
      "\n",
      "\n"
     ]
    },
    {
     "name": "stderr",
     "output_type": "stream",
     "text": [
      "26500it [08:28, 49.19it/s]"
     ]
    },
    {
     "name": "stdout",
     "output_type": "stream",
     "text": [
      "| epoch   4 | 26500/32580 batches | loss    1.328 \n",
      "money: them, able, battle, result, represented, perhaps, time, even, interest, idea\n",
      "lion: appeal, town, introduction, region, replaced, rest, province, israel, north, sea\n",
      "africa: america, china, germany, europe, india, south, france, coast, asia, united\n",
      "musician: actor, writer, singer, author, actress, result, poet, politician, nine, deaths\n",
      "dance: music, rock, traditional, majority, classical, influence, age, battle, variety, famous\n",
      "\n",
      "\n"
     ]
    },
    {
     "name": "stderr",
     "output_type": "stream",
     "text": [
      "26585it [08:30, 52.05it/s]\n"
     ]
    },
    {
     "ename": "KeyboardInterrupt",
     "evalue": "",
     "output_type": "error",
     "traceback": [
      "\u001b[0;31m---------------------------------------------------------------------------\u001b[0m",
      "\u001b[0;31mKeyboardInterrupt\u001b[0m                         Traceback (most recent call last)",
      "Cell \u001b[0;32mIn[88], line 4\u001b[0m\n\u001b[1;32m      1\u001b[0m \u001b[38;5;28;01mfor\u001b[39;00m epoch \u001b[38;5;129;01min\u001b[39;00m \u001b[38;5;28mrange\u001b[39m(\u001b[38;5;241m1\u001b[39m, NUM_EPOCHS \u001b[38;5;241m+\u001b[39m \u001b[38;5;241m1\u001b[39m):\n\u001b[1;32m      2\u001b[0m     epoch_start_time \u001b[38;5;241m=\u001b[39m time\u001b[38;5;241m.\u001b[39mtime()\n\u001b[0;32m----> 4\u001b[0m     \u001b[43mtrain\u001b[49m\u001b[43m(\u001b[49m\u001b[43mtrain_dl\u001b[49m\u001b[43m,\u001b[49m\u001b[43m \u001b[49m\u001b[43mmodel\u001b[49m\u001b[43m,\u001b[49m\u001b[43m \u001b[49m\u001b[43moptimizer\u001b[49m\u001b[43m,\u001b[49m\u001b[43m \u001b[49m\u001b[43mepoch\u001b[49m\u001b[43m)\u001b[49m\n\u001b[1;32m      5\u001b[0m     \u001b[38;5;66;03m# We have a learning rate scheduler here\u001b[39;00m\n\u001b[1;32m      6\u001b[0m     \n\u001b[1;32m      7\u001b[0m     \u001b[38;5;66;03m# Basically, given the state of the optimizer, this lowers the learning rate in a smart way\u001b[39;00m\n\u001b[1;32m      8\u001b[0m     scheduler\u001b[38;5;241m.\u001b[39mstep()\n",
      "Cell \u001b[0;32mIn[87], line 8\u001b[0m, in \u001b[0;36mtrain\u001b[0;34m(dataloader, model, optimizer, epoch)\u001b[0m\n\u001b[1;32m      5\u001b[0m total_acc, total_count, total_loss, total_batches \u001b[38;5;241m=\u001b[39m \u001b[38;5;241m0\u001b[39m, \u001b[38;5;241m0\u001b[39m, \u001b[38;5;241m0.0\u001b[39m, \u001b[38;5;241m0.0\u001b[39m\n\u001b[1;32m      6\u001b[0m log_interval \u001b[38;5;241m=\u001b[39m \u001b[38;5;241m500\u001b[39m\n\u001b[0;32m----> 8\u001b[0m \u001b[38;5;28;01mfor\u001b[39;00m idx, x_batch \u001b[38;5;129;01min\u001b[39;00m tqdm(\u001b[38;5;28menumerate\u001b[39m(dataloader)):\n\u001b[1;32m     10\u001b[0m     x_batch \u001b[38;5;241m=\u001b[39m x_batch[\u001b[38;5;241m0\u001b[39m]\n\u001b[1;32m     12\u001b[0m     batch_size \u001b[38;5;241m=\u001b[39m x_batch\u001b[38;5;241m.\u001b[39mshape[\u001b[38;5;241m0\u001b[39m]\n",
      "File \u001b[0;32m~/Projects/ADL/playground/A2/.venv/lib/python3.10/site-packages/tqdm/std.py:1181\u001b[0m, in \u001b[0;36mtqdm.__iter__\u001b[0;34m(self)\u001b[0m\n\u001b[1;32m   1178\u001b[0m time \u001b[38;5;241m=\u001b[39m \u001b[38;5;28mself\u001b[39m\u001b[38;5;241m.\u001b[39m_time\n\u001b[1;32m   1180\u001b[0m \u001b[38;5;28;01mtry\u001b[39;00m:\n\u001b[0;32m-> 1181\u001b[0m     \u001b[38;5;28;01mfor\u001b[39;00m obj \u001b[38;5;129;01min\u001b[39;00m iterable:\n\u001b[1;32m   1182\u001b[0m         \u001b[38;5;28;01myield\u001b[39;00m obj\n\u001b[1;32m   1183\u001b[0m         \u001b[38;5;66;03m# Update and possibly print the progressbar.\u001b[39;00m\n\u001b[1;32m   1184\u001b[0m         \u001b[38;5;66;03m# Note: does not call self.update(1) for speed optimisation.\u001b[39;00m\n",
      "File \u001b[0;32m~/Projects/ADL/playground/A2/.venv/lib/python3.10/site-packages/torch/utils/data/dataloader.py:631\u001b[0m, in \u001b[0;36m_BaseDataLoaderIter.__next__\u001b[0;34m(self)\u001b[0m\n\u001b[1;32m    628\u001b[0m \u001b[38;5;28;01mif\u001b[39;00m \u001b[38;5;28mself\u001b[39m\u001b[38;5;241m.\u001b[39m_sampler_iter \u001b[38;5;129;01mis\u001b[39;00m \u001b[38;5;28;01mNone\u001b[39;00m:\n\u001b[1;32m    629\u001b[0m     \u001b[38;5;66;03m# TODO(https://github.com/pytorch/pytorch/issues/76750)\u001b[39;00m\n\u001b[1;32m    630\u001b[0m     \u001b[38;5;28mself\u001b[39m\u001b[38;5;241m.\u001b[39m_reset()  \u001b[38;5;66;03m# type: ignore[call-arg]\u001b[39;00m\n\u001b[0;32m--> 631\u001b[0m data \u001b[38;5;241m=\u001b[39m \u001b[38;5;28;43mself\u001b[39;49m\u001b[38;5;241;43m.\u001b[39;49m\u001b[43m_next_data\u001b[49m\u001b[43m(\u001b[49m\u001b[43m)\u001b[49m\n\u001b[1;32m    632\u001b[0m \u001b[38;5;28mself\u001b[39m\u001b[38;5;241m.\u001b[39m_num_yielded \u001b[38;5;241m+\u001b[39m\u001b[38;5;241m=\u001b[39m \u001b[38;5;241m1\u001b[39m\n\u001b[1;32m    633\u001b[0m \u001b[38;5;28;01mif\u001b[39;00m \u001b[38;5;28mself\u001b[39m\u001b[38;5;241m.\u001b[39m_dataset_kind \u001b[38;5;241m==\u001b[39m _DatasetKind\u001b[38;5;241m.\u001b[39mIterable \u001b[38;5;129;01mand\u001b[39;00m \\\n\u001b[1;32m    634\u001b[0m         \u001b[38;5;28mself\u001b[39m\u001b[38;5;241m.\u001b[39m_IterableDataset_len_called \u001b[38;5;129;01mis\u001b[39;00m \u001b[38;5;129;01mnot\u001b[39;00m \u001b[38;5;28;01mNone\u001b[39;00m \u001b[38;5;129;01mand\u001b[39;00m \\\n\u001b[1;32m    635\u001b[0m         \u001b[38;5;28mself\u001b[39m\u001b[38;5;241m.\u001b[39m_num_yielded \u001b[38;5;241m>\u001b[39m \u001b[38;5;28mself\u001b[39m\u001b[38;5;241m.\u001b[39m_IterableDataset_len_called:\n",
      "File \u001b[0;32m~/Projects/ADL/playground/A2/.venv/lib/python3.10/site-packages/torch/utils/data/dataloader.py:675\u001b[0m, in \u001b[0;36m_SingleProcessDataLoaderIter._next_data\u001b[0;34m(self)\u001b[0m\n\u001b[1;32m    673\u001b[0m \u001b[38;5;28;01mdef\u001b[39;00m\u001b[38;5;250m \u001b[39m\u001b[38;5;21m_next_data\u001b[39m(\u001b[38;5;28mself\u001b[39m):\n\u001b[1;32m    674\u001b[0m     index \u001b[38;5;241m=\u001b[39m \u001b[38;5;28mself\u001b[39m\u001b[38;5;241m.\u001b[39m_next_index()  \u001b[38;5;66;03m# may raise StopIteration\u001b[39;00m\n\u001b[0;32m--> 675\u001b[0m     data \u001b[38;5;241m=\u001b[39m \u001b[38;5;28;43mself\u001b[39;49m\u001b[38;5;241;43m.\u001b[39;49m\u001b[43m_dataset_fetcher\u001b[49m\u001b[38;5;241;43m.\u001b[39;49m\u001b[43mfetch\u001b[49m\u001b[43m(\u001b[49m\u001b[43mindex\u001b[49m\u001b[43m)\u001b[49m  \u001b[38;5;66;03m# may raise StopIteration\u001b[39;00m\n\u001b[1;32m    676\u001b[0m     \u001b[38;5;28;01mif\u001b[39;00m \u001b[38;5;28mself\u001b[39m\u001b[38;5;241m.\u001b[39m_pin_memory:\n\u001b[1;32m    677\u001b[0m         data \u001b[38;5;241m=\u001b[39m _utils\u001b[38;5;241m.\u001b[39mpin_memory\u001b[38;5;241m.\u001b[39mpin_memory(data, \u001b[38;5;28mself\u001b[39m\u001b[38;5;241m.\u001b[39m_pin_memory_device)\n",
      "File \u001b[0;32m~/Projects/ADL/playground/A2/.venv/lib/python3.10/site-packages/torch/utils/data/_utils/fetch.py:54\u001b[0m, in \u001b[0;36m_MapDatasetFetcher.fetch\u001b[0;34m(self, possibly_batched_index)\u001b[0m\n\u001b[1;32m     52\u001b[0m \u001b[38;5;28;01melse\u001b[39;00m:\n\u001b[1;32m     53\u001b[0m     data \u001b[38;5;241m=\u001b[39m \u001b[38;5;28mself\u001b[39m\u001b[38;5;241m.\u001b[39mdataset[possibly_batched_index]\n\u001b[0;32m---> 54\u001b[0m \u001b[38;5;28;01mreturn\u001b[39;00m \u001b[38;5;28;43mself\u001b[39;49m\u001b[38;5;241;43m.\u001b[39;49m\u001b[43mcollate_fn\u001b[49m\u001b[43m(\u001b[49m\u001b[43mdata\u001b[49m\u001b[43m)\u001b[49m\n",
      "File \u001b[0;32m~/Projects/ADL/playground/A2/.venv/lib/python3.10/site-packages/torch/utils/data/_utils/collate.py:277\u001b[0m, in \u001b[0;36mdefault_collate\u001b[0;34m(batch)\u001b[0m\n\u001b[1;32m    216\u001b[0m \u001b[38;5;28;01mdef\u001b[39;00m\u001b[38;5;250m \u001b[39m\u001b[38;5;21mdefault_collate\u001b[39m(batch):\n\u001b[1;32m    217\u001b[0m \u001b[38;5;250m    \u001b[39m\u001b[38;5;124mr\u001b[39m\u001b[38;5;124;03m\"\"\"\u001b[39;00m\n\u001b[1;32m    218\u001b[0m \u001b[38;5;124;03m    Take in a batch of data and put the elements within the batch into a tensor with an additional outer dimension - batch size.\u001b[39;00m\n\u001b[1;32m    219\u001b[0m \n\u001b[0;32m   (...)\u001b[0m\n\u001b[1;32m    275\u001b[0m \u001b[38;5;124;03m        >>> default_collate(batch)  # Handle `CustomType` automatically\u001b[39;00m\n\u001b[1;32m    276\u001b[0m \u001b[38;5;124;03m    \"\"\"\u001b[39;00m\n\u001b[0;32m--> 277\u001b[0m     \u001b[38;5;28;01mreturn\u001b[39;00m \u001b[43mcollate\u001b[49m\u001b[43m(\u001b[49m\u001b[43mbatch\u001b[49m\u001b[43m,\u001b[49m\u001b[43m \u001b[49m\u001b[43mcollate_fn_map\u001b[49m\u001b[38;5;241;43m=\u001b[39;49m\u001b[43mdefault_collate_fn_map\u001b[49m\u001b[43m)\u001b[49m\n",
      "File \u001b[0;32m~/Projects/ADL/playground/A2/.venv/lib/python3.10/site-packages/torch/utils/data/_utils/collate.py:144\u001b[0m, in \u001b[0;36mcollate\u001b[0;34m(batch, collate_fn_map)\u001b[0m\n\u001b[1;32m    141\u001b[0m transposed \u001b[38;5;241m=\u001b[39m \u001b[38;5;28mlist\u001b[39m(\u001b[38;5;28mzip\u001b[39m(\u001b[38;5;241m*\u001b[39mbatch))  \u001b[38;5;66;03m# It may be accessed twice, so we use a list.\u001b[39;00m\n\u001b[1;32m    143\u001b[0m \u001b[38;5;28;01mif\u001b[39;00m \u001b[38;5;28misinstance\u001b[39m(elem, \u001b[38;5;28mtuple\u001b[39m):\n\u001b[0;32m--> 144\u001b[0m     \u001b[38;5;28;01mreturn\u001b[39;00m [collate(samples, collate_fn_map\u001b[38;5;241m=\u001b[39mcollate_fn_map) \u001b[38;5;28;01mfor\u001b[39;00m samples \u001b[38;5;129;01min\u001b[39;00m transposed]  \u001b[38;5;66;03m# Backwards compatibility.\u001b[39;00m\n\u001b[1;32m    145\u001b[0m \u001b[38;5;28;01melse\u001b[39;00m:\n\u001b[1;32m    146\u001b[0m     \u001b[38;5;28;01mtry\u001b[39;00m:\n",
      "File \u001b[0;32m~/Projects/ADL/playground/A2/.venv/lib/python3.10/site-packages/torch/utils/data/_utils/collate.py:144\u001b[0m, in \u001b[0;36m<listcomp>\u001b[0;34m(.0)\u001b[0m\n\u001b[1;32m    141\u001b[0m transposed \u001b[38;5;241m=\u001b[39m \u001b[38;5;28mlist\u001b[39m(\u001b[38;5;28mzip\u001b[39m(\u001b[38;5;241m*\u001b[39mbatch))  \u001b[38;5;66;03m# It may be accessed twice, so we use a list.\u001b[39;00m\n\u001b[1;32m    143\u001b[0m \u001b[38;5;28;01mif\u001b[39;00m \u001b[38;5;28misinstance\u001b[39m(elem, \u001b[38;5;28mtuple\u001b[39m):\n\u001b[0;32m--> 144\u001b[0m     \u001b[38;5;28;01mreturn\u001b[39;00m [\u001b[43mcollate\u001b[49m\u001b[43m(\u001b[49m\u001b[43msamples\u001b[49m\u001b[43m,\u001b[49m\u001b[43m \u001b[49m\u001b[43mcollate_fn_map\u001b[49m\u001b[38;5;241;43m=\u001b[39;49m\u001b[43mcollate_fn_map\u001b[49m\u001b[43m)\u001b[49m \u001b[38;5;28;01mfor\u001b[39;00m samples \u001b[38;5;129;01min\u001b[39;00m transposed]  \u001b[38;5;66;03m# Backwards compatibility.\u001b[39;00m\n\u001b[1;32m    145\u001b[0m \u001b[38;5;28;01melse\u001b[39;00m:\n\u001b[1;32m    146\u001b[0m     \u001b[38;5;28;01mtry\u001b[39;00m:\n",
      "File \u001b[0;32m~/Projects/ADL/playground/A2/.venv/lib/python3.10/site-packages/torch/utils/data/_utils/collate.py:121\u001b[0m, in \u001b[0;36mcollate\u001b[0;34m(batch, collate_fn_map)\u001b[0m\n\u001b[1;32m    119\u001b[0m \u001b[38;5;28;01mif\u001b[39;00m collate_fn_map \u001b[38;5;129;01mis\u001b[39;00m \u001b[38;5;129;01mnot\u001b[39;00m \u001b[38;5;28;01mNone\u001b[39;00m:\n\u001b[1;32m    120\u001b[0m     \u001b[38;5;28;01mif\u001b[39;00m elem_type \u001b[38;5;129;01min\u001b[39;00m collate_fn_map:\n\u001b[0;32m--> 121\u001b[0m         \u001b[38;5;28;01mreturn\u001b[39;00m \u001b[43mcollate_fn_map\u001b[49m\u001b[43m[\u001b[49m\u001b[43melem_type\u001b[49m\u001b[43m]\u001b[49m\u001b[43m(\u001b[49m\u001b[43mbatch\u001b[49m\u001b[43m,\u001b[49m\u001b[43m \u001b[49m\u001b[43mcollate_fn_map\u001b[49m\u001b[38;5;241;43m=\u001b[39;49m\u001b[43mcollate_fn_map\u001b[49m\u001b[43m)\u001b[49m\n\u001b[1;32m    123\u001b[0m     \u001b[38;5;28;01mfor\u001b[39;00m collate_type \u001b[38;5;129;01min\u001b[39;00m collate_fn_map:\n\u001b[1;32m    124\u001b[0m         \u001b[38;5;28;01mif\u001b[39;00m \u001b[38;5;28misinstance\u001b[39m(elem, collate_type):\n",
      "File \u001b[0;32m~/Projects/ADL/playground/A2/.venv/lib/python3.10/site-packages/torch/utils/data/_utils/collate.py:174\u001b[0m, in \u001b[0;36mcollate_tensor_fn\u001b[0;34m(batch, collate_fn_map)\u001b[0m\n\u001b[1;32m    172\u001b[0m     storage \u001b[38;5;241m=\u001b[39m elem\u001b[38;5;241m.\u001b[39m_typed_storage()\u001b[38;5;241m.\u001b[39m_new_shared(numel, device\u001b[38;5;241m=\u001b[39melem\u001b[38;5;241m.\u001b[39mdevice)\n\u001b[1;32m    173\u001b[0m     out \u001b[38;5;241m=\u001b[39m elem\u001b[38;5;241m.\u001b[39mnew(storage)\u001b[38;5;241m.\u001b[39mresize_(\u001b[38;5;28mlen\u001b[39m(batch), \u001b[38;5;241m*\u001b[39m\u001b[38;5;28mlist\u001b[39m(elem\u001b[38;5;241m.\u001b[39msize()))\n\u001b[0;32m--> 174\u001b[0m \u001b[38;5;28;01mreturn\u001b[39;00m \u001b[43mtorch\u001b[49m\u001b[38;5;241;43m.\u001b[39;49m\u001b[43mstack\u001b[49m\u001b[43m(\u001b[49m\u001b[43mbatch\u001b[49m\u001b[43m,\u001b[49m\u001b[43m \u001b[49m\u001b[38;5;241;43m0\u001b[39;49m\u001b[43m,\u001b[49m\u001b[43m \u001b[49m\u001b[43mout\u001b[49m\u001b[38;5;241;43m=\u001b[39;49m\u001b[43mout\u001b[49m\u001b[43m)\u001b[49m\n",
      "\u001b[0;31mKeyboardInterrupt\u001b[0m: "
     ]
    }
   ],
   "source": [
    "for epoch in range(1, NUM_EPOCHS + 1):\n",
    "    epoch_start_time = time.time()\n",
    "\n",
    "    train(train_dl, model, optimizer, epoch)\n",
    "    # We have a learning rate scheduler here\n",
    "    \n",
    "    # Basically, given the state of the optimizer, this lowers the learning rate in a smart way\n",
    "    scheduler.step()"
   ]
  },
  {
   "cell_type": "code",
   "execution_count": null,
   "id": "b0227888",
   "metadata": {
    "id": "b0227888"
   },
   "outputs": [],
   "source": []
  }
 ],
 "metadata": {
  "colab": {
   "provenance": []
  },
  "kernelspec": {
   "display_name": ".venv",
   "language": "python",
   "name": "python3"
  },
  "language_info": {
   "codemirror_mode": {
    "name": "ipython",
    "version": 3
   },
   "file_extension": ".py",
   "mimetype": "text/x-python",
   "name": "python",
   "nbconvert_exporter": "python",
   "pygments_lexer": "ipython3",
   "version": "3.12.8"
  }
 },
 "nbformat": 4,
 "nbformat_minor": 5
}
